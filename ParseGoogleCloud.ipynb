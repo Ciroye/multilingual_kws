{
 "cells": [
  {
   "cell_type": "code",
   "execution_count": 1,
   "metadata": {},
   "outputs": [],
   "source": [
    "import numpy as np\n",
    "import os\n",
    "import pandas as pd\n",
    "import sox\n",
    "import wave\n",
    "import logging\n",
    "import pydub \n",
    "from pydub.playback import play\n",
    "import time\n",
    "import csv\n",
    "import glob\n",
    "import shutil\n",
    "import json\n",
    "import matplotlib.pyplot as plt\n",
    "import seaborn as sns\n",
    "import nltk\n",
    "from typing import Set, List, Dict\n",
    "import functools"
   ]
  },
  {
   "cell_type": "code",
   "execution_count": 2,
   "metadata": {},
   "outputs": [],
   "source": [
    "from IPython.display import clear_output"
   ]
  },
  {
   "cell_type": "code",
   "execution_count": 3,
   "metadata": {},
   "outputs": [
    {
     "name": "stdout",
     "output_type": "stream",
     "text": [
      "number of mp3s in training set:  232975  - validated set:  854444\n"
     ]
    },
    {
     "name": "stderr",
     "output_type": "stream",
     "text": [
      "/home/mark/miniconda3/envs/deepspeech/lib/python3.8/site-packages/IPython/core/interactiveshell.py:3062: DtypeWarning: Columns (7) have mixed types.Specify dtype option on import or set low_memory=False.\n",
      "  has_raised = await self.run_ast_nodes(code_ast.body, cell_name,\n"
     ]
    }
   ],
   "source": [
    "clips_path = \"../mozilla_common_voice/clips/\" # english corpus\n",
    "train_df = pd.read_csv(\"../mozilla_common_voice/train.tsv\", sep=\"\\t\")\n",
    "val_df = pd.read_csv(\"../mozilla_common_voice/validated.tsv\", sep=\"\\t\")\n",
    "print(\"number of mp3s in training set: \", train_df.shape[0], \" - validated set: \", val_df.shape[0])"
   ]
  },
  {
   "cell_type": "code",
   "execution_count": 24,
   "metadata": {},
   "outputs": [
    {
     "data": {
      "text/plain": [
       "6"
      ]
     },
     "execution_count": 24,
     "metadata": {},
     "output_type": "execute_result"
    }
   ],
   "source": [
    "# there are NaNs in val_df.sentence\n",
    "val_df[val_df.sentence.isna()].shape[0]"
   ]
  },
  {
   "cell_type": "code",
   "execution_count": 4,
   "metadata": {},
   "outputs": [
    {
     "name": "stdout",
     "output_type": "stream",
     "text": [
      "854438\n"
     ]
    }
   ],
   "source": [
    "val_df.dropna(subset=['sentence'],inplace=True)\n",
    "print(val_df.shape[0])"
   ]
  },
  {
   "cell_type": "markdown",
   "metadata": {},
   "source": [
    "### Generating a micro dataset of 50 clips"
   ]
  },
  {
   "cell_type": "code",
   "execution_count": 52,
   "metadata": {},
   "outputs": [],
   "source": [
    "selected_clips=[]"
   ]
  },
  {
   "cell_type": "code",
   "execution_count": 16,
   "metadata": {},
   "outputs": [],
   "source": [
    "def listen_to_sample(df, ix, clips_path):\n",
    "    mp3_path = clips_path + df.iloc[ix].path\n",
    "    clip = pydub.AudioSegment.from_mp3(mp3_path)\n",
    "    play(clip)\n",
    "    return clip"
   ]
  },
  {
   "cell_type": "code",
   "execution_count": null,
   "metadata": {},
   "outputs": [],
   "source": [
    "sample = np.random.randint(df.shape[0])\n",
    "listen_to_sample(df=df, ix=sample, clips_path=clips_path)\n",
    "selected_clips.append(sample)\n",
    "print(len(selected_clips))"
   ]
  },
  {
   "cell_type": "code",
   "execution_count": null,
   "metadata": {},
   "outputs": [],
   "source": [
    "raise ValueError(\"warning: overwrites\")\n",
    "df.iloc[selected_clips].to_csv(\n",
    "    \"selected_clips.tsv\", sep=\"\\t\", quoting=csv.QUOTE_MINIMAL, index=False\n",
    ")"
   ]
  },
  {
   "cell_type": "code",
   "execution_count": 51,
   "metadata": {},
   "outputs": [],
   "source": [
    "selected = pd.read_csv(\"selected_clips.tsv\", sep=\"\\t\")"
   ]
  },
  {
   "cell_type": "code",
   "execution_count": 26,
   "metadata": {},
   "outputs": [],
   "source": [
    "for _, r in selected.iterrows():\n",
    "    mp3_path = clips_path + r.path\n",
    "    shutil.copy2(mp3_path, \"./micro_dataset\")"
   ]
  },
  {
   "cell_type": "markdown",
   "metadata": {},
   "source": [
    "Now, run `word_separator/transcribe_word_time_offsets.py` on `./micro_dataset`"
   ]
  },
  {
   "cell_type": "markdown",
   "metadata": {},
   "source": [
    "## Select keywords for word separation"
   ]
  },
  {
   "cell_type": "code",
   "execution_count": 9,
   "metadata": {},
   "outputs": [],
   "source": [
    "def clean_and_filter(keyword_set: Set[str], sentence: str) -> List[str]:\n",
    "    tokens = nltk.word_tokenize(sentence)\n",
    "    words = [word.lower() for word in tokens if word.isalpha()]\n",
    "    return list(filter(lambda w: w in keyword_set, words))"
   ]
  },
  {
   "cell_type": "code",
   "execution_count": 10,
   "metadata": {},
   "outputs": [
    {
     "name": "stdout",
     "output_type": "stream",
     "text": [
      "mp3s containing desired keywords 28301\n"
     ]
    }
   ],
   "source": [
    "keywords_set = set([\"up\", \"down\", \"three\"])\n",
    "\n",
    "# TODO(MMAZ) inefficient\n",
    "val_df['keywords'] = val_df.sentence.apply(functools.partial(clean_and_filter, keywords_set))\n",
    "\n",
    "val_df.dropna(subset=[\"keywords\"], inplace=True)\n",
    "usable = val_df.loc[val_df.keywords.transform(len) > 0]\n",
    "print(\"mp3s containing desired keywords\", usable.shape[0])"
   ]
  },
  {
   "cell_type": "code",
   "execution_count": 11,
   "metadata": {},
   "outputs": [],
   "source": [
    "# convert usable from slice, and add boolean columns for keyword presence\n",
    "usable = usable.copy()\n",
    "usable[\"up\"] = usable.keywords.apply(lambda l: \"up\" in l)\n",
    "usable[\"down\"] = usable.keywords.apply(lambda l: \"down\" in l)\n",
    "usable[\"three\"] = usable.keywords.apply(lambda l: \"three\" in l)"
   ]
  },
  {
   "cell_type": "code",
   "execution_count": 12,
   "metadata": {},
   "outputs": [
    {
     "data": {
      "image/png": "[encoded data removed]",
      "text/plain": [
       "<Figure size 432x288 with 1 Axes>"
      ]
     },
     "metadata": {},
     "output_type": "display_data"
    }
   ],
   "source": [
    "labels = [\"up\", \"down\", \"three\"]\n",
    "counts = [\n",
    "    usable.up.value_counts().loc[True],\n",
    "    usable.down.value_counts().loc[True],\n",
    "    usable.three.value_counts().loc[True],\n",
    "]\n",
    "fig, ax = plt.subplots()\n",
    "ax.set_xticks(range(len(labels)))\n",
    "ax.set_xticklabels(labels)\n",
    "fig.patch.set_facecolor('white')\n",
    "ax.bar(range(len(labels)), counts);"
   ]
  },
  {
   "cell_type": "code",
   "execution_count": 84,
   "metadata": {},
   "outputs": [],
   "source": [
    "# write to tsv\n",
    "usable.drop(columns=[\"keywords\"], axis=1).to_csv(\n",
    "    \"keywords_listen.tsv\", sep=\"\\t\", quoting=csv.QUOTE_MINIMAL, index=False\n",
    ")"
   ]
  },
  {
   "cell_type": "code",
   "execution_count": 13,
   "metadata": {},
   "outputs": [
    {
     "name": "stdout",
     "output_type": "stream",
     "text": [
      "28301\n"
     ]
    }
   ],
   "source": [
    "keywords = pd.read_csv(\"keywords_listen.tsv\", sep=\"\\t\")\n",
    "print(keywords.shape[0])"
   ]
  },
  {
   "cell_type": "code",
   "execution_count": 14,
   "metadata": {},
   "outputs": [],
   "source": [
    "# select 100 examples each from keywords where the column [up, down, three] == True\n",
    "NUM_SAMPLES = 2000\n",
    "up = keywords[keywords.up].sample(n=NUM_SAMPLES)\n",
    "down = keywords[keywords.down].sample(n=NUM_SAMPLES)\n",
    "three = keywords[keywords.three].sample(n=NUM_SAMPLES)"
   ]
  },
  {
   "cell_type": "code",
   "execution_count": 17,
   "metadata": {},
   "outputs": [
    {
     "name": "stdout",
     "output_type": "stream",
     "text": [
      "These three events welcome cars, trucks, and motorcycles.\n"
     ]
    },
    {
     "data": {
      "text/html": [
       "\n",
       "                    <audio controls>\n",
       "                        <source src=\"data:audio/mpeg;base64,SUQzBAAAAAAAI1RTU0UAAAAPAAADTGF2ZjU4LjI5LjEwMAAAAAAAAAAAAAAA//tUwAAAAAAAAAAAAAAAAAAAAAAASW5mbwAAAA8AAADqAACwQAAEBgkLDhETFRkbHSAiJSgqLC8yNDc5Oz9BQ0ZIS05QUlZYWl1fYmVnaWxvcXR2eHx+gYOFiYuNkJOVmJqcoKKkp6msr7Gzt7m7vsDCxsjKzdDS1dfZ3d/h5Obp7O7w9Pb4+/0AAAAATGF2YzU4LjU0AAAAAAAAAAAAAAAAJAJAAAAAAAAAsECYSMLTAAAAAAAAAAAAAAAAAAAA//tUxAADwAABpAAAACEIEtdAII6Q/3dj/6oqFFDDCxAy2k0+0mumRH/FYYYWh8UcYYWgOeJjJgHIhNAM5mDX5kw/NAMI0G8sZAgW9YhNAMIsQbxMZAgWf0LoGO7JX0WJmZBBByZOaCHMwpSxxAGxfo7vyuHF8Bgb6ISafTzp0OLd3jxP0ACTcDFwfl3+cqCI7apxD9eIIg7enU6Q6roORSRCMuPG3fgCUNbaMwSCHsgeOrrQmLGaBG24F1EyQgcO//tUxDSDSNi/AgGYbsIEF2FFh5sQKnTLWGayv40UDsAhxWQRMP9UmkZRZwDArGYjIERLDzUpL35mDUFzV5KzRKc6MKdC1epFalJII+0ecjCzMJwPzkgwokIgMASsgamTWgICCAPSpyzps1Wr3f/U3y2r/mUNoBNu/6xgAM8YSbMuZJ4cAoKg3ugKp25ffR48mVojO62dlc0XSYeggZWDjYNDohmPAJrhmQ0zMzcsPFm5li2Q4oMBTcFxsAj4QkIf//tUxCYAEVy5H61tloF1FSRxx5l4GYIRh6sYEGK9BASKgb2xFny1S2bcS1LE2Qsugd/4fkbL2XhkVSpAWy42XEwoHxIBC5VEtJZtBe0v1gXe8s/QZVEAAAAIARgIKjsyspjgIvNPK0xMDE85tizhTUhzDRt3yfY2lXJ1POKsV7G7ukVIWhssCRKUHXBPtwRL6IkFizDDlw226g8Qmhvy9iN75vI9TKYqE3cpZpPe6nOUqgG6AAAwLRUGExRuTgYn//tUxAcAivifJSw8a8FNlWPU9JsICJqjvybJfb2RyVjBAbGE5INlK9cYEJKH6QhzKI9DqLQ7COQQt7QdKeZ1UckK8S0TLghCDDf2Mu+UlowIPAZImgQeEgK4kFZgRlg8AkBciOA7DvblFaA5x2V1ZEtzmxuSpUB3q5vVR7G+rUwaLOMdUF0XJRD+JgaZumWnS9ogLhhqOtwESizAN7UaqeygvmA7n9xwh7STa0tLuQxM9VUBWAAASLCUCw7ldU4v//tUxAaDywSlHQY9L0k3lOPAl6ZQLIjQkkGLuL1njJ070Uf5tHWQVCkGIU4lCTk0yMHEEEck6JiWAbzEljvVyrY1VMoGFkECMmMkJ/bnhxlCig6LpZC0c8QTi0KTxLS4KTPMNyNEhxIThkGioFFx0aHAkKzxxlI4jbNUyj6HS5s6oL/sEEfSgP9VVhaJ5MrNPIqEiE6Oq0062YakUcjdVqXTEp4+anZOiUBqeynrFAAEcc112txWpPa7s7XFOLp///tUxAkAiwylGqfhlgFglOPYx6XgFkoZCRUiUTZoKclJhMKqT0VD1AbR0owK2opPgNKV23sOAVLPft2ESg3SsFsupvPUOmvMRdG3Luw1xxa98SQ8aWACKOt9MkzAgKFJwlI3XIaIcRyYFYWNrzuEhqZWoC8aS7TB2vEi5q0lShRCHC+LqhDe2Hij0CaZRChLWRMKzTYqG9QpCZJVkgQffWHk+ypCpPXSsoGTrRGsDmD5+vm1JlsAACAsRjkPVzZw//tUxAYAiliFISY9lElSFiOUl5npzZc0eCUS8UuHsqSZQ6Luh2ggjABo8GI/5SiCDhGT0JmxEkS44tHCYJn5/7Oql3uVrfNYiq8fiS5gj8FEoCtrS77aJ/4/v6wEAGwYHBxbWPJXBBaMiZEhC+iE1V7Moy/DcZy7FtHpLJiLNUKxMCvGsF0dAIMKslp4D5NhC0mhnkjRBcmDsnXmHGES5Wn0kUVGx33cdzaKs+8q/PVVEVkACBCB5hFR9k+PEYhD//tUxAeAyqyjHwS80QFaFOPgx5qQZKwCAKlCgwG3SGy9VKjS53qUQ5JHBR+PocQuJ+ioToRZRFhJzEkN8xtTR2pf1SI7IjNYnm6Wxz/OdguMMsu0DPE01OrcrQArgFhPVnswrmV69UQwcUgRR1MkNcmQ2AEhCQRcQTMK0NenUaLGlwMSXPM8TUY1HFcG9veJ5hl9zsLBS74BRhemqQZHM5O/L0NiyQPh8ax0VOEfR///MgGNAAAwMjeXUb/YHdZJ//tUxAcAiiiPIyY81Ik2FGRwx5qIIHDM4Sww4enKE0L1q9kzXlrEP8thuswcppjgJrOuEKfnAwrt6rY+L31pma+B0STUkS2FQMDDpEMk7uf6MMMvDpekdoIsuEAMBkTD6upZHH4VwKCMlCRaQ1Z2hqOkxWYWBkXXCTOKtR8JBrqGbrtnVMeUEDmUiI/eFIH1ec3CiOrt8mf1Xd0TYWBcFMrMr3NsqgwAAoBWrEy71FHWN3a5TrXRlOUp1DDaksY+//tUxA0AiiivHKS9KcEpk+Rkx5qIjjVqFGtRUJYusJRgwTTG8YKeF2YVUTgHCoDBTYynEPsIcZctFCo2tKnF8hnljrTrrRhiHFBhWogrAGA1M6R4/reXUJswFhIWtO0PnXWGj3rCIyWH6sSxuryAE2RSEIS2yqRLFIlkQcTWuxxPXPlTVjy7NW07ZLycDwaFknGcy63XRSr9gACgNWIj1yJnGHBLMSoDUPF6wrNPQPKlh4uKSZE64OR4HQDjgkMY//tUxBSAiPSnJSY8dgFSFWPYx6KQh0qEqSq7AwHoqlTXN6hg2+xgRmZF9uh2hnFRgG9M0mBBtSFlEd3q1RefiPCWk1VJSO4jEkFw+HkkDgZAeKwkyLJmroB/juIKhJhIW4KtJvSUVvEbWx+3QFYKIOJ2r1sTqzMolnNYYaPqTlps3///K//q9aoBqgAQ0z1mXoF6lk6Vr+OWDs9upYokPSayySCmOBASh68SB8G6wnTk/12+V63AcvqSPjIORARO//tUxBuAyOCrIQY8dkFCFOPgx47IROylRDHJIZDmCgMjUOKtmQVpgZHFtAP1NTllgeIA9YOTxeymH5VjY/Dq6rCcnAa4wMTwtoYWpLjiRhoKw7XFWor2bJrTUEIBCY4MiBU6doG4mmYo5aBCVSAz4WCf///+qhFsQACkJ83vRdMB+J4hkJc7ZWJh0gRPIjltnT0YFYrms63jGkzHMRXI1RWbQXKosp/fF8ete1TFIpLSow0ThDj3AVNS8k/9FpFw//tUxCUAiOSFIQY9NEk3maS0ww8BkBQANHIfK3axbTkIeh9H88xI9Ce2VfC0yJFUjJ0Wy/dQXAUFw/kkXrl6S1AZyTpcuHRQa3W2335kedIMbh15lCPMq55JFF4jrNOkDSLiAAAOBjAPE7l/NU4sOmY5HJEYegoaalYcguPeMJBxTHZVNQ7IZ1rB4g3GSmdipPbUKQUiRuZlSGU5aXBkTPD22eG3PDUtaoAGAMSCiWZKUqkohw8ygSBjRASWDETw//tUxDAAiSiPJYYYeAEilWPgl46QIAuUeMtCfLatL6dIAcwxTnVrCrL5SlrTPoLurkQ2wgIMqBwpkcn7hSnjXHNQQ2sf/DUQbQAI0jswVmvaXCOfByHrw8Lk6A8PJxOpxqMy8fk0gl9ecCg7CFmaLG+b1M/TQmIyaWubMzxs1V5PFn5qSGZJL5CoXAbrIV2/7jBJsA9QtgtQ+ny8PZLFRbYXF1FVIXr4s5KZo6MKREO3BEqE5lhIXLU/FhXHFJF+//tUxDyAyViNHwY9Ngkek+Qgx46Qnca+RQ8cGVaGpGKlPzI0pgzIuEBQmt7vqQoQHAAIwuCKFhLMt7NKN5JJxMekhlJ5ZgTM6RTb52d5mLJkm8UTkXVxLjCP9Clynx7A7krcVRMZJNeCxe8t6ip8brxbeSpMR0UEggGtQouJsirYvV7Wf/6CylbCAACTAA4EDmNuKdTITtEDhXYoHRxNhNKzR9Q4eLsBQniNLOWOACB8GRgRZqOl/iVxivSTqyGS//tUxEiACvCpHQS8ycEskST0Z6UI8+3ECi6xkSiiDjkciJg46nE9CJdiAAAIUAE7G9ee6CxkBEmK37rCn0Z6vg5acJi9CzBXUQ9oko9jY9KqEssGzlOqqJRTjIPb/akzpQ/poBCaJYyZTpYxc8PbABQBUIAACwLExcedlstCSSqIA9F5NHCuOES2zydtmiM/Xl8c7nY6LoQ7pGRT9OeJO7JH3O1o8LnCd+eKENnCFAMRkTDRJroJUpPS6hVaQABg//tUxEyACSSpJ6YgeAEpE+Rwww8AHLAQxMDZdqsAbRRow468rKPn/gsb9pZjqPE03hJFwo3IFKoKPEezxmgmDXbo59WWye9JiP9o3/e7dNVcv5kOaaOVyS2dA8iAgEnVjiv7+44Vixqvy0tXk5owqPYIp0qCHIiC1ncJowD9MASZRD0DDIhJpt6pX8s+I221mPMID2QA2SC1eVaNMWxfYHnolCm0YiAANgJKkiooiTIsnAweRjK42VkwY1ez6HCc//tUxFgAiYSrISM8y4EbkuPUx46RoaZ4qnqljQICwO08rVHZ8gUOtZGyVU7WPf5QajqlWs/98DygWBZ0YV2d7ECBaAADAc+gVkxX8lwOEQDPInh5GaZfR2gyVe/mWlFOdRpqE+RfHd9wRjsRrPDoWUhuDWTUp4Uombt0Tejp5COe2V0nJ2M/5MN9TbUqIAABVYDcKiJvLU+SfgBh7Uqmi64kj9lHutTqV1EWCDAlCU4DlxU6ukIpZ6XOiElKHSSr//tUxGQACRSlJYS9FEElkeQkl44h0r1M/VDUYxoac+sXx9xQlKwzQDNy2dekAkKAAAAQBZctiS9aRIGcCMPGI1NTG6blbed3IfykVKcMyE7KJLtRdketH+1NTLDBHIuCNeFJ2E//KfH3vh+HM2v7VBgTMMis7uKVKEwAAGA2FkfkR27OM34tE557zFtaWrwJ2Lj2SvNx6IpOJQgrA2XogIkRuTZdsSM5tW1CuGcbu0TY1NEP1Vh4YsdiJGcJ0EDZ//tUxHCACbjLKaYgeAEqk+QwZ5lw9fQAAhRAexWJ1LdCKbVcVJkmIUkTp+FHZsuOCRGdC5ImGh8yDhCtM0QIUpNx3kksnDVPnzWRtEsNNjdiMQYNvdo5tpEX3G2d/0on/QAASoAOsiXW8UkAPhINpuH6IF0JSMFyVtEFGwF1gG3BteYSuB8jCI/umxer6dndC0kRVtIGKzyD55LGRBdVMEyledxxxfz/84mG3HWgAAU6APREbi6aqp1gaA0QhRsI//tUxHmACPSrISYUegEoGKTokI+IMMkyscVekbKrojLIeCTKZEVFBg5TKrDgCulBzuNJDlBmokWY02+Ug+O5sK8hyj8Wij3rX/alGrkAAHAtElGRo+cZSIRICy002BPYrkuwRB5DJdIE13AOIR0hKV8vqdWPn0djgZ1Ex81bW6Vt/GIkb7M0USD65gNWvzbJXlha+AhtsC9yMrUbZDlLcPGT+xgiTlgwOT54kLSVc5IxmOY1G5FMxcka0ODVETrh//tUxIYACWSjJUSwdkkuFOU0kZsRXybxjBhh1N3zhv2XpggZhEIchMG1glnqGr0AADAtCNsooNOa4gA8RE4MtICglpEouapLXxZl7plaEPLDMUp8rby64on4zy+K12ZCarwp8tnCFTpEHSJVUmxto+adWeQqyqEFgAoaYmou5bDDZIDsMSREiFxpIPyGjzBPZkUqFj1qYpjqLmWrgpy/xE4iYj+z2X6seihaBAyGfV2qZihzHJwZCKlidKqqvkAA//tUxJAAyNifIyS8dkEZFiQgx47IAowIBGqjXoa9C2BeBExGKY4hKEJRDH2gBA0VLE6YjPgBIQLGggMRACeizsSmRhXJcaJSi7R5XzpQUQ/CA3H9/28o5WfYYp1/63/ZAknFAA4HmhU1FiijYRAgHkbSIMk6w+yQ+1ljSNE5XKxrJkWJQFzWDEmQhtdQBlS/I+sk2rUxUwuoCYFcVAgUO7F23f//e+u+0WoVWAAYugPIm6swwQsnB+tKqqp6fGSK//tUxJ8AiOSRIyS8dIEcFOQgl46QAUGpDqfLUiULKVUOS2O4I0XAlSqULO5ZotwmbESV7M/FkUnx8V0WjO+nxPt3e9c0rFufFSOKKdgQCZ8VELayX9zPpJAVMUJGZLhtoiErSym2cyGmsnjyaEecoCOhgkRmKdVvXRgFtaouX9svJtoG1M73W8FbyE5DUzG4ARCQGkmeaycFXQAAJBDUXxVDVnHIaAzdGg/xUbIZIXPRl8GwsaZLrenl9FHmvA0H//tUxK0AiehlJUYkzQkkDyRwl5qJQeWNeUzC8Cx8Nrks9W0tF7bB2HpPL3zUSbjvipT1m/2HIAIZTWcPtdSpDOEmfWE2XWAFIx83UjSm3hgQcFk4FBLpG3J0n0WujsQ4zk5UrBeZi5DMPNZieTxPbOtNFmcayoVEm1Hv1JCzk2ujkqa0ivjj9IkcYLNJAcN2FHAcANSLqzluhU0lLAQACXIxAQxNt0vUOWbEYuJBUYDc0nwaWrN0hF7GGgdJXBgN//tUxLYAiZipHwY80sEwlCPYl5pYsgspM2bRzQU6W3YxzVHvSbEveuSBCdSoRgcW5IREShVGGCIvPvPWbbE9HpSUUlGCAAbiiSQotsiRvAROPwbOpz1ddbLli2e2MH3S8TjMweNwnO0BLUgzqNc852fSmOdPjF9JX9beXMcybtSWyTche+gskk6EJTr/Y+PVTbkrRAA35zw8pGNo4gwQMAIAGIJFvjXw7CbNRGWULaAQAoMjw/StWqeVzY7u2/6Z//tUxL8AisypHyY9NEFYmWT0ZhZYx7WpiBYXQIloLl3jRSVU0SAONcPHqYsL+vetEv1ljXeWoXEwAAmj1ypTZcbKba0jLKUrrSs+D4oHFtPAWHzJ9x1EjQkoLk3RsBcMYJEYsZQjnKM68InsNyB60ueDKrAh8Ywu9w98YbnCjnPSRJzdtD6K5LrWab0AAFooGELbWxl0JlhACwoMNnEy7lEyo8SQKnzhBC0qJk7BCUiTZWTkRmsQ69DjnyOFD5XE//tUxL4ACkSrKaSEegE4k+SwZg14AYTLbD2DATBw2HcnbkFwK9cmUMnVfAXF2XBVLE63mqArC2gYMIoI5eKzY2hm0fEeGDqvB7osbZbeYKheFIWPkHhkmdSpX2FmgMZXV2MwTZxk3Bz/2MeamGgtxN8VaOtMylT2lXCjHKHw8qpRSXVAAIp6QJzMD/tJXoy5MGonCeVCWeOJu/EUbKayGxA8uOUpYPKlhl9p9z158429mL1Mkxi5fcZvheV1GQER//tUxMMACgSNKYMkdIFTFCSwxI6IOq6ypgJig8i8ltnldJNb9Ao3ev1JK0AABQLsV5oUdtw6gWCwXMICRA2ZoVTAMjXmeZUgsTYf0U6yVuB0wzqYF2qDBBZ5JG0SqTh8zxPdmPS37jLtynyF65uZhtr3EUKkdTPVrhleAABwOCrEJJq62VQ+0yh7iyYYjkWtZqwsrgrlhRmgMEvL14aJdGNRMTQno8YIlMBs9ydDCisg2cejTcj2Sni/hGJKMAAa//tUxMYAinCPIySwVIEzFOSklg4YNpU5JEpwIkpNOQAKEwdLaiJUDaYFIVcYIznbCcONuE8j1OvHjY3jnNskK+e+lGO9TqSKsSMj9zWdeW0L0zBmjbFTpVF7rco4wUKkanPr9aN/TrXwUbkcIABBdADRYD9ZfbQwllEIZuvK6GuT1eT3ju5/uLztMcawICETnFahBtGsMxLfs6u3/iAFvLaR7y6l0xOwpVgwzX2uzL3uH7FZ8AAHwsILpc7QM9XQ//tUxMsACoyjK6Swa8E9lWQkl5qIxmVTln1eKqv1J64/Xkm4lozpKWAVMSMsH6iHMJg87OZK3PbhaQsExINaJTgMkiqgdsXoFjyAGX7aainDMnVSOOsgAAmYAVXDQXI1u0xwtPDiWSOWoznFxy5kV3bUqXVsNUpwhqj7nJWJrjYFoXtA7AtKz8+qXGKZlxI8v9EusaKbt6pkukyizjtGs4AADAQLQ8EuNxZx6ugOqieou+SkNYXB7LxwRx5t5Ikn//tUxM6AycilISM9C4EzFKRQl415FEOAEQFoCJKEdQAk1PXB1IRWqhz/vSPHkU73cxaCNVcu3F+4Yji0QTa5++YbX/sqYngADIRD0NT8KVfZJoRwHCXBSu53NStB/LMFUxzeN+I/VisQZvsbOT8+gjUiXEsf7G6YHAlIEWHvmXYMnBMRNGtdVXYQThwsJBgnAyEia6kpwotu/fvEg2oKKs+AzN/s5M6wgW2BOhbJKS16vPFQwGmTxBNZRGqOBFsA//tUxNaACTCnKaYEegkrjqRkMzBYMgpVwKSuR5sbAO4UFoSi8dFk4TndirhZhxM9P8DYeUzmzQUKpIRmwCe3ziqKBSQACHRtGRUZkldr6MTDVY2rTKD4xVDqoLxaVSsaFWVXJs9IxAS4/kLRaEoWYhGVcWJlTrmmXCNJqdB0z3wFkd3vAzFPJh2XPUs0EhcLHnoZpFum7/6f/pW8k1IABRd1GH5cx6Qqm7UkCI6kNBFG6nymP8VNoW8VRxysgukS//tUxOGACWzHKaYM2IlFFePkww9BEGHBZU5QIRJWB+cDHBeAj7CVkh9zO8P8qKOU6WaqSn3hQRax0o/LU+qxp/SXCoZz1waFAXm7XZuyuflAAHwoaBcJQupwKK6EVCaaxO6JZo6tAojPMLuJycMvE45MiSNANX4njZoMP4rWOV5o6Cc4fJKKhEIkWA8NTPRTdUAVzGKCgIBIgtpnuOl1sMy+8kLrIgi1YqPUKbSNNauXa1HOUWgzz2aRom6CVaCf//tUxOiAysiJHQekeEFFE+NU9g8IFgJtuKilaglEp4M8NzlJDZOQYo1oIkjkf/UK5tyaQZjiM3tRl9++5OZ11B0daipWAGHBUKyhIygR6XBQhJgGkG8E0kMcEN2wvGB8cqsOs1RGLFjDHVwMZSm4kRG5zgMZjV72qKa8R8UUsrKGghPPMlsXhld0YF6aVsLs2xEEkKLokb5+WF2YZrToAaIDtytNpAqwHBOcEQLIFQctk62kqRjbifJeS/EFVJNR//tUxOoACxCjGwY80sF5IiV09I3gxFSJqf4cpkFIymo4GVgKVFohZYtfvafFqP1e0FLd+x/S6s6dhsHxrfBUIVakVYREUjFBhWtRF4uJi8aOFV4TgpBFRZeNnkGS6OMJXQ48OJjMDUmosygXsz1LZyBYDmP3AxLEvhkR07PnRbO1UZhHR04hTl/npseUmbMQ59sraB91t2dY/BBFhNQ0qKZ+AeKmahePA6rxJBTgZwhUTVUDtNRDU4eI7RcQUQ/g//tUxOQAiOyHJSSwdgFjmWNYx5ogPAzQ4AqkGKJUyspStiMU8fw29RhhsgMxbXGirGs6mfdqQwqVRlrQN5SbGGbfQgIARgVkxLEU56I5WjUFhVeNyoHsEYpK9RpHASSyfGA4iTFWB/NwBvB/BfvwxxDAniTHOhB0ngy5Uqo0/waRUTyEj99CFUtHs6dev1kLDoLQRn2jIQhhNIcQYL4A/W4qrQDgxEDYrHkTRSO0cJKSHpqXC83CBx6iF3pGi+jY//tUxOkBi2CtGqS8z0E4lGOkl6ZQGkSywBw5Fw6E+Mkm54KVIVIURG3iq0e64Z3pqjMbXnzJXPYKHH7nJEqi7G3K/JVCAGQmFBknTUSRqmhKPDxtbojgaRWj7TKtXB0kuaUPeIQlhXzxG+dQ+A4hSysAaA0AYj4hBoAbXE1DLCONpI2ZIyRtAxCuoPLt+oTP5VttmTzCSC5KxSQLSzybrEWlLGnUL2a14hXeoBQAQE0ViE1CXCpayMwcVKuKol4P//tUxOmDytC3FgZhkMFQlaLAx6ZZmJR/rNEK+mGskJuocjGZaaUrGSaDHDMikW8Mke3J2EvXrxDIO9dSgcOFpjvx+dl5tRF3iF4AAUDDh/A566t4XEocuYu06KR+Zm8BFWsHh2fC1vQk5UJSQ7V87zeH8ZapQ24Cx4zn3R5NRRro6SuQbDHRU09vRRxvpG95aCFRRjWPOuZajnYHDyz8o5E5GSAES5YFmRUCkxXVxkNggALVliYopUabhGEdiQFy//tUxOmAi8CpGKY9NIE2lOQkww8IzBEZZGGWVhAhISjgwcJnWFglQq0qm2HgnlHg4GYfGhdx5RyNWJdula87HPeK7+1JqaQqCABBcuaYubhI0KmFg0hMFEBAxrbOmkcnUAcVplE+Do4momoNAnoQclBjGmQgc48i2pC4BxzDiGydEOhpCIhR0LDcUbCzNSl/93CJlZ+Nav2UvDf/rYJLPNDyXvRFree6Hs2oWmpJYwACUpKM3U86x+2o2Dol2BAA//tUxOkAjLCtGKexOAEqFKRol46J5GOH4bS9nJjeh44cOA+TBQqQB06zKIiBOiiZl85LJxIJIE/1Kz0MIRKSK73Dll7hqxZ7VVrfVu2TacMqfyW2qwAAAoUEyJCIFn1vcns8QVESQzTMnkD8UR8wcD4yqKxaJaEDozIYiSOVIz5twkUYOpsHo858Mhc2h+vHodcqGNtGwkBjgfqLiwfl3/9Gz5tttKIgLxXt7KrmplgavBohGiZEYI7okZ48sivY//tUxOaACtStHsY81EFKEeU0lI04tFqheKJk0FBgLE4LHaLSwqBhhQcKi+D7GSCDd33rn/JDXFqFEEjbKaToXPsZ1CIABYGzMYUFq3tJ1iRMII1rVxXEBMOCjeG4e6uLNGkxViiKIGCQOKHsC3DC8BfjFLEwJWKpl5jOlgjYidMmQolCJpI0vYfm7nwutUHJdRZgUCrZXvje7zdfoSAwGx3YY25QMYteJyRYbGp4/mE1eZNAirziXaIJ4gZRmPDr//tUxOcADHTBGKS9LwFJE+V0ZI04FhBeRVogxIyXqFjJxSCIja1unsWLo42dnTkrmspPb/rP/1Z5ScDe/31GW9szG3mh1QEK4HANibBrjbiVYQGz5S7kYWkuhvJfaaO/qqCckafR3EARa1O106Z9I8EbWIF0JTw0y9ZrX3zU1Wo7UGz8Zqy5gXovHissiAkwKTAoPIiQiI2zB5VByHwMm5SJ7YZqfSX6lf89/+r96yacQMGi4hh65pwiOChC8Zjm//tUxOGAyiCpI0YUeAEnlOSQ9g04yhH69gxRNuxO1TrGt2TLEjz/K85DxYC4xDLOFySykWeyantunXIVCc06uyVuZPd6zBnaqzS4eQ7J54nGh6w1+v/T/zAFJAAAcCQsnZqTbscyRCAsseQHR9E9QbD8OKkkDyvdABNga0JInBuOZXDwKRMIwEBAxBaL9LCRJTJIfr3sju3uRk/X2+oqZNMmTdkGbBdCpJBLEAMJI5k8tvUi2IQrNC25gUkrUKhg//tUxOmBizCpGKY80QlOlWOkx6ZR1PXVnblKchYkuwoUj09CDcVJWmYf6sJcliQ1IJZEDkGhUwgqqaIquefXb+0yHlLWPftXKUf/LouV/+tHWio22QAAeDGgSUWZbxaXp0upYrlVWoLRm6ZHSa793s0GNfdsxYlgdTGYaEoK7A3+CmdarHhWiSsdMMkemilFPViKmMeaDiZqmQfQlKjHX8clJp0PPfoqjXYkXFdQfJ6J1LH2Us04snjBgO4FEAS9//tUxOgAjSCxFCZhLYFTlWPkx5pYrL6LO3CaqwZSXORwUsr66eh1kiSbMGQRAaE4+tzed9uOlNEc8w0QOVAXIPp/9ivRYwABQFixILD12XuvHqyrmKhVXI52ZSXevS+K88F2YSIZz/HwrBbwYUQbpyD0qSEc6AEw/FdoiLNsiBVQ9CZpBBKcFGK3JSU34kVKjhMFrRrCIpEBMeNoOQ9efdKOo+mhuq0ABfhi0bTKrscrUROuZWVEa6quWFB60bZG//tUxN6AihyrHySw0MFNlmPkx5pQTnw4MicNLAVTmxII3HgkG4EIgkumjbpqD9dQ6Z5oeRRjEDbtkgcYsXEDuV3Q0k3R3bFqaXxAAAGIAqGDJmw7aOPVRMJQfRsMpnGbMqbvG5+8lOYCeZEWQknI9mEhjpaHrU0x5wobhFiwK5Lck82wdrZdJxHU2SlaR7mn2al3KGOULumw52spQkSGACAOgddW319ViSFagnJKfE9g5oJxdWNEccFw6jmCI/FM//tUxOGBidijISY8csE4liQkx46QXsftg4xZXgt5qqBXps9kEuYLQzxHFwrIglBAgJGZrFSXieqkC70c+nHv8B92duXXrQQAQyC2pHqVut84OFwuGNUH6aLA9SSxDZCeEIKQ3x9EURpCT9UhDS6CCCKDYE0bSDmEvIk1Vih0NSgtXSAkK4gOT/d8ooiQ7vzELkKNswLAINAsQRijJBIzQzX4BkAUA8iVlnn6aPAKQjzmRVz8F5nT+pjRdlVi8Sig//tUxOiAC/idHMQ9KcE2lKSklg7AdCmxLSDO6G2nu781rzsoZYd7+1e08962Y6RMi/i//zDxwTGjhWgj4ZYIHBEPAGND0UYnHZTNMByJSoDhuPp8eo0Ni6Y/Jl4DWSxGoSMUHKgxXCGkQrRhRGUOE7Ceocn4auavStnLNFA6f7pr1zZMdIO+9yjguJGJVVVnMekWIqa1uhRUsyLaK0gISAheyzI4xMkxGYG11QdB8gtPpySQbXmaW3IbbTYw1Brj//tUxOcAiqjRIUY8dIFOlWOkx46RGWwuS0gMqpe5S0VqviwWHGSQVDViBorLb+dKaDg80pxprOmMUscYuONOGNrI17l31guv//Ic52X6l/pVJZdZQAABVgCMcUMq++BAdGh3OXSlVHd09bXMOxOeS31ped8pDocgyYXHy8rpIWm2LwZGBAVKnnmjhRp8goQKFnHBfcweHb3rpZczH6FJoAAAoCkfqGtoaGV2EpLHogL1BwsFKcdDJgsxqtcMSKcG//tUxOgAizSnGKY8y8ExmSSolg6QBHpUxySGmU0weAg0JxIDYnSGxbPNhGQok4Jpyb6rM/K76Ul2XS7qBhzgt1EnrPJF4hbARiw4lXnZcmAAEXbAhQHIJb58spc+SiGZOzUGUJw6Wqz0xezperAIODAFAfQaoNiZV47MXSmP+14fdqt/s8EjJw1357CiPXapR+4V5K4t1193RShWbAAAAIgPC0xgV+mg19bAIxz7FkPiw0tQ1p8VSwjUuE4lOg3A//tUxOqAi5SzGqY80wF2mSNgnCF4KBcCxUBoSjkCxNMEPnrs0d6tlpPdfeqgkfObrPaYuKy17oGPmITaiXXyg1ER+JoJHjD/rWe/AAAoGBKOS5HhuH5xcsk4wMxyPh0Kj48maNYask4x4YoY8TgiLMjGmWQwVWm2Y4oIcYiROEo9JsMr3efAS4ny6jWIjrO1ZIUBI88NLfeHHdP2b04zOB0fmZao3RDw6L68fiy1W6TD8zGymMRUuvIQpUPKRySp//tUxOKACZhlJ6GxhwFjFCPkx6ZIfVaLiLoYZnMw8V5SVJofzCxtdbUYZZEF3JVuGo/tfbBo6k5I/lET8hTaHe1sCz5cLK6JC4+IR6WiAvMyIdG8gCBHYhh/IdBO9GIST9cBIQYBfwgIbCMGeFyErCRiOk6PAIxAfXaHtdxjGpMTirGa4jEBPJs8lHdFJukM110Zlm2INNM9VrUO2KlACIZNY6LYaw3X0fx0p6Z844gJPv1CdBzFiN1jNpiO9kHe//tUxOUACeCpLaYkzEFjGWQoxYtIf0E1SmNAigritfUTaKErSZOXWZmjByAo5eQGzUF59L3Ldrg+9QRIYn4UQVUute4AAQCwPozFYz2N2eMVyClUqHkqhYTA5KpNbJY/oj9iDwuTA6aStCXbqhxJS0GKO25RDgKORKwMkeKHX+7dikta8n3AkTyiGeoNRip9zjxuZeYdrfWFCSCYMY3BJbM6/clNRpTapXdoeXHlUnShR5eUnyGnufqHFCfalXAd//tUxOaAyrifHyY81EE0FaOUx5pZRqq1WuJ0iYwMLNpGdXSW0+lNDn1uqq7yfuHWU2OqpUGptrGhokp79XtX9KoFKQAAJBY/bLCJCLy4VQlYAWIBOTBhUZGCdchL0eavNx4MBXGYeYwjpUh6j8L2oj+Qk0ScOEBYRLuHBbhiemg5eGXA3ee2es+Z9U8lF2NHkjpW0rXSLjNlKF73Tv9ZKWAGhpbOTn4qV/0pDDhaoQKHJfhRmF3lTejFBIfCmPBQ//tUxOqAi3StFgY9L0lDleOg9JsAGiVQsQkKEne1nQcLm/XCaO+Czu5qtsfX7rcTfzACuA3tuCUigkU0OT88v8OEzjGJgBuzthGZgAAkJK5EYvdXRQ63czLwIDydrFRfHw4Ojoc/hNSGYsNjeQg9ziA2PyQKo7V989QGRMzqJ9MMMOWr23U8UtF9YV33Gf/bZk8cDKAvQdMHAck3uOPR7yld2+/7O2W3b2QgJufUXYhPIsnWhKQFgYYPFzRAYDJM//tUxOmBiqSjHMZhNEFMFOPkx6aIqWnKLeppzbXZ1vS6iJs8monpv5/qsg1UjIiu8OIf9MgVISFjRcVfIiohkTAmiUapHbuO007svSUFAAAgNXh0+cXmKbpacw8TXjR5ESyqScRsxgM5zKUpDMNov6SPEajmTxGE0NxdJsKIgu2yNFbd366HuUpbXv/3igVMAm2mKfQ21YAMAIToQ/LlCHaz9XhcJIYl9WRh2PdUr7JMiYJ9kaP4YTaWE7iMmK0i//tUxOqAi7SnHSS80sFUmGPkx45guhpRBFVWcYQocx5priMYVImkaLSAut2ZZipBpNSjENdNlZNtGmcFZszJhpUfRt/+7///8goVmAAAeSp69A2vXpsIa0kqT5wvqT8xKA6mJghCA2ChdBIS1WH2qUEX8uoKk3iAF5K/KJTgCScaaSHRz1oIXXitXKtylUZlmJDa2NROLL1te8p92Y8Lhqzf+2fw09mb8/CAYDkNJJ1oSH8g+oe/wi9IeGiVUwAU//tUxOaAC6inHSY9NEFBlKY0ZI14l+/0NxHEQtSIRy9YMDIeCwWrXMUqlf+rK2mmQers6sxhRZm0gNpMqZo9ffI/Vcqeuhz2jn0u97/cyh9ahPt3zNsnxg2X1/yTpWTb/+a3+PurGf4BYAPCGPxyAOgCYSyJCYG1mUBvpZCFfM9TcrRJTPUVmmu+cIATlk/BhUl81Y+TB1CJHsoDSbH+okajV00h7bKlXRrbl5lQ26bO1tkZNlo/dZiEVTd9W/0X//tUxOUAiWSZHyY80oF1FaMgx6XgZvRnOcDhDkOEV5Gk9wgwyvnUpMOf//+HblqmnIFhqAIXthruy3+1W7BAwU01gSxU0bkmAWoL+GAgYB62/hiPSFrdHjMSzC5nUpFdniIc0EByUABk3It7rEi6AyPBxK1ArMDcmMXotgYo5SbTFSH0PhBDQ6yiNulqhJbIcqntDv+08OeOOUGJjo6uj///+pppypR//qrf//myX/NazKYA4XCKHCguBYIZbaTK//tUxOYADeD1HSY81EHhrKa8wb7wWHdjlVMAFJogLGMta+KIPmjo4ugzhTef5GrskpZ7ueFspNInu/4Wg746Tk9N3XKUzd/6N1W0juxl/cpn581UvENpiCwQIA1hYwASs939UESnI/8+BDiY80hV/9E//+5WP/+4dUAB4ILiqFGUPV0iwqmBU2QQZhwI5nOrJ7LoZ3zLZwqQBksHRk6OZikIym8QXZD8TgNtzBYXyB9IPHakD738y0CSKe1/JDPm//tUxMeAEFmBNaSLGUGCraa8wZ7Z1lxdUfhHTG1UaiRZ0Ha2sJjwERR45XS/6ux0Z/92lDpYdL1////9Q6xf+ssOjhrCLFe1xAachIAAkAJgYxG6KuY0jQG5huMymCwSLC9n7XmaQ/P9v1Iba3K1wKvMBAZKhkqQ6u5fI4ggLibX9Ul6pwUaQgGBnOp187nOd///7ZPw4DOhQIXUX9IQKChQymaQACw4StK667vzEfehRRcooJR0uAwdPhuEhnMe//tUxKsADYVvN+wYscHFLOf90xW5U5Bn//6EP/oPCoAAQyyzJHaWgLTGFCCk4mKGqHJzoE3iUUaBGY3nK5uWNIj7cX/bZQ8Vugk2LLwYMTVBSgGoTEhQCMMAKGgFI6FumdhjKdd5aj8V4GgPucNv3HG8RDAaxUDo7ziJul//6/mxDASiWECx8TTUjjAilctf8ojowEEe1Cn0b0eZz//9X7cDCmNVQCv9iRlsIcc4NkKK5Tyms/PZAMRtHAJ4YaUv//tUxJGAEEThQ64LFsIUm6q9qDNMTsDZt03joW06wn5OIg5PXN/sDEJuCAMQkGD+1pMvlOVgPJOSlqUaHgwQGNFCWYqONBXYdnqe//v/+naxxUcKjhd1OPqzmGvOPY5TH+gtKBRyFG//9FY77qeJiALyYrEgbCSEQ6OMcW+mX9Szl9gA21sAACkuP05iTiz0SHjbPEHoaAH46kUD4UEWsD49YqE4eAMlVsoiYYEML0pE58r+WB1SlG0s81XZwYFH//tUxGMAERVLbafk9rmlJyw1hhU6j/6vRryEYhuyEYTcg0fO5Ed0Z27oMu490VyB0J3b////8pnM48OH3ftGjiQAK+RgAAUl0ewEqQVGpKCXmjbawhW1+s3Zj1FKo5hdlf38Gb0tI+yDR0161YuZH4j+eJSO4phx4P//lP4f9/+ug9lQxN7P4fnWBoxXpHYaUWf/6neJAiRMtDwAe16AAAwJ4yEYBDoLXgJVWdzHVlcCv09Fx4oai9J3CtQXWwtH//tUxD+ACzzvZawkcpGHmqt1k48QVuYxSKeWW8KsDcIXI4Mnoq3endh6nmt+eftUWjhIJBMLm/R///O5ts005PaGppGAgQHKiiiIV/9DfhncTgAbY4AABSVRknqS4KPpFPWaj4nJYU6aSHm/tpzLEnV/YLiINrdOToWg8weIVGUN8qhZHFP9MzvvsK1eP9wabOfQRGDFDENNpNix5AqByZMNf81+V0AWSAAARJ0dTKKuh/6GL4qMRGsydnzMB/H0//tUxDcCCrh1Yaw9hZFimuv1hhVy7G7DKL1+F4eAlDV0ZAoWgyLRZTtOlST4lCc/HN/QOGHjjH/kO2jd/xl0nUUAW9GGsrspVMMcXe4OHQId/6/+srUACa2AAARJ0eqiQkKVKrVYTc0jLB1jHoaSYV1J+dr9O6BFyS58zYu81DUoSJCO/9DhHFMP56KbM3wERADYHFj4cZKnSoMf+QECNodkEESok4Oeh8F6EJXJwsJho7TIqz9YXSMgkLDWggxt//tUxDUACPB1Y6wwR9EyGq588ZXmcQFHFoQzRq5UvRHFhIcEBAf/N7/qfxMXM1LzallqxEQww5ipQ2S3fgEWIE21YBQMTvHA6Kg+F2gQH6oTnpfLqZfSsfuVmr6lJymGDZmWcqv+1iEEKQ5z/Iz8ikgbhBGgcW53yfz4RZ2c6n/sZezk/lmbMXcP4S3C038NwHnJvkUb7BwYHBgYExxYhluh285eEjADtzQAICJVlgkWHia8amfZ0kQ/KSy7nVfP//tUxECADPFDbaYJk9obri00kz6647ny/4aQGkpZBrvTQYaFhaICWlzCGe8vYMABYWeAJaHxrpUFn4LSLT///dvbF69Y//33vbBGNFkyZSAIEfXh++NJKiaK9zRZ95bbZkVjIf56EvNA5DnYTjc6X8dw8239GOIf7TrtSolsr40TwsoiVYh3URRASKdslUNCVE5yJCnGlkmNl4NZ/X/9bGtrX1eY9faxCs+jZAQpRgrHOcidFKIDxwDiDEYTJ/vI//tUxB6AC7Fte+SVN9kuLW+4wYn63/+iuh1MZTnr99X1/S9zGOyf9IdRMklrUXv0RqFIOzA1R3iZhUTQQXYH9MUUAujAXHKVDTGxbS5yRlQyhCvn7e3V/P7+VK5Dy1keFmlR0NP4Xvdstv/Xf1/0vI71RU6bU///f/QHI9ZX8I6TdmiZmWZoiQSS4hDD2NYZ+QBIJyCqTlLDC8Bp73tttt2xT8tS+dLp6ZjULVCx28iPsw8VUSRJfWvJpoFAGbPs//tUxB+ACYRngeewY9EvHO88wYpKT4oz60K+LH1goyWbDLK0TLuqrEQAADADM6H4fyyAgsDJkCYSrD0qPT1We/kz2pao1ULKPpQhH7Al+rhqO4hkcbL+qFUqs67f/xv6gjqUtBM1fJV/9nwgVEl1aJl3dUjIIAChCheRyerDoXlpiJFkCS2m1kx1NOTQGjEN/rVW7vd60OxpGPFlRP97ue9Mv/vX+13Wz1vN9rfVP//p/zA8CHydOnd3h4h3ZIyA//tUxCkACVFbeeYEUBkxkC588wlaAAbC1iEijQxGIXAfyKtQhBEESsN6Ow/GSZhfozz7m27urf8QMExpxT9JYeDRUAA0Heh/UdDTw6BA67uXf/V9ayjxVFcseHqYdnVPxAHI/CRmWlFMeQ6mNTqh/HyzRuz4iwrmHYmRM685k2oGxL4cDoqGib1D5A0aNnSTeqEdwUBrHOZfoIsPfgz8sUGHQqiNd2iYdmQ/0uEoOj4Y1HG0QhHC5AKqE4+eKIsB//tUxDMASWBlcceEcNEXjO24wKHicbEAgGWAqwqW4OQZ3gkNchJh24iGDDudo525eG31i3IKoTylAp6kFoAoN3d5mIZ1SRkEgmWRhOYkjSUh1HKumJvcmtEOGp4Jt9OskugNleHDUvJo4k36uyFRk/+/iyCzhm7qJI5S6thX7HPZ0qsd5pCjElETERDwyfKArKxk0OEbpG0IW0aoAOVoqCx5dlG8S5Kze4wLWrFMzJ7PyubV6XW5hanb4sAECr3f//tUxEAACQyvdeeMTxEkkK549IkirZVfWVNkvjoLL+nfoNiz1u6Fd2iXdmVLiRICoDhaHInH4SiGvEDFa1aUljpgsZWVVU0QmtXtMF0ip3f1I9ubzFa9v+iGMYzl//1//nqVM//ozp//7f/Y4Kob+Tyudlsyq4gSinFQSWdpZi2gItg5khrmQkK/WA0Smw5ksEwHiIshc0Xbl2PToUJPrqLmCMrgr9aRXWdo8zM7jIWhr60kjf8O/i7lBDtiKaAg//tUxEyACSVTccYMUNklia09lg0YVpbjdD4EGR1a0lZO13COv1ALRhkNoTWVFE+4TA4kcG1ioN3mMC2+3aoUIPDbyylGxVvg6PcR0eSMolSz+36EnJ35j8Cs5MACcAiNNSqUUCeydgNKIKKM3NoKG8NHzL+z+Pw5FY+avTjxDKMwQ8GsOCK1lOIp57592uXnRG3/z5ByBml/YywiEukfLCPyIhkvrGoVQT1qK0cjjcFSBt5TJMjyd1UyJ4iUFgM6//tUxFiACYhrWYyYUAEwFav1h4x4KdEq3ISB2TmWOE4/z0kIEc4zEEChgNIMojmhXtxCAgKIzxn7y4BzI4g8cPM8jg2N/LHkoFSxE2NySSCg+F9CD8WkIusQGxNQHA/rs1LL+EhSrUPuVrZEtQ9KSuszGKMxRbUvYz3f7Ndpok1dDR02r0NLLwYPbxQd2NYDT/7lICcgAhJjjkFTXZARJAHgd3Ir7gvfNB1hxJqFnpzmMBKzDXiKmF+RqiQw0vd6//tUxGGACWRldaekaXEpku608woeIicwPSw8QZqsIKFyBNJMcThmtwoh2m4r8qorZ/RXcQXK0QZf5BSqQ04ylDVL59NEhjjaR8PxFbI6WbeXgX2P7qxi89TVIgZGDCXeVWTS2CC39+b26URRJERiaJEtZk9YUTsZT//JqgD8AICkowrL6R2D3kL7LmTLyRqI23coWpb1LMr0TtKsZ7SgGILBJY9ER+RDIQ4rlmnpHTjlFco0z9W7+siY0xtuhisc//tUxGwASXRtbaexBbEeGa2w9Il+hnchDCpwDBGEpAuA02//CXicLgAyIgBAKODjbY2xkUnkc4G6cfyyKTY+WnFLHOxIRCGw8NCkeHUcsYYf8dMDzS5+yEzTyYkET/9f6M2nv3PV/8wfJyZpJmT////88/qOnMMDg+U/xMg0G5N6ACcZACAVj3HUh6roO7RpSj+hVkZWFkqaty5wnWmTFsvtj6dDhoh73IcwSOT/Xb6bP/nVSD0d/fKNV3r/6Y3B//tUxHeACtzVYUwpM5FiqWz1hhy6of9hBBAMsJBRCaLg0ca5GYokAldEWwmasn4uk/bTqWI82bcuVQUEWNIaEFfP/TKIYnjc7dz/L16Y4iJl4+rWn61BkKurNAsFQniez7dA4wyKB13fGwL5ARAjdw+BXoL8jLZateggaLROzJ8YtX+L7vT9dm2Fo9DSyJg8Knze8WckFbS3FzqYogBRP//17/1OvKhSq3qhplBl/T0///W6aMhlH+9a4L+AIBr4//tUxHUACGTRb6ekp5FDDm309iaOC8Zh/gwRLmkf1Er1gBRsKFSdZPCRUJJU2WeJ0nI8xOe6wqX6X15kiC/8n17Ef7Xpcg6N+ZgoU4ojqaX+KvXao8qCqZdz6A0qICsaJIAERcHO1uKYFAtFY2JUr6pReqlFNEo3MTrtHe86mU0YjtWrDllvVksaKT/uxu3mT8x9YM4lPWzsYKHN1b9hkVYr/J/ERmlCAGjGNkAU5DgVRiGHAMUnD9Glzg7JQnJQ//tUxICASgkraUwwspEzmm1o9Ily2Fjsli9Eio7Ec2s37k5KbLX50FRGOf/opX/TZLm3VL1rt9zBBA3oOL3YdxQyDupPWgt91SAtGQAQTGZBx9lSogGVKFcuwnGROcnAqUdx0m9S0qkHQtkWZbhWFK34o4QwWv+Q6tnPSx3o7Rtjgj9/6mBinDcBUi3BsGXd11awAnEAAA1YcTQEKL8E03sxfChVyoSfYkVVVszkB32kiSNGMi2Y5ZqHEVamqsog//tUxIcCCSjRcaekTPE0na2o9JV2Uz/582yV15qqkyiW+7cykUwoxQr4qbxSd2o5838pADkQJKSMbbHJ2bpFEJVhei2oFAdS5yqgMcJWE067NldEcOtKZpjCRq7lsqGKQE3/DhVY0WRWczLK1Ak+7/+dwwEpIs/CAiKhoifavE4a9drQTJAA1oIABK37iOggyXglpDdKpwnbl0HReWRmbijRX9mlwuyyDSKDqptVUViGBGHvJYjpwxw7/8+1J/yd//tUxJEACTDVbaewSPEuG6ww8wnfTMZnZl/7OzILdpHQhA53DucJEAR6U6UI54YWReoAv6JppOOIsYHYmIIqjH0PhCHQTVaCqRpXyyUFfwcxItyh3J6QtAAVnahuV+OVAjlrgoqkxezIzEbKOdW3X/6Jtoh1WgJoZn+DyDIqgsMJIXtAACkMRAQFJEaIDGYB1xeSYLIW1fJzV14ORB8MIxoCkDYqERpl1sJFUBVsNhxw8WSQ9WUTW7MalxJyGFqI//tUxJwAClTTY6eYTTFbHup1hInQcyU5qVsBBMehBs3/5PyIiKcQD7iALnv5nikGIIqcH0uqEDnHhkZ3btZK2gEjUahkdjuLxqHXIYTYf9MTphiWL+vWwXs6TQwCMgTHHVEka+n5ynytuaU5naheyu46ZZm/9//S56jwLmCJQciwXEzfuYYYfMqP//OvHYTpePf9IABUzGYkC7WCFkAiNgGoSBQHGmyWM1XSrlXEFIEi69zN0T3/u9QN9+M0oSG0//tUxJyACijxZaYMUTF0Hil9lJUoV9RYMFpp4LgBit1YcPuT/+NeAjTNQOE7P/6LqPIpAf0lFtuFOhcS6BkBD0LhGgSx3BU6ffsDxOOBgRi3xrKC9/a1VRCMd07bsOM5Di9/R5Gm/+U7B4TDAkcVMneTQko6UfLL/9ILP6B4qcb2OCpgICX4MgBuRmurlY2/T4NMDmKKJeIbtbuvcmBKWLqZMgdwRpWAU9OU7zM0WJefMspRUfIIvm2RiuJgEKej//tUxJqAC605X+YM9Okqjep88wmoVp84mLhr2ORUpdap2fT8l0q9t6bsRAzN+HcrWVuFVGvhAqxVAAdZTZDaIUHPF2TgLsTgpUshpVl+CDsCFkMbMHUEjF5c/Ix4oOh/gJ5BJnB/Xes2pnF8fc0zqDGbUUVKuFoZLRK+2/7f/ruiUKZTRd3Mj+qwQTT/6q3/9fkb/44yVoLQL4VW7lOe6dJsa46aFFHYzkMBuur1KoUSyaF5DBILFKJIF9h12A33//tUxJwACpzRX0eYrtFvGmzxhJaOTnYQGHDQ+v/9JrEJpMdS0lIUz/liwlDrfb/4c+0VE08qACgRApt2zrJEpXTGmEF2Qp4Nlxf6HQeUBHFqkFhKRUh1yFC9AbfZeq3BaXkkJvbvvbZ7HUpImNBx2X/0c1daOm1jWufZXsqyikzkc7/HygaEgFP9D/hj/1sHQZNBdAaRFCThqEnTpOhijEOIOwnjWojjV7CzMXZS++aakKtIWWaViW4Lf2vsLhQq//tUxJkAS+k/aaeUXLEfma2k8ZYeVAr8vyMjBIoqf9jVI4p7omltiEjEZm/Rw4s5/+wkWUC/1m/z1UC6IBbrV4glEdiHEPGEiECYcVBqgZOsK2LDx31Py2pqKPb/35Tly4sxr43UWklC4TILGTX5kpQpLv++eURd/9VVv/7XdP//T1P1OJoOK8vA3xANz5gQk2G0vQ7yAI0kEQ0kJNyctGhsYEirRudfP2Tib1ZVl1A4uZbo/sigwcUe3+mfRnIP//tUxJqAC7DvY0ww69FDnmzk8Q8mI2wTmw0Ap7UQd8RJb/7lUrGM2kUABJyiun056CoZQHAFQV3rmKaB6axJt0Mbf1Rq20tKuuWNguhPkSLJ9KkYKoSamVyIdVILX/+i09yMb2FLjxNd/WdRYaCkBn5T/9dLHBweAQSDgBUmENRqYaMUU9QCMkmKiMJsezCcR8rzRGq1n251WmH43HohKaMwt23TbQf7Jf1jQkMjj//2N+aZ0mE0VzCrv8k39n/3//tUxJiACeUzbUekq9Eqk22k9JWuEAISiwNhEQoeLAdAJRuUULGLqK8S8K0soSNfsqUXC6cWBcJxHPasLK+ruMMddNhI4YYUO9WeQdb/3Z2UjkD9tLhYpTn1+t0N//qqf//6P/qzEQ45deP2hTunA3nyCOQTwfwrRSgRpyMc3ZEJnXDAvnFC0VJs2fzoEjOmq6qVhqh4yuYpDDW/6Gs4wTMqUJs7K4k6OYRKVvqj//dBIQBFD4gV///+3tipYqJK//tUxKEACkzTXmwksNE6Fuzo8x5a83FkSWkxlSSOQLwcJdoKXTRutJxKRSqxHq9qjMq7Dz01VO5dI36W3UbaUPKdIyUdUB9+KUl2FlJMrARJxPpiNOgFw4HTP/rbEKIlOoILkhTSTkijGzGP9hJscY5y5xCNqdGGUACrGkw17ISvD3I4ZGJBmEvIgKsdq8THcmn/r/+5QqJQjsNrsiGf//1xbgYG8cEy75DFqLffB18HVF7Dc1bILBNkSQQrYKw6//tUxKYACbE3YueUUNlWJ6zk8xXPGoFi2IRxdgCAGkFVY1WqoLevlt0FHkcGdQTINa6lf9hxCurFB9890VrLs10fbM/+pAIU6XPP2Sa/QKtKFlILim6EwnGoQ/ULeF0p1ypXVfXl3solvfFStAglpF/xSAAoXSZxiil/XfL3+SJDQ4fVPc10fV3Zv15mf69FKGEIDfmnb8ftAFiYLACTkeFOk5AIjPE1hkrIdCI8KxUXIVsNhYU7IKilghLGrhEw//tUxKoACVBxb6eYbrExmm009I1W6OZwWBjIqcKrRhEyQOvqExRzxK5Cn6UDdvf73N2AQBscuos51agGVQAADcgphwshfVcapY9TdmK9FOYY51aYo6l/i45s1zx4wFR8YeyPSor+Yrupup9O0qet/2iqe8jArFY9yc63mVPs+X+/jU3xAi71in36aYGSKPWnVUyszJBZ4CseMbHCVigkTh/ogvqrRw4DfS6svemNWmjOlextkWeHau4EdZUBqEQB//tUxLQACWjTREykS8kqHeqlgYo3mqQiRzULPR1BXRXo7N6vfkYGchzhydJ351szV0mccYqvMz/z9cYUAEUIZbWRrOylO/FhgePkA9AeH478ak4mUvvr2VbCzp1e3FSCJeftnJUQyQSJdP2DspB/7BcZJZcUnq0QCwfLyyfbmXpZxITCQ7Rz4TjafPWWU79pVt/5YWVfbULudtlN3iFV3JtRQFgkKFEqEEAJoeCPhTNT6RW//NE4AAAxylxNyhhc//tUxL6ACZhXSawkZsICKOkphD3508JIJ5AABLZSDYHda/CG5y6cvkDgfATD06GFzy0eXQuhomFIExIDx46p/l8soWNLjrpxHQTFEVbHSl3PvUVqLIX1Ov//9u8////ArllSQVBIfhIKgrAkIoqKi3UqNVaHd2VqgAWbNGRdCt8sD8oYpQtE+jRfO1tDPYp2KL8zZB6Syttut6tMplgMw/W352x60GaGRcabpKsN+s7xp4RPOp71kajXpFWiT+4i//tUxK0AESlrVySJicoKri08PCMJIt67/+q+qEBEEyoYsg1XAmSViCJYhvp1pnYrmyJu7NMq/75UZ53UjMnverXLFEYqeWcFdTkWA25Ckf9VVN/IBpP+lvwjYKQnrr2r/MOYSgAAAKB85AkeE4wSByWl7HHhelGoWmZ+OBGxJV/qFlJ1cT5p3NrpUAYe8mFHyQdp00gV8Jdezo/0midv6hN8FBC88I8qsu3M2QABClD+Sk65fSIchsGKtxwGslBc//tUxHyACeBzdcYJkJEfDe58wI6Aa+6zt1or8zAYycrOdyaqo+pmpv2ZvT2XnJd//b/0LpoWv9FkY/f//r/5zEFbSQHabwpVirvbdDQQAALAqGTYNgKwDgGVU0ZUhOoes7k5TNsi95SQN0+ed2DWhBW0pfa7VKjP/vKaYvS//6fdH/Mj/9Uv/////VpgUPsdlZqauUMxEQARhCXLuvp5Jo1lB4quK0LhKdSRgRc4dZ14wMjCildUzyq0lsxKpM7R//tUxIaACRhtZ+YE0EEtqqx48xVgdhrI6zpO3r+taZd6FW5538qj0NUOcYJKe6y4ZUUQCLqUWwlcTRiMC00ruJKUrU0m2Qm3e+B97CXiZyEKo0K9Drs6qJDA6tp5grFajc3oYyOpb//1Zv1q0z/Q3+Ds+luyzM3/+2tsVZYupxD3I0DqqPwKn1BfBiDABklkWqNuLqG2WvBTCxnxCk5VBWxiThOmSKv0SIjGPBZCn1Vo7wDaREQazsPIIu9Qdrco//tUxJGACSFXX8SMT4EZjer49IzY8qqzb6yRAJNyAIcI2cxmARHgeCOKAZjkJRskEpa6sKRCURWgLJK4oKfDucEIpKbtngDsG1BFWIBoNl06gIWEL6mjMsPASlNihNPovlZGb6txIg2FwsMbBCNa4PNF1YPnnCNe4HMvyh91M3HUVXzvV68MTmUhBla82KKdex8tyO6dOVVPo/IiK0XuesIOvaL4u0Nsr4eRBsZsJACUlwEjMZFRVLNvOzZMEF2x//tUxJ8ACTUPU8ewQ8Eqjeuw9IzmjqqjOZKCszlUodmVxM4Bfpz9mf4tPK2jErWU1m7t2JeCnEvBfVD6m9iq52EiZG5q+DbG9PLfoIBP1tiUksgFC1iEOSnmqNwoKgaKBwwrFmE7ZmK+IsMwsydggNnZtaNtWIsQIFMF0UOOq5ZfPZmLK8Dr5NQA4HIQ/FBoPlL5F9PrAAAlLjAAAmqWAAAMCgGM70wMV06OfiKMRg0NZXsM0wgBQPmwYwmXYeGJ//tUxKoASXhxU6ewZZEgkeox3YiigOGHoLGCoSDQMGBYfkQ0BweMsD8Yy8hJRGj2hLtME4KMeB7o4Zo7y/GmO0v0E/xjD5UIapnMpVE1fUNzjRHAqJTiZzrl1lggRFaplS+cVBdzlnrbVdfvc6k1+yKsy5srq6yACnNIk5LIBKfZ3naZQC2dsNNoSMg9tItJnOcc4Sg3CPuJFA8BuPZuIR35WPkyJiohUFyBy/F/+m8DJ967w+FRwmWQ9LVm01m1//tUxLWACXilR62YTUEpFGy2sDAGI6fpAAABhQE1BKVqKWioL7nI8FFHDX8v4qiJnsvf6WOXTSB4LEvV0oH3HsT9P0REUk31/8CgcgmaLwYWf2ajSQZLId5dFYeDPrF/9SACAUcKKckAjjIW7NllyQ46RkrU3EgqeUZiswXTQtioxh9lC6yHHV7Okcqernnv12QXgVgGCBW/reY30acPZJN/wuPQ4TriwRu/YHEgAAFSFAOuMe1J226w+ocFzrpk//tUxMAAEXi3N5nXgAExFK03noAG8ddNuqiMH10IswNxogEALROlXDiEmqjw4NGPs/3GlFgHRv8qLv09Rw94TFmh52yPE7fP6fht33dSABALcaCv34gkkZUXQekB5J2+Q5SkzG/LXzSEmo3bpkh+jYs63KySyF3//+0hDM9/vSIQWFgsSARAnoGh/4n7ug2h9bvrJkBASSCuowuR1sT0ziTQUUnW/inmQJ3udK6iQY4Cbt8W9Rbxk1G2WdNP99kK//tUxKmACSRxWYyhkTEulGy1himegCGHv/eVy0mt3Boj8r7a/2Olv////+/7t0fUch+6AFlSE23wrsmYmqrOsEGRN6UEELgRJAkFJqFlJa/15wM/1Kssd/9LMYGd7f6KmytKx9eqlMdbN/dShh6fPC6iKoqSLI/7fZVQAJkg7t8MloLqUZiCvgPsapWqhDy4ppnasHQd2fMvREdvWu6jkB6/Xf93QIAKv/Xf297kT1IclPoigyl1BVTBJDdLCzbf//tUxLSACXSjZawkrPEZDe109g1i8wdkFhAiHLbhJGtogP+nCocFp2bNBdclFm2zPlHgmEwKEIbGFx9/fc2bEVjfL2cajjouGCWvNSVU9m/RlTRWZG/dkGiDf+v/hfxCPftVkECVETbfCUpjMqhxZiSIIYtY/A4TRmam10SLgg1ZBIAZuYiWBBkb9mIk8oxE/pRPO1Ds92lR4SIdP6slwMXdzQnHMSrQFPV7CqtYAAakBWXUcaiqnACeBSM1sXot//tUxMEACTE9ZUwYTVkbmi1phgjq+ByAjXnAyVJF5IjyK+o2RLM/c9JITu39mdHMUfJzf6M9W3abbX30tb+pIQDcNGfix0UZIfp++MUgAgqNlFyuAQixuJ3FxIQJyqTiWCZRGVXL7ijn+hkGKLnJQ8fxWIgAlmN+ylt3NYosZv/yL4/04VGHMKT1jur5xD+eqhhQe601QLdtAMGoAqS0CCSqIRqCqhYpgaiK4bsr5L7xRb7suzAMsjkRh2QkSyzQ//tUxM4CCTzPZ0eYTVElmiwpkxWqxqjjPkbJyXVvvPu5Mzb9CQX43/zuFC084Z1qgQGWmflm5flkRezuSFaFlEAlfvNXYvxtUEL0GqwogNlYVMuYUOYlD75xdNFk7fXPmYpJaGzAxa37eaq5PeUAI+7PrHGs/gT8DC5Hb0xJrZCeS+blolJI0Jp/7daC4blsivnJmQYQFBB2pljDf2AAVwBUlwDSiaSAqKbBA20ZXAziCBxGZgliVCEOOZWMIFVn//tUxNmACVTTZUwwRtEnmqvphJ1iqz1Z7KuRcWRCyjJu0HUh3z2wWEomxCOhKgODCTPowgQ1q8C1v4YZU6rG1H3/VR3u5koAApAAk7gJtMxwx0ZykbkjoftNyEcTEiIinlQYABxgFQaUYLtowjZ56BpYY8nOJJTruRcYAAVIlj+e4s8mz/d3hIZzLU2L/+EHQJtR54klwhUKR1aAAAXAIcFSstFcF8gQNGW2kDMBViPCrYrK5fJqiBkteVonFvLm//tUxOSACYDRZ6eYbzFnHCopgw4rieerwdD4SbiWuvDvWd2AWWFcwI5hlhVOZKhRv8nfpEH/7S+tU8y/L/Q2nBJ8gSL+7p5AAwAAU5AJE1RSpjTckDliNiahD8ymWZTg66w4fjmOzGOr32Hthc46bTRLEYHk2BdZu6XGKggqfE+vG5ner+Ux4cnxYMGlAvv4BKr1RtCt8AFjt0ggKAAt3Abbi6dRuK9VFH4eGafRA0WAZSJjNChdx5hc4uat+yqU//tUxOcACqz9UywYcPlQEaiphI2pXujGhcUz2xeXc0xtMMGBQ9ze5ueWZHb5nmRlVLPYND3VUOBI2RUcsQXHCJVQNB2ukEGQAFK4Dcj5DLT2sKVvA9a5WjIYiYjIAQnQOcWLy+9R8rY7N0OcaHg4UTiJjupZXVxATdjq9Lf9f91PDgoQr//r6ZyaoNB3C2neHsdyuDcAcCZPc2dbX+iW2CgASQIl7vFkaXZnUqgOnSsXW1GOUSAplVSsvlJzgfZW//tUxOeCCnzNQUyYbUFbnacdhg2puocBoCaE3/6UKS6pLy2/RVp0drFXIjwDgWiONf///+kxig8Njh4eLkUuSzyAkboT6wDACsuQPuXXM7zikuWjUX8R4REcuUuq4DdEb1xyGVmII3NnprRNMNFBjwhh5N0kN/t8yvZLCAUOguDUsIy7EjOX/KnzwJ/pxAUsyxUEAanXPOndS6DA5CUkdAhgziwAxTtvhAGTXFjScgVFgITHmuiEDAbJA2QRBkJL//tUxOeACmSPP0wwzQFWlagphg3gr1b1LqX+9SXTkW+pbz3/QKgAyBBuAo/kBDyPPLJS11dP3AHLy8vkBgyq//+TyRkMZXa6ASUXAboZE2ZpoCi4/xM/QFLoODCTdD5A9CgSDFQukYkGt2AtHlf28IjyG0+hTeXSFGGLrWkYwygvNRg/DyOc9Cuf/N/asWta2DqznwL8sokEgVCAAutcBD8yaAysYCGAXQPIlA0QrFkUYECzAJY3GEEiiw8CbPkX//tUxOiAC0ELR0wVk8lIH2o08Z4oxOetn0TgbqOYmpHkfNQxtCoc52bqKVjMXSxxejeViGeT6uiET9FhAQI/ArVna14gAACABON0BwDhAzG+zbjzcHDOgDPmAUDYkARxageDM3Vcz5tpqUynO9hzOddOGmpYUurpI4sDj2DFbD0TSz/7qKzSdVZFfZp8g2EOlD/agjCtn/7kBgRVeULROogoAcWLEgkErgaRSOirQzFfEWHwqkHQZOEJNGcaeMjW//tUxOgACoCpROwYb4FiH2qppI2qX4XlpLh6Mo13dSTZKPvp0IpkSXVWABxwZZpsGBoHM1mVdYYwojWCJN/rD16Hu4tVAAGBKVgdEYECsQUEC11crwMEHgKdy+oyTg6IRGNrJ1Pb0C1stGtJ9Ky03GQ6Qa7iygomDDoUQjHSzJiNS8UefkVY4ReleZUsvyBNGCteTcJpl0AIRL1lygBbblAfA0ATXTMiAo8S6LdrwUtUpm3VjDd4IBMgOh8WPfuN//tUxOcCClC5Rm0kbwFWGejppIngAoBZK36ytubFvUN1TAqit2OiBJIFn7uRmp1P9w7n2cKNas/8OcwyaiWYWEAcyNwAizUBgBMlwDcg0+bD2YvkRfSgQPPAqMKBoCNAkqw9p8ScoxLNGYorkNmIbiDz3W690JWrhyGmfXMhD1LM2lesyJbhC09dxG9rCPiBCToXb3wl5YR31/7/waAJKcAEAuZkuGPfhh9kCxAiMzRxocEjIAYvAChxAGFlYgrX//tUxOiCCxDNRU0kdIFGlqpllI1+FTW26A3pyIynkHWRDCrZryxGdUksmW26aJBgIpBjUdrFMqn4xvkxt/1xq8PwZRvzs+cRcHghyInPMSIBbV8kIBSkjaTjjgDcLCQdSGrOXHZ4H0tMx5v45fDKoj8ujzi3LKW7OKAiBVz94W9LIcI3SRSBRPpf8IoQAo3aOMEcsG0Nj0KU5EvRhYKNAA6AANzUBZQPPnYDmNHgMSDgBhQBfdSLFFVJ5K2JDCZa//tUxOiCCujPTy0wa7FWGCmplI2qvOLQS6Ul4wtW7LyjMXjjqXeyvwx8uZGKEgYgJeD2/H5/d13OZbW5p//9QgJR2Q2Gho8S6721ABvAAp24AYDGGjz8HZwcKharCyWMN65M5E6tIgSCyRIkc+0sFuHizH4AEbnltXBB06O4Q06a7I5HZC2HiUeFUGSOoEruMAICdlygUe/FqNIAFAAABqAKwHiZnK3m4HmTBpcs4VvLnMFHAd0I8UGD6zbwlOuP//tUxOeCCtCXQu0wTUmFmmdNt41wHBRjPlA1FbhzbEIzMz1s31MrcyUCXDA+A3s9ctvMIbUiygjxww+Am/cHeHUEG9x3YgAAciAAAEoASoCfZi5Gj8HTKUucVQXlh9oToHISg8Xc8BXyRFFAjx50LuqWYeyrJYZDClz9S0CUeDt7ukksd7JGxYgM0awd6dAluYXWKiDnIra6I3REYv0RGWtHggWNNlZY6gBrhGwakx4msQuYO2rOJe4MOuPMqY8T//tUxOEACWCfYaeYbTFZm6gppg1wpakHO7y2X8RidUhKZDVcWAesTxFMgM5XollOCI9cFTI+j+WJnmDFTyuqDbwccbySG54MZodxAEKyFB1mEBR6vygcSllsSILTloEEmpIU4QhLowp2mCaDGpG1OvGdb5ZsYW8f3kOnuHArT2v9RuGzGxKv5Qyx1f1M9S8iohp59QvpE50Jqxx5pZOkh+qMgAAFWAKbJGEEO4yiXF6S5sq4+UakH9X8KeFuup5o//tUxOWACfynQ0yYTUFXFOcppg04sRUYQ1CFcwC4rkoRFi2N71lxLkAY27GLZ0HwdxyuHEloYyUTUauKMs/95pgRMKbEFooa7dUrl3t1jJDctoEcrjiYSbo0QpxPiSJCUJBMLz6dO4aPQ7HMtWZRChc/P6F7X2q0FPugsgUEOT38zIYSZq2jU0xxhoeLHD9JI1s0akJ7dkkAAApwBfLwJKcRckQW0vRC1CkrqdVQ1W+cJnTWzQbQ/FRLk4NDtFNy//tUxOgAjGjxN6y8S8FjFKblh414PUhBBjKQo0LVx6tmDMOFE9quFaFBgkIcpBCL4YaMLZHVtRaAi7uPDhRFhdLTN1vJKnKra4AASnKBbi7gIIE/TAxNKsBAZk4AZeQiJWNYHBl3OXXwcRGJFxmRURECrWWPo0TIzkNYjBICuLq+pynEBE4uRjnIhCaaaj2VfozZ2aB/13uvTxNgam7PkUG2VIxCHJZSfKI+kIg42jI2/fyUxfC/qzL6B2JBF4g4//tUxN+ACPijU6eYbxFcmmc08wsA8NO4o+AjsuLKLccuStbfu3+69P3OvThEggAg0dwmHUMURMafQlp8iEO/QXACNAaekaNUioRAFkvVTSzPf9sW/1jjUj+OXNY7pc69uN1sNRh6GCYOBDmjBR7eSVn//9NdlDMQA+RkhdsvOMs6QrLm0aiDf6XRvsDhRFaQIDgjTLsmIrrQYy0a7e+E//////6zz2oQ///muujRo2C4GzZn8vWBMRABUxADoBcf//tUxOWACTS3U6ewZtFuFmb08wsA5t83pX601tpc/1d4ZoqjmV2W9Yo+kAoARNY34XUMZvMVapaO+5ynDemWNAmK2xtPqhy1nnOrV129TdDDlITkOf7WX/RVVlVCxNdjaKvdVf//r2Nb6ZogREiqIEAUAWBaE4fNS8IBMxsjUklt8jSbJ5k5VirSaEItNp8djComXQQd0jyNrNzRiXe1m8LFcPCIuu1yqmtf2+lTmEBVyr9QhW+kYbiRiRgNjUZe//tUxOgAEhUVSa2XEZInK+hloKdI3+QD/oJnwGj9KgBmAeAWUqqi6NouzYKg+y8tCdJE5iGmU+uC7X8ckg1EPwSsQIPeJ5Ufui4Jg8LBxQeRne2lM33L8ggEBUZBRiv/lSfXrCIeKNZBwm8TIiCz0ahjKjC5P/QQERGyn/ZMouIB8xQ25uL1MqhAcKjI/BRSc3PQFBipLgukc+A8KRJNywfHQ4nUXWq/8v5cofcf3c289/u2SikGxPPk9hxLbHM9//tUxLAADYVfTeylT0lDlqu88ZXcG+pU+9nFOn/p6fMjTJMDdwbDsgE+BQKWJ+o2i7rFRpIiW3pDA1ZCA8CQtsNQNrg4CA5H5IJYgE5oflxRRFpuruDAD3FodZ9FOhjVv9rUYaiKO9T/ZrJ/tZ6gIQMoNw76g+V4aYMBVqzuoXVcR2Vrf/BtbjuuZZlAiVDANybbOwMAvo400f6TN9MoqEhOU4yyFBZ5AheyX7gq4+TeTZTyRhs+e/NFghsZNNn///tUxKcADS1tTYeYr0FqH2s8xYpgMXm/mo8GJUAUwI2/+iOrflshmDChK7EQiCbPnpJZ3/H1tUYCdQMrQSpTt2TLghAJQYMgcOaljfGQygUDh90FyMshyKQJSxdpkYqvq/dHb0Gtd3M4fcRFXt2REdzFFAQOf//m9jaigsar//Q3+lDDQoIieXNjEH3FPWQYgCYgKmhYIDoBagYQAqY5wRPGXEWFwcMhJMkBANJhnMPOSp9tF2PvCnauQi9Myfe9//tUxJqACnizVeYMUUFanip88wm4Qg4SK9VXzLVcJbC4lCJe3n/JRJ9T16rdDGn/X6Xf9dpTDG9DphUkAgouFFSSAWLGNlmR4p6cG2W2BUeB1nTEICJk2XiE537x1LzzqBBATNTTUqAYdzmZf9kIJKH2pkbcwWqshSrVZOlWUvUe3cNDMP87ELUQAgAABwENxwDKcRhczGG4OwRIh7eXQkpOUXEcJbC4wgOZHUok6fOU7vp9RNhBgMQRWq/pVV9s//tUxJqASwzrW41spbFbnmsxxApmrnM8yX8tH76/vK10REMyTas9SsQRoQAACAm/rJG3/9sIJGAKRTpJYqNpVgy4wVECEEIQMlS1JuIBgmys2pAxCMwACEZcFQhwQgGBYQQQC5wU4MijIDtD5yWEyMxoCok0PgXMXkSGikSIk4bGAN5w6AejyQfCLNjuNiyLcRNQxzmI7iYJ4aCJfHhRgdJIyTU0jSoec1aj7f/+r/vTv62Rl429YAAABZG2caR9//tUxJgACeThaaekTPkuoez2nlAH22krDADjGcUu1JxHst+FRxAecYie7lgoMtcr1/59gyEgTsHhmnXFL8FYFQrvTPZQpU6ij0XdeM2FhVTTFOyOm/FRxESF1e3krf5lDEOdeWXs7mo/EIhrLKkuReljdqp9B2xlOV88cNZZb3/M7e9zX/3//nPy//7/2+b+7j9uVI/xZ4ZVAAASSRtrbSUt10kYAAQxBglgdZrhgxgPAlQupAxYEPDiIWIhaIpo//tUxKAAEY0TYbmJgBIvniu3M5ACyYYzASNwUwJSAqQIpT7NFoNzdSRyqehpprusGtRCVZVXSkmVyVIazurNxvpy1MpOswkdXLHPO3CqbU3QWYP1qvQV4YlcZu9nPjO+9xvfDkL5P1JXn/6//7l/f/+b/9zve/3//9UzIABJlbCccASRZnYfMZCxCE++SqsLMl105ZUuQUIEhccjkKIOTTjRxTzCcxk/seYVOR//r2ey552im2LpQ1X6vOICgalz//tUxGkAEZT7XbmsABFBHe23nnAHDrfuhIGrzr57GkJplBI3uF2uAXKY5ypMMIYLUX1TnPZItJjoWyJQYG1NjJZ7pqSh3OgxRRUv9XHjXBjXb+iKPX0d2W7c6MLENL+cqDw+kK9WDwiYqdY0gy0t5HbZAIJiKEo4A4SYrt8P5hKtQEgJSxqhhNCFzJg9ng4392dySY/GuP+LQoGg8dZ3p1ekuOK52zfM1Qwsff9ZqDilQN+sNBrqXWACAQ62ZI4A//tUxFAACWTRc6ekrPEyGm608x4e1Hqul/aWBmItpPqhmuCtXCnaEst44081J25ojgzC1U7vjg8IHAgqCTr9S1ZGpVmzIV0mVFdG/7RBWLr9z5BYNnfHm0CCAA7GwLlMp0in0ODTOUp1LKbOR5qdflslcaA/1jkK2RzmgEdIzqmwcDSgKCCRHT4w/chKzEsU15jMpx5/39GFEf2+QcGPwElAAAAONGuNAPSwLCTjlYB9Z02twD1XZPEMXL9KDKdd//tUxFmAiWDzbaeMsPEkHe108ZYe0y+bNq9ldpycVmufrhBUbUR0G66r51OZYnOk+3TlZFOBAj8oTMZd9Rb5tiWSCQBIiK1wW0vxgmUnwJJwNaMznK+Jyc7azNCBvlyZd9ohU6hp4q66//5HiSQsCZprUy8L6Xb9vnaJK39NEgYAOMyrUn0AUcpAYD4hbZAOtDZ+9LfpRkF6ionlbSNP03yrYCcZ/1fXeiK/afnsMSFaOTVDfI/1QTmFRANK9Ecj//tUxGUASVizaaesT7Eemu109ApmI7Xsvcjv8YMFYm/Ni/t/BYSgZkhMAutmyOANpOGRjQ8nBILDNsRg49gHio+qAi/7u34tEGOlJ2Otq/ZhyOGlOIrqmyOnsdl3J6T0a//KIiYmgojr///QezFEBsAOtGyKANhfS/Mr4lJe1QOpDnFEWX1WSxbdAYL3LmTXuWO0NU1EQw2vzHQ9BYUR1Metzd2o/eym+eOHspBn/5jEh1iN//+ipOIrMAAAAAAA//tUxHEACTCzY0wYsNEZoS409hTvBEOqpLfv7tcAABCwsJwXoXmCQiTIJHi2VL6V910FUYdlu7YUm9RrFZnAUldRBMkIOEEYyLYBSKGa8o7JHAbu6dK+cuhypBMborODtOFk2jO4SyWzDWE1PU8q+tX33VuVZY25LK52vO6h7Wtd+U39TdvVuNzmPZtic9ruv1yW4b336a8wBjma1QAAAASftG23dpJJAAAFATAVbdYBYAzchqKlbA08aJgkcdFz//tUxH6ACZUHbbTzgDoynWy/MYACUXQoGQKmYoXjsA6kIAi5aVDl32TJMKGipVHHVaqxKNS1yJiWS3sUpYJh2DtTkN8lucCvVDWNHu9Uw7lNUtX6KWX36dW7nA++b+mx/DHX37H5d1dmLPP1GZ3PvN5Rh2Mec/DGmZTIT9MBNghE22W2T/22WAAAFlAoiT+C6OqvEIYo8GxKI7jY5DRTss6MGx1IvkHDUk1Xgkk8uWQroe9u79WW4s/jUYbd3Yo0//tUxGcAEVTpXbmcABowHSw3NYAC5YZ41Vp9hq/JthknllluMpp8X+kOM1fbxTqU238pJqDYezqRulbnFqsQjW/+323+Pfsxa1+v/PPD+/KL3//8pmrr9s//6sx+8gAgAAALskm3bLHHAAAC4RvozBTMngSTM2bBCFMUOAWlwsSJDIZrGA4CwocTRh02W8Qmy8BsZOISPQSoMGgNdPtNsAsQJP67ETjkMSlrbk3YCj1uN/UllLKNSOLwu/2NWaK7//tUxDEAEZjrV7msABkpDCxnsLAGnerXLM3LbXMebq1Me/cm2zcsfy5Ep3//usb/7zTos8///uPf//1LIcrdzAmQdb+4qvYylJdS0WYwF54OlDt0EhpHVZmu5jGMS9Cz2qxeDf3U2+fun1qGh884MjiGeAbYUKqIyJFSZLl2AYIEuVOv1icMSX3vhrRtJyRthqN89CNjwJiNiMmpVKirZBYbCA2RnlHBMQTM94eGEiwg8ReCg4J5ybnb2H+ZCuu5//tUxBsACVTPaUekarEuH+408xV2fg9TclNY/Gfn/vlGBAc//lHf8Z9TJkrCkbdlkggkucihRiiGMjECrkkT5MBDpDFAeOMMO0/5LnvEO5mxlO3lf97sRrvszks/1pKAt1ZSqjJt1aZRzOfbyfS7xEWH/7EUVQHkmFlWNGKUIupHISdrw8OLFnoTrBKH6wkjW64rCs90GFkIAwQBXhU+/9hHEWn/3Lc///O3rnQN7eIp+pubgcoGR7CwPgwXKiT6//tUxCUACWTbYSekZ7EdF6vkl4rAzYDoAAEthYDZYETMkU4Z82U2Jbub/We/VXdLiNElyCBqDIyyPHjADSf5CEb/0O/eqKcDFiKizgAAIINHg4CBhjUaqhOD77PDCkpLW7QFG2pRFKGIJVVU/VlBB2rZP7NDGELcYRZtOmfKhP/Ur9Y3Dkpxw+CQ7tKjv/mB7JdfRguL2DaxwNAgcgUJlf/giql45//99RUQxAo6oPNdIZcXZ0eJRFgAE2lL0wiN//tUxDEACsEBeaE9FlEprDC8lJQjPdpSmmUJDrRRu+n/W7tvVhhCl25mOcov/3YnpyH6PVf/dv/6IYUIqmR1Rvz6G1dr/777+rGcouPDRotP3l9VZlWXZmcwASCZMA0bF8ITRVxdXQMgwSwYxGqWb6+vCzCLCehi6N1e7v2/U3p2baQiH6b0Od30X/T3tf/n/ILN/9r/+Oa7jgbllQzPUOzOYAKAQjWbh6oaWiGiF4LCIWPpmYAEJiKSb0WVXv6s//tUxDYACR1fd+YYqNEoka789JSyUSOyiwMV2VN0ts5V8zcUD3pPlwUGh0ruODf5o+1Cvb//k0A8SUQtiGeIZXdQVBuEXBSVTwfhO9KZIJk2idePlrrCRrjuSJDH5vxkc9BICSMz5mazObIuXUFPgIisXBlz4UN3Lp6Ktvfp/r9g02sF2l4mXVmRAdoBYOlAlD8QC2McBgyItKkjSoHTBazInZCbmcVBTVUzspsvaqam3Peia5WocqC6HjlD1kXy//tUxEIASQhzdcYE0lEmli54wxUiidigoGl///8qowpQXDZ5iqmIZ0QKJKEhKmjKmjlQw54MRObUjOzvV9gJVGQ+ZfDQQklodcuaH3FMgQwEkN+5+vWf/y3rlubvDEPxdg6V5Wwb2///nrkjyj3qamImGQglAsSMfBLVC8RxwTHCM8P0C5TOfstaLBKeCIvSU5kDCKi5Mxmd/P+vwlmdPp9vdbPbmKj++eO2agm0Ei7f//63Jhph+mmamZhlMAkg//tUxE6ACVi5eeC8YZEnFm78Fgw6pydB4cwlEZEOWGQkwFiqCWoEuwLh1cdwX8N6kFsJzKnoXZQ8wQI8qv1uunseZ4UGxpzlDzAz5IccKxf/9Qje7td1k3mJiJh1QAFAuXND4rulAlZxiWrLdHUIBdTbFqbbQsp/5cxUzWpf+mx0DhsKOesqHTy3WjBw4H0OtOgn/qUwJfFv8EinxVSBKI3HanqamIdlMhEgOX0IuKcRgmSbqwoTnZFiIC7HnZro//tUxFmACWCvc+YMTxEpDq68xAmqXf/TMV+62YY2cicGEiIjjpMBkg0a5sn3XgyNIivDxf/PPyny5wUTy4ADr/wNqCqqoiHZACkC5VcT4pEqPhNqw4YyvlW1qC3MhIPIwLWk/25kSOeRe3S08jjsDFsfFXdqRVA4TkhFnjEh1ZUgedX6l/l2K+uyTJ14maqIdkAJALgxRwPgsKrN5pKSijRO1HGbYKLAg6ECReGj/TaI4mItqn/9LVlBUrxuv16v//tUxGQACVhrc+ekaxEjj268B4wyhhI0AnT+SFxXQ6SvKoBklDPso9jQ8xDOymCuYhYDnVS3FHq0eRCwfAL3TLYCkxKZZ05nCf+MGDKGAhRFVU02ylqjMZw+DZcX+TzqrF9mMoupf602amoKLzRb2fN3JZ3e67uFIgpJYCrs3ilIeuqk0MRAHcskwDIjIkZ2lSG/U8mOSYbqhRKsfGUv59FGTW5XU/7OHlyNgShkUm/6YT8egtD/2rKaC6m+a7+6//tUxG+ASPylb+eMT5Emmuy49I1b2QkokJ0ZRhd0QXlBB+R4qeLgpEbcxTxK9wu1hlsi/hshsrMYoaNGhQqp5Jw4CmX4lDWKqaGnPRrDoUFHgI2iRFX7v8u6SOEPFGmal3ZDEBEAziwsUlhtw9Hp5CfTFYZ7WJcyVVoVJdiILWZRGDokrKDO3/WHGbjN/l/r7/w6ikxVDgow5SzyWMtPbdP8ssOYhv6kqZpXZTAAolbDeBEShFRHw5nhxiQgE4fk//tUxHwACVCnW+ewZUkuCes09I2ScdQwmhufHxtqeBzgQwvV0KoWvlUqX/f/aysfyiDiUNEOYEJJhzgUYH58aLVO6nUaeIjKaZmpZ2ZG5I3INdvL09W0sXYVxRrpRL+LysUSa7SDqTXYNLRtBYMSLSlgzu/7UtnyOSeDQwWl2Rnq5gx6UfslRkvDjE+RyAnU130/xVqu6iZZSIbku4gwCjQs+AKIYzNk8MS2owmKW1rzRXfhBUJ6Rh1ELQ17oMHt//tUxIaACTC1T+MwYcEslem8wwmgKn69JKZexF7wwTuiqh5WIBg7Hscs716atNdRwlE+mU01Jnp3UxMAACVGM0qA66wHA8uVHkKiBA/WEuOSVXz7GjrAsPoKthgCjhBE+F40Rgd95EF8BSJjEDXAdJW3L2tHBm9oETSs9SoXL/7qUiap4VCIAopODnkgtg05SH0a0rFItyckcoEIHy9oTme9yzpGnl4hrc+e6UIq9S/tq92PizBRsYdLmHiOzV56//tUxJGACYjLa+eMUPEwkqn8xgx4VVxZ5ceYPGXVD88qtWmat5piABx23hIduCkAcJxKBAsrCcI4/kZlwXn8ECyznzlPyilu6e7aKkE/zi/mLMIObkdMp6kO13ZBO9HhATUiFegq9IYaooJ8tZ7anr4u4SPkcatVMrTmQgNBu4b02HnGa0cukLU+ow1DDOhVmO+5BE3EIhAem+wAx+4TUWTqOYjoJ9y38srI93ev////+3cm3RD8R5PAUgxG+RQP//tUxJqACWhTQ+YVMgEtE+l8wwmsEMOO0O0T/7vl/HvD3rMTUMUMp+sTvwP4gxOqGu0tRICbctHipwChYDC4NYcGBFGGn+nvbvNl31sQY//CVX0NBucAICyxT2voH4oo0oJJoxjnnK4fv8u1bcxGIcbCoEgAg5PkeNTv8mBDbW4xMUfJBrbkdPaXnBmfg0dADOj+LT/8p01/m1793/bfo5M2WdO2pra9/82Z6n0WQGFbr+OALJPowQAUApVi+VOS//tUxKSACoy/S+YMtoGPG6n88z34AxEPhKFllpiLSjDv3vDf5dnpaLT9uszTzbxD+IEfO8zeBmkbbaoyfGLDN5scmcvCx/6ue/+8WgVaUYTitjL61nM/l7RFmJEhtOKzMsajtZ6qA2MgI0CAnuzZ2//JSeiBIoelykU8e+t1mvGfMxxrBJUiSx6wtuvuGr+2jmfagRAAAAPxRXSdl0YUGvqA1YpcFHo4cTKjk4enCUlJValYtle4Picce7U0bXwM//tUxJ2AEIk9Z6RhmpoaKWy09L+adqpZ0VTVxhyyZHZSSENTlv9GPd1czLZsVBzHl5bUHSGJ5joppV0xmZ5Y4GdWZTZbr6nqWp9/vcE4GV7zATM+ryN4Zm1e6kAAQH1eB8CohHoPKxHIJgNawsg3XqkZXJvGdavHPXzJt2cZNMux4hFrwkpGKy6SHKT0o9Eedv3NHEnHeLspWImHQEWESQmDp3aK//hHNEyQbcVFtZhSBLgzPD/khrgW+0wTb0WK//tUxG2AjlkXW8ewUcGbmat4wyMIZYlgARYAACl3KCtaDAJ1A5Wwn0DUoHgGB9WiMWSJpIskhWf2cMOSxjqW+O9JPLfEZPb7NHaUx/azamFab8YKFlYoszBAXdP/Qx2R1ZfXvcrNq6VrR1apWvdvqKuJb/qEJ0lSorMAAAAEAFUHUalDxuu3GEujJVSLWy+7splITcg6GpxmTbXiwKrbn9gJdZCjlvN7ppFKdO1+jqPnr2Y+IEyLukU9MiDHOWJQ//tUxFYADGU1W+YYsYGLFqp9h5h4JkKOLN12KJEQn+2KOUHCSI5AUGsUeMg6EDyqM1UAAhJJBl4MMB8zGUjq0yONPQLznn+fKpCIcywjIAzgNdaGjYWQaYtNUc4kPJxbBTihNn1srxRbX37zIhvo7PuqprViARksGp9KqhgaPgQin2seCjWyKIiGBfap4ktcccIEqbZScEBAgSQ0rRh0Bo5ppYBNdAQBgJkQQqRZQo63QRkR0GweiOhaMjTRKxG7//tUxEiADAifVe5kQ4GJFW01pI2u2oQZmKJRk9ncObgkha5fyV8sod4dpKg9JSDAJYbfUg6pFPCSFIiz/LGSobk70A08sUpolkMLVuuSQbCNGkUptDxEmZyRuL9Nu0SyJJDFYeIMdGPQJsRanZhImNh6tjONV6ZhwNzHJRv/55w5djOndCEx1yQ/neOxERXFYwALmEqGnCx+h0tWz9nF0AQLSVTcA00F64AeVFYlE873yN9X6V6n70bGZUSJzcsK//tUxDyACwjXcaekbzFCFKzphgm/71zu3Z/GPcpOPWimfr9F8CkS5DURFblXU+s9/eybuy2Mon1f3l8VD1WxOzBFrTZGIAAABiRjjgEiFuB7OiOHqRJtpROJhWkaN9WszmrmvQXns6IpfUZ0ti6tVV44UDAlDUNhILRIRXW3tb9bOhZCJdTaOQNxxq0RlyaAAAIMKEt3Aj68nafByI+Im0rN5SSxzAqAkVD4XCUgGmm5bj5j/9v5mHI9/3c4dcDS//tUxD2ACTynaaeg8PEblmy1hhUqAQPHz+Yzvr5m/401rZPBAAxWKBIYRiAEAAYkFLQBZY6zGH10MTAqCFDttNlTalQ6sIcx9X+siEC/BaEIBGTFhuxpOd3ONNJzi00/ulY0NUnMN/ql5616tLs2e6bM/51zCFI20CiG3tbK5Nd/7aAAAVQBNQg4MttdRgqHE2HQgJB0yAdQQxJVNxrwDXF9oeO5WJIpD4pYngLgk7uhFVLV8FZIffSuup24aZVF//tUxEqACYTPYbWFABoumyy3M4AC3EZ2wr7MTYND2c0FJg6ztYQ0rKJBf1ZkRtXZVlLMLe89ubHZ+CqO7uczvT2X09Ddr2v+H36uxOX3v///n///9k7UZkAADaBtvwus2aO01nSNyioCIsM7MZcpMJHsDBRyadBIBQB4GgTGw3icqcUUfQoOESAhY9S23543LCYm7n/rZeYY7mnzxw1O7lT0X/xwcIT36eOlqKhOp78lKOTJigaL/q+hB0Xnx8mW//tUxDQADMExX12DgBlGmq22sHAG0WpGHJJASFQsbAqkxJBMyZ2V0y6Hm0nIccZ85daEcJShEoGpbnlyo8iisQDY5yFH/lBsSKDk1Pm/0U1zLp/ocb/42jUHpGfivqTb3fikX01EkhEtra22Wbff3UAABMB+UQjA+QkJVJs2H/ozP1iI3DxguEzCctTVkbIkuAdvTrNVTZAoGAxVAV0pI4uC8qasGNMi7xudGoCfbOOF6IREFUSXAGuiSNW6sALN//tUxC2AEZzpYbmMgBExE2xrnlAGOQ7rnU36+BnMpf/y+Ty1s+0f63////8kZZTcjGGo4w2W4/vPC3//19GAsel3/+56UUf7aLlBxuAIoW5+LCZrQf6bMmIu0bhNphUq7i4s4uIj1KIpVFWWKx5DChH/kY4eU5fxYo+8gSVSxYI1VKZiUABpJICon4OICoQdWROUqlT5bm/sJGgsAmOYXCMYiOB9aDo5CKnP2B0ODReMAD8rVKVY8Eimm5PnjbMF//tUxBYASSzxYSYMUbEmIOtk8wnnMwwymbH48M+dpaop3VX7b+n9Cs70W/ZbhCYckoMSnos11y+m8xsaZQ44mwkKcUTFRV9U7NUHOFVrNCM/Lydygpg/xbinvBqaUKUMHTchns16L3DKVXRJs1OVn9EN8i9HeqHbRuFAO6XhWRmoG8R6ISKIZ4qSsLoyqVQw5VOHBtPSVYKv4fSxmOY0mlK+bjPSGV3L+Jy6Hq3+OhrtVC65GrRK/7hniFTonQmU//tUxCIACSDDUyeYTfEqE2j08yHYlcDuTUssmMAAABy/AKU3SEE7cCECOJ0kipQKvVShRx5vnJkx2Et9N2F4IlyhYP1jutZsyOqWHXN3Zft17jf4UYWScdFwBXFp+8aGrE+h/qV6iUAIAFzbAcU0TA1yACFFcpDRci8E6XzyOppdNogShCPmkXfQtmhZwQZlYrAAkbyLzMIUzIvTtU/2iw+iQZathFbhUJtnWJa5e9tPzyOAFJyAMQ3S/CdjkC1p//tUxC2ACXSlR6eYbsExlGlo8xWiNJihUTEi45yoxAmIUC8/nk85eCTt6SjAPsimUTKlOxWKcvMxRHMrNq3dxoVFUSbOVDiYdtKkoBeeexTlFoWgUAJKcAqUjo+CodFJs+MhSDZ5mKzluFpxQa7pMZxjVeNUmQeyERSaF0WurN/tT+rMi9BN16JzvvX/qd04m4iJBEDAKGnoetaaAEgBdf3FVIQoAGOGhNOyVUhEMGQUCopcRUR+tW14TXzQvCF5//tUxDcACPj9TUTgqpGRI2q0kaYopTEG7UyOUQj/SJIKEk/OkDdf3Oc+ogYyofYGLnP4kFHJMFCQoxUXkF+pMQQTelSNAgz0gLm/aMjAGT0w3+obTVAULcrnKUsUAnLsHoR8v/91SHAhDDJ9Fl/NcWxIquQOAIIVQCIpSDkaFoY2JGOn2kUJmICi8S+1NQ46VWUcYw4EhRd6FXfOyULUwiDwPIHzO0KyGNO+8TFhh74SGlbHEVJXxzexYrGZvdRE//tUxDaADnUlb4E9mHGqpK/4VibWHcITjuCBoEzEyyOwFcregcFJRUcrNcdUDCwUMo3/8zvJDuF90+qX15y8SFNFIbnJKK4hEC68sHL6SsjLDKKPgez7UEkKF2ui7bn/0dTegZZNtr30n/Km6SMXQxYcYcgewkvJSPSUc2ZIn9R6zGIJ//vVCam5Y0eIACQVP6I9RiuLC+cihFzvkRbrO5FdEiPKELYkNr0/m761bY2V0V39WQ19n3YefeCvv/aa//tUxByACOypeeekSVEoCW98B5gyNEXiT72Ev3/RiUHzbbFhd1dSzQ+KCJLgmKdUbssJ8qw5EuxIhSLmulsTNCUpJy+vrbGyf8qkTGQ4NWiIPJhhiD8Eg6LmN8i+77GnEkQ91KK6v0fx5OBGwyoJqoeFVm4AB3BxNSKDQDzpsrSHJ0TP4xdf8IquLKa31T5yzLZ6q0wU6B52fbV0/0upTNqzX99yP/0+px9a2//6X+v1r/+oOIqDLNFVdVLs8aoI//tUxCkACU1rccAwQdkooy+8wZXapOTpiRU3ugziLxwQI8Ra0kGFU9uGprSfRM+kACp0cjbo8s2UVuysb/0cpH/+2zWv/7IzsZ3XIVP6j3SHRzn4kC6Z2nmqqpZ2asgglL5V+zrXTEVhOFs/UkmCJ3xOEJMnvJMK8cp8Fzhfnr32b9VE1qUZh0OWPdyQuaT11iKGfhYiUImG+FQ2ccE8se1/0TU3V1Ds1hKaTFlQznwMAvChRZnoA+yen9WXhQsH//tUxDQACVyFc+ekatEula788wmifGfbZJac+qe5wrH39Hl7zuNM7K5HMzlcv9DI4wme/bwklIa7mDnyPqAoTHme6Nru39/bd4tILbolhiox2Dx1fJ4WKlxlkhogIpZ8n8uJjio/uyDsR5HEb0/NoxqKMlng7hwBOYLhpDk8VUQYIztqKTgDZ8iBh+8arWgrTKNc1TujJgEFUO0n6yqq9YIGZjp1BsgGSImNhjS50XXWtBHQrMKXemp6KMv/y6r///tUxD4ACZRVZe08ZsEtDus9hIzgAYDSSQ8eNGXJqnXPUbfvgrHeVh0UbLxwyUb/M1MjqKeHZtBtSg/AHEcK6CsK1YJOlsnCI1eFDGs8OVz/O51CSpJOynGsr/RvyZJxoMkKGoxd/+nao6CBKo9zAiTlzITWV2PMSpP/oACWuUUoBpxUjNE62hrAChESxW3es75sfkWPQa6aceFsKbkiRJSoGYqvkX7idWQNcYSgVr7GHeI1DkHaZdAfAPrPCxUN//tUxEeACVitWeYIcsEoD2nxh4jgBdgeOnpFADoAAVceh5QUcdMkiheOUfdt4HcWJSyZtWYahC0GSVQ1hGT2W6C3RButixUSr3VimAzTSymj0yMWnQ01EslxcxLfaoXXDP/7tphEhtlxwpNooWH+cjGjHadWjNOdFuznXZc7xSiD5IWuAwBFJVu/Fmzhw2cY9VsZRQHcRgEVYM1H80tosorFSsI8h/xhIoGG//2AJp1AKDpakBFivDmMgMgQFGDz//tUxFKACUBbRywNMEEsC2x0/CXGK9OkruaDIp1s0jOWivVaAdRM/edxqwYPpFjxMSz5vqt9//MOmq3Yg0Q/JLU4csStIsfLKR9fZiU6tkJJt1re226///22AAAyA0ygIvGj0lSpaJDpgxgZgwspsOkQGyQaYUSreYiKc8wk6YkK1JumS+YNeIHKJYXrgdNaOrAL8d1gUcU2azfZ65MjoY6+5dB1luxlwZ5r+MPRKGW7NX+pBbuxmR6q3nmlztcr//tUxF2ACTBzWzT3gDIzl6w3NaACV52YiFDKaXCAH8jj5bn/d+91+L5xIBliquVySgRgzUFRHNC0RmL2kwFvui/MteCSS6bkMGNLXAC1JEsXO9sy+oxxJ//ED1b01HwVs42zGQ0C4jERAFQmoGzXWOAjBPSd7lioUUglHKA3FDoFdNZI0K8ASV3SMOZ6eXE1wcqoV6CVoG6vHBsJUUJD/0ujjj2FK8XMiL79a38EXGihiLsUHOVMJNHUpgEysjOE//tUxEeBCQx7VN2EADEhEmoNhgyq00UAnakaqCkRxGakKxZDywNSzLbihx9oBjGuFlWGjama5dytIKwUiM/ZqQm5PbRISkRs0/B3WPvMzw7EuRf6MV/58QObTwuxKmPI/UBIgtzcBmBN8zjAqX0tlnqRZ9Mw8v2gsjHDZgLIRdWNOnKKeMe2mW0w0feqToskEX5Kt3WnqdebCt/ya//3QB9ocffhSBd8RSA1InGko42A2nUJmS0ky0SsmaTbmA0X//tUxFSACUzRVSwkaXEciKkdjSQh6LRo4cFDhwdIstt2oWucPjDUyyyTdz5nurjkx4mXHStdXw8dcFtIYp9P4zZ+KLDx1SthLWAX7QCbcAD6lAJsCCL4QiMXY9BT5Mach/odQhfVfKoXtSDJEeieemi3POrgjQIuTwRFJbNRwpPr9Nfwz5lXMoK8sJpfty/Espq+lUA5ZG2iom2AfAmIdY4h+LZRHeJEtF9bxxn8uVGVrlIYZcpx+19Ke013LyWv//tUxGEACWy1X6eZDXEnkampkw3TvFox/DVlZSvcIyREtF1UHQqfPkXi0ifOONoYx321goGoAt78B0hI2bg8Ie4oEa+qF4n/l8ojMPROuORQg5OfLjiGzXoSBQgpqIbPdj/cqq7KrFkRanP+C80HTIMJIlnJS4LuSoTWSafKCk+tAGr8lNNwBToUIeOEFePWXM0zrdTj7Q9nZ2dnsJBa/sFcrpJCMhJDFwC4sz+z16OZ8ffZ+kHVeLfzn9EssGqv//tUxGuACWx7W6egznExk2idow2YcK/zSAgfmfE8pgAAAAMnW0lY7JJE2AAAYYmYcIxgtIFGxhKoRmKgAojsTC64RmRqG/Rgwk4YpY2pS0SUrHQGETrIDhs4XFL2GSJD2HHLaIyx3q7WLOEnhUERJVQYE0iAlCYCdp5YDr15DAsAzjYovIoeoq0OYZ0jWrNWc1ak0kz/Gt+V/X/d/DKplzDP+f///7tHErKHa0ACgY0k244AVSsLmexwnOGgPFC3//tUxHUACSxbW1TxgDoymqm3NYACxgqJZF3a0Jf0AQEUWQ7eueWz2V7yfVrrW/MLEIwOBUR0lPvSdY/vilxj1DzGkQnq0fnYWBwPoeukAZACcgEFK/LcA1lIRY4HoNcEaAYXPKmQ1QTBiLPoNnBqRdElMLiT1IwRp5q2f9HI4tkWXsxpqxpoVlBRTo80bU53w4IwTEINlpNpAotuNpSyAN46izJoOZWFKYyPoujucVAaSdRPivJJkiNDNlCIM4yD//tUxF+ACZifYbz0ADEpDindkwnKbmy/5BRBRd/UzpV9h1yM7O6xakzpGoVLUDkXEXYHFwCEIbRgILyJLjYCsr+O01qDHAFmsEbyamI5qVrJgmS07hzuMQ51qxxQmJjsazf9RIhwZWVvj/JD9DRLIM7G4+oJx7JcIg+VGtpvpQgqmtVAkbiUk3AMXMcVor7ugUJVCPWiWIwNs4+j0mY4a08YbvKQU7qqg6HdXvkZ66tIpT2X1/mdE4KroV/q28qM//tUxGmACWSxaaeMUPEoluvpgQ32Ll1f7Xfo7iItjobn4BAqb5eVqORBsl/EpBXUCVeb3xktsKWWkqWEZmm+ZyNgXNTXhvTbjU/Yn/YzXn9fvfp+6XRjDUb/Y1eh5UoNQyXM+mWQkVynE0gEkHOYg/y4AyR4Oy2pllOZTqQx0kn2UBS4EJosEiOjrVvuXIRTJ4iZnzvYSiXxoUAzHk0GK8+fYGywI9SAK85yHS0o+WJgAFSAOGLHMPTKlYRSYkAm//tUxHQASSj9X0w8R3EPICxk8Z4vPDz/L4d5jcHGtYmxIyGjZOPMrhqiP0AzcW2m5AeVDMmvqaNiWLpmSBgsWA/IArvScU032rZQSka3MVrcRUCAFBTblASIsLmGcEGJ88OI/UgxMyeuSoIoj0OAIBDGsjgdO43khGChQkLCaByPXOiRGMWeAQ+SCAoaCgJpAIcpqDqWi6de2WuisJgMgSFPQQEYMMDoAPA1ZrGKdSiPU/lKcRqhHy5I0UAVyIG0//tUxIMACWx1XUeIzjExjCgNhiXQIyVTXPzZOpkqe6q927EmfcrZv0evqZyQ89zi5hpvq88aMz7jSnK5kNIAOEAFC6sm777agkAAAEhH3MIrFomlMADgEyhiZ5C5QqKXvSfAxSmATeYoYlEUigwEJaQrGhoi05C8U3WdFxnASmUthD6u/LIciDjOzLl71n8pZYsZ98WwP+5i82+eJozy0GfKGnzlL+yzkQdGjtPROy6JQ/RVu6ymJfUm7FN9/527//tUxIyACXR1UUeYbpEsFWqmnqAGvd379X+37gAAAAAK6w/t/v9ZEAADB4DkY2HHR8AUOIA5vwCbY0ajTBXYCDhzzLhjohfIqRObhYrRX5LoxdpCR9Iq5utKu9ckPM3rXrMKlkRgRvHKlU8/kPM2kFxxb7WnRn4LvYRunpMo/MXLMN7qQ9Xtzk/lN6pJnmGM9Qcm62+16DO1rm+ZWAyWrNLQ3LAGgKAoLtQKshhPCYBYC4NGzLYULfMDxPlcTdLC//tUxJaAESDBQbmcAAIjGOj3NYAAsLlSBUSCo7jh3MuprGl+zvlGd1jiOimmqdc/Qw85Vtpx156Hsl39///01VBoOCOofoqNtQRAxDEmgCgxAMFRGlgOaNF+46E1cjMSEXOlvT2CYJGNKlh6ZEhOiCFPvUaS8mn6Mp+7f9kKm9UR/85ih8BBQBwDEzTKamYDNzWosgJrDAJdvJPTWdyZnJ9IGB0rIg1qfgZ3ZDLKaP2ZbBCwYNCbYnMbWkuCQKTM//tUxGMACUz7VzzzgDkjn+skwZYuE1RYYYjBcnpz1iSGzXnLORk4YdOfhCGQz1d787i4nICRibpPEDsu/95/8/QB/AHeYJiUQBZzpvk1aD0VMEbTVam73uYXW7pPuCvVeQZZCTAkNvpDrjw/GKlJD8rrTFiWU+dPXoKSpdp+v4/GN2v2UUkovV8d9/XIbf+XP80dI9QZKhejRXXfyL243G5fUEDGx69EjEdxTMqHqb8UhcFwuToIo6yc1IPTLOs+//tUxG6Ai8SzQgwxNgIiJOoknCZx5tAK2/fAzYBpPdNf7LQE3JdpFUQEEjPO2wpVDSG2/S9aQcgOPrbvRwiO6jgf2jSLevaatsTD8dC4bA0PiwpS3+6/4lCHYTlhaxRCBo3Vi+bzPlJCeAqudHcrwsrzTjxtCPXz/OuKZaGF5SRRkmCMF3KRviYYmDElrxWrZyTN7c3qCDit6q9+xuCmjud4jp+HVfl4eJq4eHMEtJt5otWFGls3YUnZySEz3Z6d//tUxFCAERFDd6Kx9ZFSra/8wYoqeuPiRp/r3LKgSkRzrr3z0OFYBhFfJ0cv+uGZLRzO/5X3IIVzo2gO0pwglCEOit6f//+f/9JCPcEHHdhiKoh4qYeFMBRTySI6kutJwynpbHB80I9sgtz5RPEZD0XPKwCGh4OBUs+Gj5FgCcfcecsekpLIoY411plh5q/CJpAAmv//+OFoAE7zE1MvDKCgJ3AKgIdFiYKkDR820KDMGSWR5HVMEfM//KrGcQKI//tUxDcACRxddceE0JEhLK64kYoq3ZjdCKEdMmvN/1/9fTX/+//3RzDKGYm6ff/////6opDrDoTVioqZmHZYASSA7moRhIW3kNyKxJDvXkC9i6rs4naJEeo0DCa+Jix2MSqIN7ldUiDlY+zbf0OIBYMNDP1lnk53izjtT6P//xEABYXXEVVTMPDSCi79wbXpOyFilo8m8RKMoSfRU+bqlnilwo9XJ5imR0cBQkVmXSTdzXLpaxk92/NYcO7//9/v//tUxEOACVyndeYEsFErHm549hUa61OKhQ0G+p19v/uocODiZYmHZVVIBAavBEMYOquUMmdYlv4ZJwuC6w1MuiAl1OAz2QJ+RFlodU9mYTcqMCpIRCYLBQ8aonsiIq35H2QV2QVIqDWjiJb+Cz/4hiJqIdnVNWrAlDDNlAyGTB22ZmIoY9Hyc1t6Y0GobiI/CHfm40FWx6Y0BIJkVFzG+0pUmK3ga4yW3yrtP61Wf2X76pTZpVVTQ3VIBXARJgCJ//tUxE4ACXhtZ8wkaJEQhW45vuRKIjwCeGLEmEvGHkjU4t6jixglCO4DwvONC/KSAcBsadElCnBgGIqwEihEVY8SElXV4u9WsN8TGqH9My6yIAkPWS0gBUC3sxLGlkIemGNVuJ9po53xdTQR4rStWnp0WGK0yfxHblHU/36yoUUS0YzNQzlUkdZ5JGQDvbCwGuwKR7GtiQREdktzYewf66N0txdzkLicyGKIvphIQ0oaXxR7cOcHQJU7WpafdWv9//tUxFuACPgrWc1gxoEVEGyw8w4ONYqOIhze9DN/u/tpbaa/X/Me236ocNMOwS+GyIsG2mEQpXI/QMBI0QZ43FWoCTsR0tRf2gx1wznjCB6TRYaDQomJ5sm2UZHV03/87Kxqsv/HjTfm//jhdtb42mG9f/+HIccHndBIlFppBJAAHtlbbjdktrbYAAdpcgUQX3h5lxpEpED4SrLx0hDFDcAYIhMOvBCB+phjiHASZHg2dQprk2yoRrySfaJL5S9c//tUxGqACQj9aYeMUTEqGqzynoAGTclxW+ly9oHcSwglZPE4bsMOkj+Qc7b86fVi0kqbsvdAte58thyT7/deWujVnaSj7E+WM7898OV6s5M3/3rlnn/r92t1sC+IAyAAAAE1dkkAJ5/o4AAAFQZsZoMDmAaxcv6cM6aIqfZciGaZKyw4s08Z8GLTrjkaSJGeQjSxoJhinTyreg5Yd/HmXK/U40qLuPSvvATbMgkMYp9MzTrL8U/YJTxbj2/SzFxj//tUxHaAEWzZU7mMgBIjmSk3NZAAlir3/S4Z27Vr7jzVc/t6szFeTSi/8Vv2rNNh9SrYv4Tv/ne3lOWmVeRQLSBv3wL4HxLXMBIIhUJnnBh0l94SyeCTh8XQOAQUelXd2OdXt/qc5yf+3p87HFiHVkPdzf/mIHA4HBQ7p/+WQgcDhVHnut/qFIkZEEokVLJAdotqJL6jV0PcxSao3Q0RCILqixARIkVqpxI7lvTUpStKjX/IZB0T/b27nzVKbS5n//tUxEGACWELaVzCgBEjGy209Ikuf/9QqsCDAp/ULBRQErq/olloFtgKJKORgQi8pshENIEQxlwZTqRqXby3PbMp0S4YV5vchhIjv78rKHED5nPH1EiuUCmcaa9rtr1z6+i3f/xguywsEnLleJvWKhK4+Bga6BiFyQ1IknIKCAREseQ5SnQig8UywB5U0hurmmzp578eqIwMiP6J6GKJGHp/GddeprrIihg0HRWzDZMTmSge+tinAKLILkgXWSkt//tUxE0ACWDLZ6eYsrEnlSsk9gi+3QRNHpyBJj0TC7Zxs8IiD3W3dcvsokAWEJHE0gowp8/eIqMkSap/2TXVwBnVn8gJBJLGGCZA0RkHNP9wuD4gJad7vOqQqfLSstohJLS2k1SjYmyngQE6xxD/jZMo4VS4vmKdaPKvPVmkQXCUUkneZ2VWaEnUy+iJWjatudg5wXeFAUX5ZDxZaC5XDT7MrWwAIqagQDW0SlmOqpPDbesqccqHWbi5B5sS6Vrk//tUxFgASTyJWYwYTzEjFKqk8wpWIRf+V7i2FIOkJY7A9eICbw9mOw70Vm0d3RnanceBlUmkhn/9h8yGy5WjZqxZIipAEAPAFtcSWGkjFIHRGTk0kLSuEpLKqEBp45IxjkUGQrW2yReLZMaenIkCRF6igbFhHIigJuGHFjzjxOFxr8XZJAt539J5qNgAAAq6gNyJOJGE5QokSmJ0xsCIC4lApGFGGS8Xa0rJnyaS1EXRkxyAftete7ildOk5ndj8//tUxGQASTjRQOeYUQEciyhw9hiojuqeM3GnQUCQn1uuyRI4oPnnL8wsGlIQEAgNzegbPglRSaPwv5qPTxWFezMilBjh5aSEeZgWTqy3WjMifmt0XJ6Eesf8+2l3fzjZ8zv2QdlqAjPuWHzo1S26i5AI1dy6ejLrQTSuF2no1FUPguciIHKYC9jXX6hs6hJjLBVBOxEZVUR4SIl3ORWwJkg3XnnbVouiH3t39zbuVt+3////nDhCMJBEHA7FoimC//tUxHEACWShQaekS4EkFKj88w2wCZBYKkjR1PhsZfA4wNPrRFK0f+3embKMuJerwIpFa5yERiNvq3cu7tkreYZKB0moWnr///5dKVTIGo2CI3UsiH/nG/qVJkaBExICAnYwMwEIKCGhJxK5ItA02AJGVPKsMKkrmZzvWWnzJlrW4H7lXFqyhrTWpKrUOpeyHLsylKwtCjURWmNPX286690uwZz6LtVv63JgBRzcBsOCqO5DBMzBqDMqqjJANCeJ//tUxHwBCUj9OgwksQkcH6j0wTJ4C8doFjriTpyPOsLqkCYkeRmFAX9Qn2UiLFh16KX7UaCIll/669/de2hlKxCjMJaVUMG2AAKTuAYyZYqlBkNG48elBrEMtLrpWBcUITYnP3BsKQcXITzVzzFLTD1zhCWiMXm+i00CO/t3kauwKDdNNe8wePJuS5M1oTUUm1LGl68DbOVhX1WwZkl+EBzLmHF5ldCOL6mBsftYmZVBFZkko6ONBFK5mMReq/mX//tUxIiACZTrQeekSckpHyi0wYpg8T0qvozJ3MisKC/J5D8/8702MwcIvZBVAAITiQM1BCHYxizilmMDA7G4llQsAzg5XrDrsJRgbmDfzBMmEj/6Cr03v8U11aNxmy54PbTTtnoKPGqb1h0OA8h4TvvbkBFYAAA9YiEnJANII3tMZAJNYJADDjlShobNYtf8dRedE/PZaHt++Lrn4MhmaQ+t4+ludOvNsihmbPu4iaquqpPL1+/373gDRiS/15ta//tUxJKACSSlQ0yMTYEgGuqxhg1XSAYu0YST34C2HcM82xSeDqUR8Gggvk5BggGJJDNM6BqdWQXeMWXYSvUGktzx4ePEbfTzWxD91g1PWt3E+fb4nmqdVGUD+flN+s7+vsICHasgNzfARARATlIjln5Q6lDGnihjcDXZCmcBqKKZTadGZy9e2DAVkcm8pPdo/IO/bBR5seZpPbxzNnP4DPSf0viQey150RPvvdVVABZusQDc34DpICxRCu2lJCgM//tUxJ8ACPyxT4ewZXErGmj1gw20GQxaQicPq45VLCefVP8OOpUKJ3PoIwfO8MYwaFE/YZT7Pnp/xPYSw2Lb/7/H8eSQuSX977J3KlaYyxJslsaBTktAXZBiTkJORTDHOMSfAGK4HBaSDVwwaWIOcYMLX3PzySLxIbAYUKpXRGI+b3wbCh8VCSpEyB5ToPtD4gXEBuZcwfliTpsJOXVwAKK34LkZqMWFVoacjp4KMOTKknzMosOr/xHzdpnc3/T8//tUxKsACYhbRaewwwkvmKi1gw2w4dm6ySyhLDwkRMXJcBY2I7SO92U6DrmZYrnTMwtw3JZ0BAdEp/SbzszO/df986973+cmcnaLHFg8BQZ2O1FN++dtvw4PN/m3+nNm8z/rKg+Ohj5Av7kAAjxwdVHJa2xXlqr41/vOf+bL7uQmXyxISrOxPrhnXLmi5UUJqcaF2eRJZ+8zSPjyVzSVVxY3/+oESkV67UJzKFVJ97G1vH+fAifW/bX///8BrNBk//tUxLQACYRxRawwZUkvkKo09gzqVB/mmjy+LEZPuUN8rIkN/JHYGQlarXi2GRNK/3it37+PiMd6mcN41u9//IIQQXH6FYy7zNqGWAAmWXAoCPBc4lnHGnCdpnRvO27bf1T6Oqx8hAmMHCjqdBM73q6EnKLr/ni5URzujP+hhwuwk59Xb7jP2BC29RHsPxEsTcq8eDTcraz6V+m/w26lNf+FqNJ8zZy1a//x/f/ckWRhiZleZex1XiHhmZF0AAat//tUxL2ADxk5SaeZhcIeLCkkZ4r4lw2Dl8zS6Vnlyxt+61OYVMkdWezPuk/6VQj+DjKo6/SN4TVVCt/0Wrzvp/XZ2p/9TMruIDhTtHJif/9FIXoVvv/nqYiIAAAAqnRSEkqDcGhWVqpvxfVtwHkr86kG5kX36Kn81HNjrjgSIOwwdZUEkZ0Mhagyf3XCGU8kv7LTskn+Q4GRXWhV6psRiiLzrt66L/+6A4h6xBm5/92ZVZAHdpncbcOH5U9nbEoH//tUxJKADhlpX+MV88keHyy4wYnyQ44iCuk6soW4mzBq4E17HcJm4/odxD/QK9SkLsKhXi2znrMexVVSf7EQkyU3/ZLutN7fQ8sPPlu2SF199KfrGKBsGxZCdnmWNFVMAAHj8FGOoXJHnIcgkoN18OcUjiHWj6vJsYupas6zoEjN6dFGg40PjRmdlF6PM5FOpknVf9Wqlyt/07dl3+ryn5GJ/fd2RVb++t/+tchJx7DS7REwrKqrCAIEUkbnEOku//tUxIuASw1fX+YcVIFhHyy9pYnQB/uxbNmadRzDcsLAQZJ0CqdrOxEtAwjhT/+f3ctC7WICUcJwup9/du6IRDM1uqGMriErtr39Nf/RWVxYAGyt/nEjaibJ+un//RHOww69epmXZ3ZYQSSUmqMESOm8BgVFx68F3dJKdqS0bDbeJLqXa03Kbz/h9yqNkBtbRUYAFjdcrKViO7/lQp9VCf9+j7Fff6lYp3scv/scNQKo85b9Yli8Xv9VSzxQAAAD//tUxIiASu1nY8ewqNlxLOx88wm7Nx1PhzJhFPx+ChQRVJ2NJeEvJU/sEEbSki8fJv//03yEZGr6rCgonj2p4qmhMviIHBaTCO7cyoAlPY39Hs4Yc8qvt+hmKyDJqw8EUvIt9qflbUKVrN/p3HeeQUkV5OSUKhiQwzORJQfWriqyZmtmOgk18mkd5/ucx/Pbyumrg3VZWw+RWo5UiKOZDO76tlqNqqfZz/M/836spS0f/fo9y//3//wQSYBfBme7//tUxIQACnUZa+eMUxFyn6t8xIm43ayVZWgo3KPafKiL0ap/HcJIfaHKF8rgpBvR8rQ+Ir5jdYrHBZQVVNyOMtUr11hLAHL0Yphj4iDoqigs+WPO0UFhx4QmXwVyJbi6aqp5h1VSA248PUn9BOqDRWjeFAlFhGvsWF9IQBdFsdU6StNv34lpoezkArXJf2j+jFM/o60MdWRfe3VOtU/obVpS6/8sdQVxDxQOy622RtBYEQ1dygBMmQB9UcCqhk1C//tUxIEACrFhXeYYT4kwkyr88w2YPiw55Gydbp46EEaDzOWiB7X224c22MgEzFLRN/oqm0qUKMxI5gMgtJd25TZZMkp53qPHWfRVaZiHdlUSBHdwKJBOLA/Dq52Iwu0U5XHsbIo5CJMIKVQzcuL8XctGyeb5PC/R0BFGIKAeL3+a+oOiA/b6m5/e9M7zD//lJO3In//NrG8xDQiCJATl4GMI3hDoq+aj1WUTSFs7GUC9R5sbzk61dsnhskwFhRSW//tUxIWACWUZT+YMT4EoFWpwwwmuPNfK8LYuBXJh1x15swAwiwasc1ybC+MAwA5BBcJlWSyK3jh3h5MyAgpS8DyhkIWHrItHFweiOTALE07UaEr07H3CnO1xA4lRziXuUOlL1BxDaOiIUF9WC+uZVXgEuD3P+2n94N//9kYJt+ncvyZuayNIm5yJgEoCGETdxG6IJgKaOBiXF68SlrFkD6YnjmO0EsjQkIs5scrwBoIygNFGg0RAZkyNcsGjS48///tUxJAACXxxR+eYTwksEGh88w2oBn1PATdYZnnP1KbWVkDtISAASnABxunUXonO1KcmHIJCsgBCSZLGR9yK/ylBryQCgMA4HyUVDEpnJDndHAfILm4ylU2ftjF/9U4HJshSnDL6A1DqD5M7ajVMM7GQgKW7AYICF6hABANoiqy2tH4gmx0imFl6CdlZrw2ixIxEssDaM+VsZMlRvzwneNh5te8L4RMqFRgTDQw8PAScX8XmF2O79FU4mZVXQhAM//tUxJoACYBXQeewwwknDGjthhjmt+A8c6C6DWczeblWsSpxNqqI9jn7R4mlEtZki9IJAswmyD1SWZoZKzLzjkDN9QjdZeAjC2Gc1MiMMKElty5tyxxtbA9ZoNv1stAATdAFyHZHzQKi0hIFSIDQgZxU0LHANo1RQZ/2DaJEIyEKWJoGdFLacAosW61HrBYTFL5psZE2UWmcaJxLc2iEwUJLI1vWF3eFZEUwAnPgJoOgBC1iyIQk0WFiQEujBVtY//tUxKSACVSpOaekacEuESg89hhgJnXEYNkiKLLCWRTNYQ59JqTtY5VN8cSONi9pAKmRC1MRKKNViwOT0WFxglFXkjNbfSDNEI7mQEAp2gfagRMaMPtDzRY/LxEmA8JQ6r1rvwKV3fTrLLsTVkOGnZecveiqqlK1s7D7/Ctktc4VIGwaQHdsS1ViEre53qremjZ/tSAAinYBtzBXXyaIAXnLJCLAliObLI91J+vlk10UryiyRYDRks2K/x0hd/Uf//tUxK6ACZipQeeYcMEolGc0kYsQBfEMZLmU4/2/S3GOMOpILpVfWvNDTcONf7L6RUtuyAAQpmBOlYP++cJiUkuwmZKoqy1j1IydOloEOKoWhjAVFJGgQJ9sHAymZIowqZIblPyJcsM/dGMGDCOZG0M/+QwUqmY4dLamf6oXbbQgABF0AZhOBqDWjg4hUh1JpgPhKWUTSf9G530YWHcUSFKBQYkgdmT09TS8AlBRsFFGxYQV3f3tZdGQ8PdDwT8f//tUxLiACYxtP+YkacEolGd89g04hJmv5Lv+wxE9bUAPMPjB7vdJqZIbDSQh3JkTEjsCqMqViicjtR6EkBIAaMIU8PJoOJAI8qUKQWR2JJlFG+mZqd6Oc/ykVP/LufajYNgvJyoybaMAAAFwAYrK6ZHU/G3jcg3NjQ1Lq5nHGqQ0fjN657a1clhTA62xc1tEU5CUu049rCI9oXA9+lmpFfURZ4skd/VhInPhfX6A3ZodSIwAncAPrMM82fqOj020//tUxMKACUilN6YkbYEyGma0xI2oLJkVkofRrYbSmj8kI0ffOJ07LMUNo2h90IqEPW/wUQc1DL7gmUu7mSkD1EIHhNK7+W5Pn8l7rfYJuRMEABYE/7AkMnbx6YDT6sPUZyfHhTOpfa8mFUm5iESk4+DqZHxaJI6Ew4yBsmM2Utek/3Q1g09zAqYvSVekXq47ogdXm7vNVsft+kYMigITEShQ5FEH1pKiRBKtkbGO+UadE7YUc6rP2kBSOjyTobDQ//tUxMyASUCnNaYEuAkhGuZsxI2pxBV5HqI8t8rAuDwdMZ/Twqtc1hQ0UkBUqYTj+JB59c6i/Wi1w37F5JTDwyQQshNVHQANSCMSu+0EapWCrB+QKJh4XFhwcDwPhWFa84mJKlSgV0OsY58J8+AOw9KNOgghlFeM4PBkLmxtzYOioHxlLUSFCqFaVRb6QSk5hGhkKo04LwXTUV71uHazg5KGteW/8P///YASgACmYsyh1hsOw0r3g7GBHQSGqLoh//tUxNiACQihNaYYeAkqFKc89I2pD0GKkWgcI2YSvZlRk2xDy6iThDgXxAAEpGjfMsQIOQYKiZrTNoFEGkoopFRsBG4CuC5VaRyCmK2iELpTMo3EFiM7siYsdj1Sf/ofr//boQW9AAhDif6i9CcVrRpLjmHK2E4VIR4YJCMOyqMzLCjTrgshloUIQWZojLNUfysWGQMAFGVnH6qIqurreU3FyZU9PLwK6Sg5RGJGXxI84xCh61mP////0hFuWAAB//tUxOSAibylLYYYeElSFmTgl5l4TWZKzJWpxc9bIvJT40DyfnxNWvsrYqyhbEfLQ3WotJQoDwxOFxQMD5YMwHTy8G9AMTAnvOKCaDN0cEpc4CMnkpTwceXIisFQ8LpT/6v//9QZlAAAYBM9EjAc7yDAccdGAyYNkywSaCQZMBZNIpKG5j4PhQLEYX8AvZ3Caog50ch6TU5eFOtYwxY0SFwWu9myOXf1/7SzWqc80iOjEePv+r0o3f+04BIgAsLi//tUxOiAjIyzIKY9MoGVlSQgx6ZQIVNxNaFhhGAdYSgqGwsOBUw5jVamQ5+fx8EqMkm8QXROE5B+AsS7tgm5+EsGemFsdKseaa2+BCCsB0LmljCZPW5OzfNxcPt3YVuSVkVVwFdoHQC6OtFls//9P/9SKgkAAoJBdFSsuKDpSAXA5I8AKgbkPEJKuKwyVDxVUm5xosIcYhhBeHgLqYRKXE/TxGWc0WKr1mJGXJZA8Hi0GhZihWvFXaTm1I7NDJ1f//tUxNkACtypJwY9EoFUFGVwww8ArtUeMiwnJ7zK240kUsc3////UCsQDIAqVWRMbF8biWEyNawFhqNdFCWRP4rDYboJGIYMwtEQ+D4QBqMBEOCMT1olVaubssMq1jSFr9kCHdHM3lemmgWsudIWRK5ovcrv4//jGee8VDxqWCAKrdviotUeAEYKFqA5yfmlz7g8qG32iwXBeXBpTJFzmKicNCJOI3UC+L6F6eRpzktoaBiAOem4mHiBceclN9g+//tUxNiAiqynJSS80smLleQgl6IgXzdkf+vyKOGFXz0vNBqy6guGOy4AB0SmjwZWt39v81/zwA0gISk47mD+ilwyK0JwM0BJqhkQFNFh4K6DsqMVAoD/MgySViQIcTlzZVLpKXQiZxnfrVXslAVcuESyMx9K0orzY/tlo1AoP1/apcXhW5vCi4wFqQAIeh/0+PPskg9bENxVCsQHRLbqdhNALaKR0xTuRxEAQ8/wmmQ6iQGi1TnuuTD2+tLM4KWw//tUxNGAi/SpIKS9NIF3HGSgww+IsXllY+RDpqtrNeNeZku9lbTAJuQXnCYZDbwC9xKZ/3f7voBZwAgEwFJt2KkpljCQ0Knc7B6NlCYA5fVSQSawsZQvJTvNlZdJ6GxLUxwuEama1cjbQlk7Pp03njtRqsg0bQWGAM+3AIihwYCJAaEFP/1KFCUAACAtMTIGPKWYzQkJWF1EKqRgPUuNkyTUBgzEpEOQKHIIHAbjARKFU+Gi7NJ7WKOHaG5ERndi//tUxMgAy2ynIqY9NEFKlGRgx5qRzyDmnIXilzGaVd3rIBxYdaTZ3f6Kv0AlExABgNJh+eWq0xd+hVVjAkJG/YaQzx69bOE5BB5zW3yiFmWEKaC66VqEOLa9XfWYO3j3QyoRHTjeL9xmZ5/l/OqXje81KTRN9MUMHbiyqgIARCIS2h/qyzFEZsxJ44vpdaPZ1xHXmNyYDp+n06hjMPlCRJ5zOTLAwpudgfpFAz629kosEEEyzrJgjNBU7jgyo9WC//tUxMaAizCpIwY81IE7lGTkl6KIQ8POu1goKagK41+RBI4AgKHBJrG3elV3CSNBwTVh0V+RKVdanCCXzpbqrQ49lsfIV4eFEFyOepjHVg9HvN2fXalm3O/nQ1Bc0HhA0KgkwaWChhYxcMxzmRrmGP//0u3eugSi4SAADAUM9V88hXpJ0TzsSROMnbPLoUmvKFxfZFrS8sIgfEsXhMyQiUWlhhJWUtHaf3qZ9/V5OT/ZJTK1SUCRiCnfIrNql2vv//tUxMeAifStJySwdIE+lmTwx5qQb4tAgAKAMUQvIpbJrqh14eZAqoCAh5KgXQhkRDTAHKnEXttep647WAV9EqxKufGSLglLCK92FmD6z5qXpDX7MS2H06U/CGhe9f5Ibd1q/xmqIgBHXQDIWaoh1NVcpIhSZESu75QLucnqKUm3qlRmUK6lIKI4eZYUmtOMLCFKl+8eQpYsU1cjStM7HZ78ukz9zJ6y/zjneuZrTMz4VKjQh+wn/u/V1+kBGQMZ//tUxM0AigCpIqY8dIFSD+Skx7KAyx2jka3rsRHzI+r0I6V88XacclMvI2g9G68wKIcric2B80Tl9dGHp2q483ITkbLRrNGKow9ealkC3t8wtCRgOD6xuv1z3///VVUSAEQa7SeXlZ+WGXedoWLVSKrPKhMSEN6BosLInV2ihSgvVwXFVJ162K9JGwNw5YGRwQR7+cevO9LN/7lE77u7TnKAjX9MeWHh2r///beAIyEgdfJ4nNFH/4s8IsX0wHiw//tUxNAAibCpJ4YEfAkzFORgl6KJhZ2ES0yaN71uORMHY6RDTY610rwMkwSTX8q0w71mv/+5Ub88NronPsosYGQokcHWL3yydTf/pQIAA5dhgOvp9hjgsFBVyB4nUDhYjmBuHqW0gJAwvE8GYREMFkyGXPDBEV0FGvK2eta67LHahiBieO5fzH28/ImgVAWDgUHX/d/7v+wAVgAlZMHo6v2ut04ERPBdWrWngkqmC4HomE4f4iePRbBErFYXg0C8//tUxNgAisCpIKS8z0E1lSRgww9ABxCbDgolqN8yWk1NF71GDhqC6FwyirSEPeHs5jDQ17GnjM7+n1VlYwfv/W781vXhory5binrlAuGR3p05ESEhN2IjCw6UQlVAbE5OTQU6fV4FAv4no0DhL0QJVKRxVTOcMCHluI4INkOxdsWcl9lLb1bbMn0UbEeoPY+yGkI/+AH5KU///5Ahj6AHG3LDic1hiRItoiBIBn0BExl2DMBAQEBAhVJnLZQql57//tUxNuAicStIKY81EEmlSRkZ5qIbG18BAXy1MlBWHSwNP7v9HV9X8f9H7VAAIAE6zV1KSwWQpNasKgsGmrjXjGkSJChjRE8hZqtVJaRaQhUVPQsxzyvDwxwMyqXVjXjNhRP7AQEaqAqdVVVVX//VWP/1wwo4dKBlVY2ql+Yxn/9TSlLUKJN8vBsUFBQXgUFDYp3wibCIJGRgG0R8ssssZWsqOhf/6qGCggYIOlsssstlllzZWsqPJWssdC//9Ws//tUxOUAiYCfHKMwz0FaE+OkwZtIssqsoIGCDD///CaaaaKqqgy3/6hWmmkGqqiF//9paaaaKqqlTEFNRTMuMTAwVVVVVVVVVVVVVVVVVVVVVVVVVVVVVVVVVVVVVVVVVVVVVVVVVVVVVVVVVVVVVVVVVVVVVVVVVVVVVVVVVVVVVVVVVVVVVVVVVVVVVVVVVVVVVVVVVVVVVVVVVVVVVVVVVVVVVVVVVVVVVVVVVVVVVVVVVVVVVVVVVVVVVVVV//tUxOkACvizGAY80sDsD+RoFI1IVVVVVVVVVVVVVVVVVVVVVVVVVVVVVVVVVVVVVVVVVVVVVVVVVVVVVVVVVVVVVVVVVVVVVVVVVVVVVVVVVVVVVVVVVVVVVVVVVVVVVVVVVVVVVVVVVVVVVVVVVVVVVVVVVVVVVVVVVVVVVVVVVVVVVVVVVVVVVVVVVVVVVVVVVVVVVVVVVVVVVVVVVVVVVVVVVVVVVVVVVVVVVVVVVVVVVVVVVVVVVVVVVVVV//tUxPUADQFG+QSMWwk+HI7EEA2BVVVVVVVVVVVVVVVVVVVVVVVVVVVVVVVVVVVVVVVVVVVVVVVVVVVVVVVVVVVVVVVVVVVVVVVVVVVVVVVVVVVVVVVVVVVVVVVVVVVVVVVVVVVVVVVVVVVVVVVVVVVVVVVVVVVVVVVVVVVVVVVVVVVVVVVVVVVVVVVVVVVVVVVVVVVVVVVVVVVVVVVVVVVVVVVVVVVVVVVVVVVVVVVVVVVVVVVVVVVVVVVVVVVV\" type=\"audio/mpeg\"/>\n",
       "                        Your browser does not support the audio element.\n",
       "                    </audio>\n",
       "                  "
      ],
      "text/plain": [
       "<pydub.audio_segment.AudioSegment at 0x7fbeb465b7f0>"
      ]
     },
     "execution_count": 17,
     "metadata": {},
     "output_type": "execute_result"
    }
   ],
   "source": [
    "q = three\n",
    "sample = np.random.randint(q.shape[0])\n",
    "print(q.iloc[sample].sentence)\n",
    "listen_to_sample(df=q, ix=sample, clips_path=clips_path)"
   ]
  },
  {
   "cell_type": "code",
   "execution_count": 22,
   "metadata": {},
   "outputs": [],
   "source": [
    "parent_dir = \"two_word_dataset\""
   ]
  },
  {
   "cell_type": "code",
   "execution_count": null,
   "metadata": {},
   "outputs": [],
   "source": [
    "# create directory structure\n",
    "raise ValueError(\"caution: script operates on fs\")\n",
    "cur = os.getcwd()\n",
    "print(f\"operating in {cur}\")\n",
    "for dest in [\"clips\", \"logs\", \"extractions_gcloud\", \"extractions_deepspeech\", \"transcripts_gcloud\"]:\n",
    "    for k in keywords_set:\n",
    "        newdir = f\"{parent_dir}/{dest}/{k}/\"\n",
    "        os.makedirs(newdir)\n",
    "        print(newdir)"
   ]
  },
  {
   "cell_type": "code",
   "execution_count": 24,
   "metadata": {},
   "outputs": [],
   "source": [
    "# save tsvs of NUM_SAMPLES examples selected for each of the 3 keywords\n",
    "for df, name in zip([up, down, three], [\"up\", \"down\", \"three\"]):\n",
    "    df.drop(columns=kws, axis=1).to_csv(\n",
    "        f\"{parent_dir}/{name}.tsv\", sep=\"\\t\", quoting=csv.QUOTE_MINIMAL, index=False\n",
    "    )"
   ]
  },
  {
   "cell_type": "code",
   "execution_count": 26,
   "metadata": {},
   "outputs": [],
   "source": [
    "# copy source mp3s into correct subdirectory\n",
    "for df, keyword in zip([up, down, three], [\"up\", \"down\", \"three\"]):\n",
    "    for _,r in df.iterrows():\n",
    "        mp3_path = clips_path + r.path\n",
    "        shutil.copy2(mp3_path, f\"./{parent_dir}/clips/{keyword}\")"
   ]
  },
  {
   "cell_type": "markdown",
   "metadata": {},
   "source": [
    "## Extract keywords using Google Cloud STT API Results"
   ]
  },
  {
   "cell_type": "code",
   "execution_count": 120,
   "metadata": {},
   "outputs": [],
   "source": [
    "def find_keyword(timings, keyword):\n",
    "    \"\"\"returns either (start,end) in seconds, or None\"\"\"\n",
    "    for timing in timings:\n",
    "        word = timing['word']\n",
    "        \n",
    "        # TODO(MMAZ) note this only extracts the first word for now\n",
    "        # i.e., \"tap up, then up, then down\" will only return the first \"up\"\n",
    "        if word == keyword:\n",
    "            return timing['start_time'], timing['end_time']\n",
    "    return None"
   ]
  },
  {
   "cell_type": "code",
   "execution_count": 5,
   "metadata": {},
   "outputs": [
    {
     "ename": "FileNotFoundError",
     "evalue": "[Errno 2] File ./micro_dataset/three.tsv does not exist: './micro_dataset/three.tsv'",
     "output_type": "error",
     "traceback": [
      "\u001b[0;31m---------------------------------------------------------------------------\u001b[0m",
      "\u001b[0;31mFileNotFoundError\u001b[0m                         Traceback (most recent call last)",
      "\u001b[0;32m<ipython-input-5-c64642d61583>\u001b[0m in \u001b[0;36m<module>\u001b[0;34m\u001b[0m\n\u001b[1;32m      1\u001b[0m \u001b[0mkeyword\u001b[0m \u001b[0;34m=\u001b[0m \u001b[0;34m\"three\"\u001b[0m\u001b[0;34m\u001b[0m\u001b[0;34m\u001b[0m\u001b[0m\n\u001b[0;32m----> 2\u001b[0;31m \u001b[0mdf\u001b[0m \u001b[0;34m=\u001b[0m \u001b[0mpd\u001b[0m\u001b[0;34m.\u001b[0m\u001b[0mread_csv\u001b[0m\u001b[0;34m(\u001b[0m\u001b[0;34mf\"./micro_dataset/{keyword}.tsv\"\u001b[0m\u001b[0;34m,\u001b[0m \u001b[0msep\u001b[0m\u001b[0;34m=\u001b[0m\u001b[0;34m\"\\t\"\u001b[0m\u001b[0;34m)\u001b[0m\u001b[0;34m\u001b[0m\u001b[0;34m\u001b[0m\u001b[0m\n\u001b[0m\u001b[1;32m      3\u001b[0m \u001b[0mprint\u001b[0m\u001b[0;34m(\u001b[0m\u001b[0;34mf\"{keyword}.tsv # of examples:\"\u001b[0m\u001b[0;34m,\u001b[0m \u001b[0mdf\u001b[0m\u001b[0;34m.\u001b[0m\u001b[0mshape\u001b[0m\u001b[0;34m[\u001b[0m\u001b[0;36m0\u001b[0m\u001b[0;34m]\u001b[0m\u001b[0;34m)\u001b[0m\u001b[0;34m\u001b[0m\u001b[0;34m\u001b[0m\u001b[0m\n\u001b[1;32m      4\u001b[0m \u001b[0;34m\u001b[0m\u001b[0m\n\u001b[1;32m      5\u001b[0m \u001b[0;32mfor\u001b[0m \u001b[0mix\u001b[0m\u001b[0;34m,\u001b[0m \u001b[0;34m(\u001b[0m\u001b[0m_\u001b[0m\u001b[0;34m,\u001b[0m \u001b[0mr\u001b[0m\u001b[0;34m)\u001b[0m \u001b[0;32min\u001b[0m \u001b[0menumerate\u001b[0m\u001b[0;34m(\u001b[0m\u001b[0mdf\u001b[0m\u001b[0;34m.\u001b[0m\u001b[0miterrows\u001b[0m\u001b[0;34m(\u001b[0m\u001b[0;34m)\u001b[0m\u001b[0;34m)\u001b[0m\u001b[0;34m:\u001b[0m\u001b[0;34m\u001b[0m\u001b[0;34m\u001b[0m\u001b[0m\n",
      "\u001b[0;32m~/miniconda3/envs/deepspeech/lib/python3.8/site-packages/pandas/io/parsers.py\u001b[0m in \u001b[0;36mparser_f\u001b[0;34m(filepath_or_buffer, sep, delimiter, header, names, index_col, usecols, squeeze, prefix, mangle_dupe_cols, dtype, engine, converters, true_values, false_values, skipinitialspace, skiprows, skipfooter, nrows, na_values, keep_default_na, na_filter, verbose, skip_blank_lines, parse_dates, infer_datetime_format, keep_date_col, date_parser, dayfirst, cache_dates, iterator, chunksize, compression, thousands, decimal, lineterminator, quotechar, quoting, doublequote, escapechar, comment, encoding, dialect, error_bad_lines, warn_bad_lines, delim_whitespace, low_memory, memory_map, float_precision)\u001b[0m\n\u001b[1;32m    674\u001b[0m         )\n\u001b[1;32m    675\u001b[0m \u001b[0;34m\u001b[0m\u001b[0m\n\u001b[0;32m--> 676\u001b[0;31m         \u001b[0;32mreturn\u001b[0m \u001b[0m_read\u001b[0m\u001b[0;34m(\u001b[0m\u001b[0mfilepath_or_buffer\u001b[0m\u001b[0;34m,\u001b[0m \u001b[0mkwds\u001b[0m\u001b[0;34m)\u001b[0m\u001b[0;34m\u001b[0m\u001b[0;34m\u001b[0m\u001b[0m\n\u001b[0m\u001b[1;32m    677\u001b[0m \u001b[0;34m\u001b[0m\u001b[0m\n\u001b[1;32m    678\u001b[0m     \u001b[0mparser_f\u001b[0m\u001b[0;34m.\u001b[0m\u001b[0m__name__\u001b[0m \u001b[0;34m=\u001b[0m \u001b[0mname\u001b[0m\u001b[0;34m\u001b[0m\u001b[0;34m\u001b[0m\u001b[0m\n",
      "\u001b[0;32m~/miniconda3/envs/deepspeech/lib/python3.8/site-packages/pandas/io/parsers.py\u001b[0m in \u001b[0;36m_read\u001b[0;34m(filepath_or_buffer, kwds)\u001b[0m\n\u001b[1;32m    446\u001b[0m \u001b[0;34m\u001b[0m\u001b[0m\n\u001b[1;32m    447\u001b[0m     \u001b[0;31m# Create the parser.\u001b[0m\u001b[0;34m\u001b[0m\u001b[0;34m\u001b[0m\u001b[0;34m\u001b[0m\u001b[0m\n\u001b[0;32m--> 448\u001b[0;31m     \u001b[0mparser\u001b[0m \u001b[0;34m=\u001b[0m \u001b[0mTextFileReader\u001b[0m\u001b[0;34m(\u001b[0m\u001b[0mfp_or_buf\u001b[0m\u001b[0;34m,\u001b[0m \u001b[0;34m**\u001b[0m\u001b[0mkwds\u001b[0m\u001b[0;34m)\u001b[0m\u001b[0;34m\u001b[0m\u001b[0;34m\u001b[0m\u001b[0m\n\u001b[0m\u001b[1;32m    449\u001b[0m \u001b[0;34m\u001b[0m\u001b[0m\n\u001b[1;32m    450\u001b[0m     \u001b[0;32mif\u001b[0m \u001b[0mchunksize\u001b[0m \u001b[0;32mor\u001b[0m \u001b[0miterator\u001b[0m\u001b[0;34m:\u001b[0m\u001b[0;34m\u001b[0m\u001b[0;34m\u001b[0m\u001b[0m\n",
      "\u001b[0;32m~/miniconda3/envs/deepspeech/lib/python3.8/site-packages/pandas/io/parsers.py\u001b[0m in \u001b[0;36m__init__\u001b[0;34m(self, f, engine, **kwds)\u001b[0m\n\u001b[1;32m    878\u001b[0m             \u001b[0mself\u001b[0m\u001b[0;34m.\u001b[0m\u001b[0moptions\u001b[0m\u001b[0;34m[\u001b[0m\u001b[0;34m\"has_index_names\"\u001b[0m\u001b[0;34m]\u001b[0m \u001b[0;34m=\u001b[0m \u001b[0mkwds\u001b[0m\u001b[0;34m[\u001b[0m\u001b[0;34m\"has_index_names\"\u001b[0m\u001b[0;34m]\u001b[0m\u001b[0;34m\u001b[0m\u001b[0;34m\u001b[0m\u001b[0m\n\u001b[1;32m    879\u001b[0m \u001b[0;34m\u001b[0m\u001b[0m\n\u001b[0;32m--> 880\u001b[0;31m         \u001b[0mself\u001b[0m\u001b[0;34m.\u001b[0m\u001b[0m_make_engine\u001b[0m\u001b[0;34m(\u001b[0m\u001b[0mself\u001b[0m\u001b[0;34m.\u001b[0m\u001b[0mengine\u001b[0m\u001b[0;34m)\u001b[0m\u001b[0;34m\u001b[0m\u001b[0;34m\u001b[0m\u001b[0m\n\u001b[0m\u001b[1;32m    881\u001b[0m \u001b[0;34m\u001b[0m\u001b[0m\n\u001b[1;32m    882\u001b[0m     \u001b[0;32mdef\u001b[0m \u001b[0mclose\u001b[0m\u001b[0;34m(\u001b[0m\u001b[0mself\u001b[0m\u001b[0;34m)\u001b[0m\u001b[0;34m:\u001b[0m\u001b[0;34m\u001b[0m\u001b[0;34m\u001b[0m\u001b[0m\n",
      "\u001b[0;32m~/miniconda3/envs/deepspeech/lib/python3.8/site-packages/pandas/io/parsers.py\u001b[0m in \u001b[0;36m_make_engine\u001b[0;34m(self, engine)\u001b[0m\n\u001b[1;32m   1112\u001b[0m     \u001b[0;32mdef\u001b[0m \u001b[0m_make_engine\u001b[0m\u001b[0;34m(\u001b[0m\u001b[0mself\u001b[0m\u001b[0;34m,\u001b[0m \u001b[0mengine\u001b[0m\u001b[0;34m=\u001b[0m\u001b[0;34m\"c\"\u001b[0m\u001b[0;34m)\u001b[0m\u001b[0;34m:\u001b[0m\u001b[0;34m\u001b[0m\u001b[0;34m\u001b[0m\u001b[0m\n\u001b[1;32m   1113\u001b[0m         \u001b[0;32mif\u001b[0m \u001b[0mengine\u001b[0m \u001b[0;34m==\u001b[0m \u001b[0;34m\"c\"\u001b[0m\u001b[0;34m:\u001b[0m\u001b[0;34m\u001b[0m\u001b[0;34m\u001b[0m\u001b[0m\n\u001b[0;32m-> 1114\u001b[0;31m             \u001b[0mself\u001b[0m\u001b[0;34m.\u001b[0m\u001b[0m_engine\u001b[0m \u001b[0;34m=\u001b[0m \u001b[0mCParserWrapper\u001b[0m\u001b[0;34m(\u001b[0m\u001b[0mself\u001b[0m\u001b[0;34m.\u001b[0m\u001b[0mf\u001b[0m\u001b[0;34m,\u001b[0m \u001b[0;34m**\u001b[0m\u001b[0mself\u001b[0m\u001b[0;34m.\u001b[0m\u001b[0moptions\u001b[0m\u001b[0;34m)\u001b[0m\u001b[0;34m\u001b[0m\u001b[0;34m\u001b[0m\u001b[0m\n\u001b[0m\u001b[1;32m   1115\u001b[0m         \u001b[0;32melse\u001b[0m\u001b[0;34m:\u001b[0m\u001b[0;34m\u001b[0m\u001b[0;34m\u001b[0m\u001b[0m\n\u001b[1;32m   1116\u001b[0m             \u001b[0;32mif\u001b[0m \u001b[0mengine\u001b[0m \u001b[0;34m==\u001b[0m \u001b[0;34m\"python\"\u001b[0m\u001b[0;34m:\u001b[0m\u001b[0;34m\u001b[0m\u001b[0;34m\u001b[0m\u001b[0m\n",
      "\u001b[0;32m~/miniconda3/envs/deepspeech/lib/python3.8/site-packages/pandas/io/parsers.py\u001b[0m in \u001b[0;36m__init__\u001b[0;34m(self, src, **kwds)\u001b[0m\n\u001b[1;32m   1889\u001b[0m         \u001b[0mkwds\u001b[0m\u001b[0;34m[\u001b[0m\u001b[0;34m\"usecols\"\u001b[0m\u001b[0;34m]\u001b[0m \u001b[0;34m=\u001b[0m \u001b[0mself\u001b[0m\u001b[0;34m.\u001b[0m\u001b[0musecols\u001b[0m\u001b[0;34m\u001b[0m\u001b[0;34m\u001b[0m\u001b[0m\n\u001b[1;32m   1890\u001b[0m \u001b[0;34m\u001b[0m\u001b[0m\n\u001b[0;32m-> 1891\u001b[0;31m         \u001b[0mself\u001b[0m\u001b[0;34m.\u001b[0m\u001b[0m_reader\u001b[0m \u001b[0;34m=\u001b[0m \u001b[0mparsers\u001b[0m\u001b[0;34m.\u001b[0m\u001b[0mTextReader\u001b[0m\u001b[0;34m(\u001b[0m\u001b[0msrc\u001b[0m\u001b[0;34m,\u001b[0m \u001b[0;34m**\u001b[0m\u001b[0mkwds\u001b[0m\u001b[0;34m)\u001b[0m\u001b[0;34m\u001b[0m\u001b[0;34m\u001b[0m\u001b[0m\n\u001b[0m\u001b[1;32m   1892\u001b[0m         \u001b[0mself\u001b[0m\u001b[0;34m.\u001b[0m\u001b[0munnamed_cols\u001b[0m \u001b[0;34m=\u001b[0m \u001b[0mself\u001b[0m\u001b[0;34m.\u001b[0m\u001b[0m_reader\u001b[0m\u001b[0;34m.\u001b[0m\u001b[0munnamed_cols\u001b[0m\u001b[0;34m\u001b[0m\u001b[0;34m\u001b[0m\u001b[0m\n\u001b[1;32m   1893\u001b[0m \u001b[0;34m\u001b[0m\u001b[0m\n",
      "\u001b[0;32mpandas/_libs/parsers.pyx\u001b[0m in \u001b[0;36mpandas._libs.parsers.TextReader.__cinit__\u001b[0;34m()\u001b[0m\n",
      "\u001b[0;32mpandas/_libs/parsers.pyx\u001b[0m in \u001b[0;36mpandas._libs.parsers.TextReader._setup_parser_source\u001b[0;34m()\u001b[0m\n",
      "\u001b[0;31mFileNotFoundError\u001b[0m: [Errno 2] File ./micro_dataset/three.tsv does not exist: './micro_dataset/three.tsv'"
     ]
    }
   ],
   "source": [
    "keyword = \"three\"\n",
    "df = pd.read_csv(f\"./micro_dataset/{keyword}.tsv\", sep=\"\\t\")\n",
    "print(f\"{keyword}.tsv # of examples:\", df.shape[0])\n",
    "\n",
    "for ix, (_, r) in enumerate(df.iterrows()):\n",
    "    if ix != 30:\n",
    "        continue\n",
    "    if ix % 10 == 0:\n",
    "        print(\"progress\", ix)\n",
    "    mp3_path = f\"./micro_dataset/clips/{keyword}/\" + r.path\n",
    "    \n",
    "    fname = f\"./micro_dataset/transcripts_googlecloud/{keyword}/{r.path}.json\"\n",
    "    with open(fname, 'r') as fh:\n",
    "        try:\n",
    "            transcription = json.load(fh)\n",
    "        except json.JSONDecodeError as e:\n",
    "            logging.warning(f\"no transcription returned by GCP STT API for sentence {ix}\")\n",
    "            continue\n",
    "\n",
    "    result = find_keyword(transcription[\"timings\"], keyword)\n",
    "    if result is None:\n",
    "        logging.warning(f\"keyword {keyword} not found in inference for sentence {ix}:\\n - {transcription['transcript']}\")\n",
    "        continue\n",
    "\n",
    "    start_s, end_s = result    \n",
    "    \n",
    "    dest = f\"./micro_dataset/extractions_googlecloud/{keyword}/{r.path}.wav\"\n",
    "    \n",
    "    # convert to wav (will overwrite existing dest)\n",
    "    transformer = sox.Transformer()\n",
    "    transformer.convert(samplerate=16000)\n",
    "    transformer.trim(start_s, end_s)\n",
    "    transformer.build(mp3_path, dest)\n",
    "    \n",
    "    # to listen\n",
    "    clip = pydub.AudioSegment.from_wav(dest)\n",
    "    play(clip)"
   ]
  },
  {
   "cell_type": "markdown",
   "metadata": {},
   "source": [
    "### Listen to word splits"
   ]
  },
  {
   "cell_type": "code",
   "execution_count": 112,
   "metadata": {},
   "outputs": [],
   "source": [
    "selected = pd.read_csv(\"selected_clips_yes_no_three.tsv\", sep=\"\\t\")"
   ]
  },
  {
   "cell_type": "code",
   "execution_count": 113,
   "metadata": {},
   "outputs": [],
   "source": [
    "# TODO(MMAZ) lower() and remove punctuation, etc\n",
    "# pasted from https://stackoverflow.com/a/32558749\n",
    "def levenshteinDistance(s1, s2):\n",
    "    if len(s1) > len(s2):\n",
    "        s1, s2 = s2, s1\n",
    "\n",
    "    distances = range(len(s1) + 1)\n",
    "    for i2, c2 in enumerate(s2):\n",
    "        distances_ = [i2+1]\n",
    "        for i1, c1 in enumerate(s1):\n",
    "            if c1 == c2:\n",
    "                distances_.append(distances[i1])\n",
    "            else:\n",
    "                distances_.append(1 + min((distances[i1], distances[i1 + 1], distances_[-1])))\n",
    "        distances = distances_\n",
    "    return distances[-1]"
   ]
  },
  {
   "cell_type": "code",
   "execution_count": 143,
   "metadata": {},
   "outputs": [],
   "source": [
    "def listen_to_split_on_boundaries(timings, clip, keywords_set=None):\n",
    "    if keywords_set is not None:\n",
    "        words = set([t[\"word\"] for t in timings])\n",
    "        if words.isdisjoint(keywords_set):\n",
    "            print(\"No keywords found in the transcription\")\n",
    "    for ix, timing in enumerate(timings):\n",
    "        word = timing['word']\n",
    "        if keywords_set and word not in keywords_set:\n",
    "            continue\n",
    "        start_ms = timing['start_time'] * 1000\n",
    "        end_ms = timing['end_time'] * 1000\n",
    "        print(f\"word {ix}: {word} \\n - start_time: {timing['start_time']:.3f} - end_time: {timing['end_time']:.3f}\")\n",
    "        play(clip[start_ms:end_ms])\n",
    "        time.sleep(1)"
   ]
  },
  {
   "cell_type": "markdown",
   "metadata": {},
   "source": [
    "### Selected keywords"
   ]
  },
  {
   "cell_type": "code",
   "execution_count": 136,
   "metadata": {},
   "outputs": [
    {
     "data": {
      "text/plain": [
       "{'no', 'three', 'up'}"
      ]
     },
     "execution_count": 136,
     "metadata": {},
     "output_type": "execute_result"
    }
   ],
   "source": [
    "keyword_set"
   ]
  },
  {
   "cell_type": "code",
   "execution_count": 150,
   "metadata": {},
   "outputs": [
    {
     "name": "stdout",
     "output_type": "stream",
     "text": [
      "Sample: 10\n",
      "Groundtruth: He has a wife, Sherri, and three daughters.\n",
      "Inference: he has a wife Sherry and three daughters\n",
      "Edit Distance: 5\n",
      "\n",
      "--\n",
      "\n",
      "word 6: three \n",
      " - start_time: 2.200 - end_time: 2.400\n"
     ]
    }
   ],
   "source": [
    "for ix, row in selected.iterrows():\n",
    "    print(f\"Sample: {ix}\")\n",
    "    fname = \"./keywords_transcriptions/\" + row.path + \".json\"\n",
    "    with open(fname, 'r') as fh:\n",
    "        transcription = json.load(fh)\n",
    "    gt = row.sentence\n",
    "    print(f\"Groundtruth: {gt}\")\n",
    "    text = transcription['transcript']\n",
    "    print(f\"Inference: {text}\")\n",
    "    print(\"Edit Distance:\", levenshteinDistance(gt, text))\n",
    "    print(\"\\n--\\n\")\n",
    "    clip = listen_to_sample(df=selected, ix=ix, clips_path=clips_path)\n",
    "    listen_to_split_on_boundaries(transcription['timings'], clip, keywords_set=keyword_set)\n",
    "    time.sleep(4)\n",
    "    clear_output()"
   ]
  }
 ],
 "metadata": {
  "kernelspec": {
   "display_name": "Python 3",
   "language": "python",
   "name": "python3"
  },
  "language_info": {
   "codemirror_mode": {
    "name": "ipython",
    "version": 3
   },
   "file_extension": ".py",
   "mimetype": "text/x-python",
   "name": "python",
   "nbconvert_exporter": "python",
   "pygments_lexer": "ipython3",
   "version": "3.8.2"
  }
 },
 "nbformat": 4,
 "nbformat_minor": 4
}
