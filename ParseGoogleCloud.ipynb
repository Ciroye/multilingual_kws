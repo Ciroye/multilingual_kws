{
 "cells": [
  {
   "cell_type": "code",
   "execution_count": 1,
   "metadata": {},
   "outputs": [],
   "source": [
    "import numpy as np\n",
    "import os\n",
    "import pandas as pd\n",
    "import sox\n",
    "import wave\n",
    "import logging\n",
    "import pydub \n",
    "from pydub.playback import play\n",
    "import time\n",
    "import csv\n",
    "import glob\n",
    "import shutil\n",
    "import json\n",
    "import matplotlib.pyplot as plt\n",
    "import seaborn as sns\n",
    "import nltk\n",
    "from typing import Set, List, Dict\n",
    "import functools"
   ]
  },
  {
   "cell_type": "code",
   "execution_count": 2,
   "metadata": {},
   "outputs": [],
   "source": [
    "from IPython.display import clear_output"
   ]
  },
  {
   "cell_type": "code",
   "execution_count": 23,
   "metadata": {},
   "outputs": [
    {
     "name": "stdout",
     "output_type": "stream",
     "text": [
      "number of mp3s in training set:  232975  - validated set:  854444\n"
     ]
    },
    {
     "name": "stderr",
     "output_type": "stream",
     "text": [
      "/home/mark/miniconda3/envs/deepspeech/lib/python3.8/site-packages/IPython/core/interactiveshell.py:3062: DtypeWarning: Columns (7) have mixed types.Specify dtype option on import or set low_memory=False.\n",
      "  has_raised = await self.run_ast_nodes(code_ast.body, cell_name,\n"
     ]
    }
   ],
   "source": [
    "clips_path = \"../mozilla_common_voice/clips/\" # english corpus\n",
    "train_df = pd.read_csv(\"../mozilla_common_voice/train.tsv\", sep=\"\\t\")\n",
    "val_df = pd.read_csv(\"../mozilla_common_voice/validated.tsv\", sep=\"\\t\")\n",
    "print(\"number of mp3s in training set: \", train_df.shape[0], \" - validated set: \", val_df.shape[0])"
   ]
  },
  {
   "cell_type": "code",
   "execution_count": 24,
   "metadata": {},
   "outputs": [
    {
     "data": {
      "text/plain": [
       "6"
      ]
     },
     "execution_count": 24,
     "metadata": {},
     "output_type": "execute_result"
    }
   ],
   "source": [
    "# there are NaNs in val_df.sentence\n",
    "val_df[val_df.sentence.isna()].shape[0]"
   ]
  },
  {
   "cell_type": "code",
   "execution_count": 25,
   "metadata": {},
   "outputs": [
    {
     "name": "stdout",
     "output_type": "stream",
     "text": [
      "854438\n"
     ]
    }
   ],
   "source": [
    "val_df.dropna(subset=['sentence'],inplace=True)\n",
    "print(val_df.shape[0])"
   ]
  },
  {
   "cell_type": "markdown",
   "metadata": {},
   "source": [
    "### Generating a micro dataset of 50 clips"
   ]
  },
  {
   "cell_type": "code",
   "execution_count": 52,
   "metadata": {},
   "outputs": [],
   "source": [
    "selected_clips=[]"
   ]
  },
  {
   "cell_type": "code",
   "execution_count": 16,
   "metadata": {},
   "outputs": [],
   "source": [
    "def listen_to_sample(df, ix, clips_path):\n",
    "    mp3_path = clips_path + df.iloc[ix].path\n",
    "    clip = pydub.AudioSegment.from_mp3(mp3_path)\n",
    "    play(clip)\n",
    "    return clip"
   ]
  },
  {
   "cell_type": "code",
   "execution_count": null,
   "metadata": {},
   "outputs": [],
   "source": [
    "sample = np.random.randint(df.shape[0])\n",
    "listen_to_sample(df=df, ix=sample, clips_path=clips_path)\n",
    "selected_clips.append(sample)\n",
    "print(len(selected_clips))"
   ]
  },
  {
   "cell_type": "code",
   "execution_count": null,
   "metadata": {},
   "outputs": [],
   "source": [
    "raise ValueError(\"warning: overwrites\")\n",
    "df.iloc[selected_clips].to_csv(\n",
    "    \"selected_clips.tsv\", sep=\"\\t\", quoting=csv.QUOTE_MINIMAL, index=False\n",
    ")"
   ]
  },
  {
   "cell_type": "code",
   "execution_count": 51,
   "metadata": {},
   "outputs": [],
   "source": [
    "selected = pd.read_csv(\"selected_clips.tsv\", sep=\"\\t\")"
   ]
  },
  {
   "cell_type": "code",
   "execution_count": 26,
   "metadata": {},
   "outputs": [],
   "source": [
    "for _, r in selected.iterrows():\n",
    "    mp3_path = clips_path + r.path\n",
    "    shutil.copy2(mp3_path, \"./micro_dataset\")"
   ]
  },
  {
   "cell_type": "markdown",
   "metadata": {},
   "source": [
    "Now, run `word_separator/transcribe_word_time_offsets.py` on `./micro_dataset`"
   ]
  },
  {
   "cell_type": "markdown",
   "metadata": {},
   "source": [
    "## Select keywords for word separation"
   ]
  },
  {
   "cell_type": "code",
   "execution_count": 8,
   "metadata": {},
   "outputs": [],
   "source": [
    "def clean_and_filter(keyword_set: Set[str], sentence: str) -> List[str]:\n",
    "    tokens = nltk.word_tokenize(sentence)\n",
    "    words = [word.lower() for word in tokens if word.isalpha()]\n",
    "    return list(filter(lambda w: w in keyword_set, words))"
   ]
  },
  {
   "cell_type": "code",
   "execution_count": 26,
   "metadata": {},
   "outputs": [
    {
     "name": "stdout",
     "output_type": "stream",
     "text": [
      "mp3s containing desired keywords 28301\n"
     ]
    }
   ],
   "source": [
    "keywords_set = set([\"up\", \"down\", \"three\"])\n",
    "\n",
    "# TODO(MMAZ) inefficient\n",
    "val_df['keywords'] = val_df.sentence.apply(functools.partial(clean_and_filter, keywords_set))\n",
    "\n",
    "val_df.dropna(subset=[\"keywords\"], inplace=True)\n",
    "usable = val_df.loc[val_df.keywords.transform(len) > 0]\n",
    "print(\"mp3s containing desired keywords\", usable.shape[0])"
   ]
  },
  {
   "cell_type": "code",
   "execution_count": 62,
   "metadata": {},
   "outputs": [],
   "source": [
    "# convert usable from slice, and add boolean columns for keyword presence\n",
    "usable = usable.copy()\n",
    "usable[\"up\"] = usable.keywords.apply(lambda l: \"up\" in l)\n",
    "usable[\"down\"] = usable.keywords.apply(lambda l: \"down\" in l)\n",
    "usable[\"three\"] = usable.keywords.apply(lambda l: \"three\" in l)"
   ]
  },
  {
   "cell_type": "code",
   "execution_count": 102,
   "metadata": {},
   "outputs": [
    {
     "data": {
      "image/png": "[encoded data removed]",
      "text/plain": [
       "<Figure size 432x288 with 1 Axes>"
      ]
     },
     "metadata": {},
     "output_type": "display_data"
    }
   ],
   "source": [
    "labels = [\"up\", \"down\", \"three\"]\n",
    "counts = [\n",
    "    usable.up.value_counts().loc[True],\n",
    "    usable.down.value_counts().loc[True],\n",
    "    usable.three.value_counts().loc[True],\n",
    "]\n",
    "fig, ax = plt.subplots()\n",
    "ax.set_xticks(range(len(labels)))\n",
    "ax.set_xticklabels(labels)\n",
    "fig.patch.set_facecolor('white')\n",
    "ax.bar(range(len(labels)), counts);"
   ]
  },
  {
   "cell_type": "code",
   "execution_count": 84,
   "metadata": {},
   "outputs": [],
   "source": [
    "# write to tsv\n",
    "usable.drop(columns=[\"keywords\"], axis=1).to_csv(\n",
    "    \"keywords_listen.tsv\", sep=\"\\t\", quoting=csv.QUOTE_MINIMAL, index=False\n",
    ")"
   ]
  },
  {
   "cell_type": "code",
   "execution_count": 115,
   "metadata": {},
   "outputs": [
    {
     "name": "stdout",
     "output_type": "stream",
     "text": [
      "28301\n"
     ]
    }
   ],
   "source": [
    "keywords = pd.read_csv(\"keywords_listen.tsv\", sep=\"\\t\")\n",
    "print(keywords.shape[0])"
   ]
  },
  {
   "cell_type": "code",
   "execution_count": 96,
   "metadata": {},
   "outputs": [],
   "source": [
    "# select 100 examples each from keywords where the column [up, down, three] == True\n",
    "NUM_SAMPLES = 100\n",
    "up = keywords[keywords.up].sample(n=NUM_SAMPLES)\n",
    "down = keywords[keywords.down].sample(n=NUM_SAMPLES)\n",
    "three = keywords[keywords.three].sample(n=NUM_SAMPLES)"
   ]
  },
  {
   "cell_type": "code",
   "execution_count": 97,
   "metadata": {},
   "outputs": [
    {
     "name": "stdout",
     "output_type": "stream",
     "text": [
      "The township contains three cemeteries which include: Grace Lutheran, Lunde and Mayo Creek.\n"
     ]
    },
    {
     "data": {
      "text/html": [
       "\n",
       "                    <audio controls>\n",
       "                        <source src=\"data:audio/mpeg;base64,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\" type=\"audio/mpeg\"/>\n",
       "                        Your browser does not support the audio element.\n",
       "                    </audio>\n",
       "                  "
      ],
      "text/plain": [
       "<pydub.audio_segment.AudioSegment at 0x7f0202712070>"
      ]
     },
     "execution_count": 97,
     "metadata": {},
     "output_type": "execute_result"
    }
   ],
   "source": [
    "q = three\n",
    "sample = np.random.randint(q.shape[0])\n",
    "print(q.iloc[sample].sentence)\n",
    "listen_to_sample(df=q, ix=sample, clips_path=clips_path)"
   ]
  },
  {
   "cell_type": "code",
   "execution_count": 99,
   "metadata": {},
   "outputs": [],
   "source": [
    "# save tsvs of 100 examples selected for each of the 3 keywords\n",
    "kws = [\"up\", \"down\", \"three\"]\n",
    "for df, name in zip([up, down, three], kws):\n",
    "    df.drop(columns=kws, axis=1).to_csv(\n",
    "        f\"micro_dataset/{name}.tsv\", sep=\"\\t\", quoting=csv.QUOTE_MINIMAL, index=False\n",
    "    )"
   ]
  },
  {
   "cell_type": "code",
   "execution_count": 109,
   "metadata": {},
   "outputs": [],
   "source": [
    "# copy source mp3s into correct subdirectory\n",
    "for df, keyword in zip([up, down, three], [\"up\", \"down\", \"three\"]):\n",
    "    for _,r in df.iterrows():\n",
    "        mp3_path = clips_path + r.path\n",
    "        shutil.copy2(mp3_path, f\"./micro_dataset/clips/{keyword}\")"
   ]
  },
  {
   "cell_type": "markdown",
   "metadata": {},
   "source": [
    "## Extract keywords using Google Cloud STT API Results"
   ]
  },
  {
   "cell_type": "code",
   "execution_count": 120,
   "metadata": {},
   "outputs": [],
   "source": [
    "def find_keyword(timings, keyword):\n",
    "    \"\"\"returns either (start,end) in seconds, or None\"\"\"\n",
    "    for timing in timings:\n",
    "        word = timing['word']\n",
    "        \n",
    "        # TODO(MMAZ) note this only extracts the first word for now\n",
    "        # i.e., \"tap up, then up, then down\" will only return the first \"up\"\n",
    "        if word == keyword:\n",
    "            return timing['start_time'], timing['end_time']\n",
    "    return None"
   ]
  },
  {
   "cell_type": "code",
   "execution_count": null,
   "metadata": {},
   "outputs": [],
   "source": [
    "keyword = \"three\"\n",
    "df = pd.read_csv(f\"./micro_dataset/{keyword}.tsv\", sep=\"\\t\")\n",
    "print(f\"{keyword}.tsv # of examples:\", df.shape[0])\n",
    "\n",
    "for ix, (_, r) in enumerate(df.iterrows()):\n",
    "    if ix % 10 == 0:\n",
    "        print(\"progress\", ix)\n",
    "    mp3_path = f\"./micro_dataset/clips/{keyword}/\" + r.path\n",
    "    \n",
    "    fname = f\"./micro_dataset/transcripts_googlecloud/{keyword}/{r.path}.json\"\n",
    "    with open(fname, 'r') as fh:\n",
    "        try:\n",
    "            transcription = json.load(fh)\n",
    "        except json.JSONDecodeError as e:\n",
    "            logging.warning(f\"no transcription returned by GCP STT API for sentence {ix}\")\n",
    "            continue\n",
    "\n",
    "    result = find_keyword(transcription[\"timings\"], keyword)\n",
    "    if result is None:\n",
    "        logging.warning(f\"keyword {keyword} not found in inference for sentence {ix}:\\n - {transcription['transcript']}\")\n",
    "        continue\n",
    "\n",
    "    start_s, end_s = result    \n",
    "    \n",
    "    dest = f\"./micro_dataset/extractions_googlecloud/{keyword}/{r.path}.wav\"\n",
    "    \n",
    "    # convert to wav (will overwrite existing dest)\n",
    "    transformer = sox.Transformer()\n",
    "    transformer.convert(samplerate=16000)\n",
    "    transformer.trim(start_s, end_s)\n",
    "    transformer.build(mp3_path, dest)\n",
    "    \n",
    "    # to listen\n",
    "    #clip = pydub.AudioSegment.from_wav(dest)\n",
    "    #play(clip)"
   ]
  },
  {
   "cell_type": "markdown",
   "metadata": {},
   "source": [
    "### Listen to word splits"
   ]
  },
  {
   "cell_type": "code",
   "execution_count": 112,
   "metadata": {},
   "outputs": [],
   "source": [
    "selected = pd.read_csv(\"selected_clips_yes_no_three.tsv\", sep=\"\\t\")"
   ]
  },
  {
   "cell_type": "code",
   "execution_count": 113,
   "metadata": {},
   "outputs": [],
   "source": [
    "# TODO(MMAZ) lower() and remove punctuation, etc\n",
    "# pasted from https://stackoverflow.com/a/32558749\n",
    "def levenshteinDistance(s1, s2):\n",
    "    if len(s1) > len(s2):\n",
    "        s1, s2 = s2, s1\n",
    "\n",
    "    distances = range(len(s1) + 1)\n",
    "    for i2, c2 in enumerate(s2):\n",
    "        distances_ = [i2+1]\n",
    "        for i1, c1 in enumerate(s1):\n",
    "            if c1 == c2:\n",
    "                distances_.append(distances[i1])\n",
    "            else:\n",
    "                distances_.append(1 + min((distances[i1], distances[i1 + 1], distances_[-1])))\n",
    "        distances = distances_\n",
    "    return distances[-1]"
   ]
  },
  {
   "cell_type": "code",
   "execution_count": 143,
   "metadata": {},
   "outputs": [],
   "source": [
    "def listen_to_split_on_boundaries(timings, clip, keywords_set=None):\n",
    "    if keywords_set is not None:\n",
    "        words = set([t[\"word\"] for t in timings])\n",
    "        if words.isdisjoint(keywords_set):\n",
    "            print(\"No keywords found in the transcription\")\n",
    "    for ix, timing in enumerate(timings):\n",
    "        word = timing['word']\n",
    "        if keywords_set and word not in keywords_set:\n",
    "            continue\n",
    "        start_ms = timing['start_time'] * 1000\n",
    "        end_ms = timing['end_time'] * 1000\n",
    "        print(f\"word {ix}: {word} \\n - start_time: {timing['start_time']:.3f} - end_time: {timing['end_time']:.3f}\")\n",
    "        play(clip[start_ms:end_ms])\n",
    "        time.sleep(1)"
   ]
  },
  {
   "cell_type": "markdown",
   "metadata": {},
   "source": [
    "### Selected keywords"
   ]
  },
  {
   "cell_type": "code",
   "execution_count": 136,
   "metadata": {},
   "outputs": [
    {
     "data": {
      "text/plain": [
       "{'no', 'three', 'up'}"
      ]
     },
     "execution_count": 136,
     "metadata": {},
     "output_type": "execute_result"
    }
   ],
   "source": [
    "keyword_set"
   ]
  },
  {
   "cell_type": "code",
   "execution_count": 150,
   "metadata": {},
   "outputs": [
    {
     "name": "stdout",
     "output_type": "stream",
     "text": [
      "Sample: 10\n",
      "Groundtruth: He has a wife, Sherri, and three daughters.\n",
      "Inference: he has a wife Sherry and three daughters\n",
      "Edit Distance: 5\n",
      "\n",
      "--\n",
      "\n",
      "word 6: three \n",
      " - start_time: 2.200 - end_time: 2.400\n"
     ]
    }
   ],
   "source": [
    "for ix, row in selected.iterrows():\n",
    "    print(f\"Sample: {ix}\")\n",
    "    fname = \"./keywords_transcriptions/\" + row.path + \".json\"\n",
    "    with open(fname, 'r') as fh:\n",
    "        transcription = json.load(fh)\n",
    "    gt = row.sentence\n",
    "    print(f\"Groundtruth: {gt}\")\n",
    "    text = transcription['transcript']\n",
    "    print(f\"Inference: {text}\")\n",
    "    print(\"Edit Distance:\", levenshteinDistance(gt, text))\n",
    "    print(\"\\n--\\n\")\n",
    "    clip = listen_to_sample(df=selected, ix=ix, clips_path=clips_path)\n",
    "    listen_to_split_on_boundaries(transcription['timings'], clip, keywords_set=keyword_set)\n",
    "    time.sleep(4)\n",
    "    clear_output()"
   ]
  }
 ],
 "metadata": {
  "kernelspec": {
   "display_name": "Python 3",
   "language": "python",
   "name": "python3"
  },
  "language_info": {
   "codemirror_mode": {
    "name": "ipython",
    "version": 3
   },
   "file_extension": ".py",
   "mimetype": "text/x-python",
   "name": "python",
   "nbconvert_exporter": "python",
   "pygments_lexer": "ipython3",
   "version": "3.8.2"
  }
 },
 "nbformat": 4,
 "nbformat_minor": 4
}
