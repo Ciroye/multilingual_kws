{
 "cells": [
  {
   "cell_type": "code",
   "execution_count": 1,
   "metadata": {},
   "outputs": [],
   "source": [
    "import numpy as np\n",
    "import os\n",
    "import pandas as pd\n",
    "import sox\n",
    "#import wave\n",
    "import logging\n",
    "import pydub \n",
    "from pydub.playback import play\n",
    "import time\n",
    "import csv\n",
    "import glob\n",
    "import sys\n",
    "import shutil\n",
    "import json\n",
    "import matplotlib.pyplot as plt\n",
    "import seaborn as sns\n",
    "import nltk\n",
    "from typing import Set, List, Dict\n",
    "import functools\n",
    "import string"
   ]
  },
  {
   "cell_type": "code",
   "execution_count": 2,
   "metadata": {},
   "outputs": [],
   "source": [
    "from IPython.display import clear_output"
   ]
  },
  {
   "cell_type": "code",
   "execution_count": 83,
   "metadata": {},
   "outputs": [
    {
     "name": "stdout",
     "output_type": "stream",
     "text": [
      "number of mp3s in validated set:  854444\n"
     ]
    },
    {
     "name": "stderr",
     "output_type": "stream",
     "text": [
      "/home/mark/miniconda3/envs/tinyspeech/lib/python3.7/site-packages/IPython/core/interactiveshell.py:3146: DtypeWarning: Columns (7) have mixed types.Specify dtype option on import or set low_memory=False.\n",
      "  interactivity=interactivity, compiler=compiler, result=result)\n"
     ]
    }
   ],
   "source": [
    "\n",
    "#train_df = pd.read_csv(\"../mozilla_common_voice/train.tsv\", sep=\"\\t\")\n",
    "\n",
    "#clips_path = \"../common_voice/de/cv-corpus-5.1-2020-06-22/de/clips/\" # german corpus\n",
    "#val_df = pd.read_csv(\"../common_voice/de/cv-corpus-5.1-2020-06-22/de/validated.tsv\", sep=\"\\t\") # german corpus\n",
    "\n",
    "val_df = pd.read_csv(\"../common_voice/en/validated.tsv\", sep=\"\\t\") # english corpus\n",
    "print(\"number of mp3s in validated set: \", val_df.shape[0])"
   ]
  },
  {
   "cell_type": "code",
   "execution_count": 84,
   "metadata": {},
   "outputs": [
    {
     "data": {
      "text/plain": [
       "6"
      ]
     },
     "execution_count": 84,
     "metadata": {},
     "output_type": "execute_result"
    }
   ],
   "source": [
    "# there are NaNs in val_df.sentence\n",
    "val_df[val_df.sentence.isna()].shape[0]"
   ]
  },
  {
   "cell_type": "code",
   "execution_count": 85,
   "metadata": {},
   "outputs": [
    {
     "name": "stdout",
     "output_type": "stream",
     "text": [
      "854438\n"
     ]
    }
   ],
   "source": [
    "val_df.dropna(subset=['sentence'],inplace=True)\n",
    "print(val_df.shape[0])"
   ]
  },
  {
   "cell_type": "markdown",
   "metadata": {},
   "source": [
    "### Generating a micro dataset of 50 clips"
   ]
  },
  {
   "cell_type": "code",
   "execution_count": 64,
   "metadata": {},
   "outputs": [],
   "source": [
    "selected_clips=[]"
   ]
  },
  {
   "cell_type": "code",
   "execution_count": 7,
   "metadata": {},
   "outputs": [],
   "source": [
    "def listen_to_sample(df, ix, clips_path):\n",
    "    mp3_path = clips_path + df.iloc[ix].path\n",
    "    clip = pydub.AudioSegment.from_mp3(mp3_path)\n",
    "    play(clip)\n",
    "    return clip"
   ]
  },
  {
   "cell_type": "code",
   "execution_count": 13,
   "metadata": {},
   "outputs": [
    {
     "name": "stdout",
     "output_type": "stream",
     "text": [
      "Die öffentlich-rechtliche Rundfunkanstalt Finnlands Yleisradio versorgt die schwedischsprachige Bevölkerung mit zwei Radiostationen.\n"
     ]
    }
   ],
   "source": [
    "sample = np.random.randint(val_df.shape[0])\n",
    "listen_to_sample(df=val_df, ix=sample, clips_path=clips_path)\n",
    "print(val_df.iloc[sample].sentence)"
   ]
  },
  {
   "cell_type": "code",
   "execution_count": 22,
   "metadata": {},
   "outputs": [
    {
     "name": "stdout",
     "output_type": "stream",
     "text": [
      "['Die', 'öffentlich-rechtliche', 'Rundfunkanstalt', 'Finnlands', 'Yleisradio', 'versorgt', 'die', 'schwedischsprachige', 'Bevölkerung', 'mit', 'zwei', 'Radiostationen', '.']\n",
      "['die', 'öffentlich-rechtliche', 'rundfunkanstalt', 'finnlands', 'yleisradio', 'versorgt', 'die', 'schwedischsprachige', 'bevölkerung', 'mit', 'zwei', 'radiostationen']\n"
     ]
    }
   ],
   "source": []
  },
  {
   "cell_type": "code",
   "execution_count": null,
   "metadata": {},
   "outputs": [],
   "source": [
    "selected_clips.append(sample)\n",
    "print(len(selected_clips))"
   ]
  },
  {
   "cell_type": "code",
   "execution_count": null,
   "metadata": {},
   "outputs": [],
   "source": [
    "raise ValueError(\"warning: overwrites\")\n",
    "df.iloc[selected_clips].to_csv(\n",
    "    \"selected_clips.tsv\", sep=\"\\t\", quoting=csv.QUOTE_MINIMAL, index=False\n",
    ")"
   ]
  },
  {
   "cell_type": "code",
   "execution_count": null,
   "metadata": {},
   "outputs": [],
   "source": [
    "selected = pd.read_csv(\"selected_clips.tsv\", sep=\"\\t\")"
   ]
  },
  {
   "cell_type": "code",
   "execution_count": null,
   "metadata": {},
   "outputs": [],
   "source": [
    "for _, r in selected.iterrows():\n",
    "    mp3_path = clips_path + r.path\n",
    "    shutil.copy2(mp3_path, \"./micro_dataset\")"
   ]
  },
  {
   "cell_type": "markdown",
   "metadata": {},
   "source": [
    "Now, run `word_separator/transcribe_word_time_offsets.py` on `./micro_dataset`"
   ]
  },
  {
   "cell_type": "markdown",
   "metadata": {},
   "source": [
    "## Select keywords for word separation"
   ]
  },
  {
   "cell_type": "code",
   "execution_count": 23,
   "metadata": {},
   "outputs": [
    {
     "name": "stdout",
     "output_type": "stream",
     "text": [
      "['Die', 'öffentlich-rechtliche', 'Rundfunkanstalt', 'Finnlands', 'Yleisradio', 'versorgt', 'die', 'schwedischsprachige', 'Bevölkerung', 'mit', 'zwei', 'Radiostationen', '.']\n",
      "['die', 'öffentlich-rechtliche', 'rundfunkanstalt', 'finnlands', 'yleisradio', 'versorgt', 'die', 'schwedischsprachige', 'bevölkerung', 'mit', 'zwei', 'radiostationen']\n",
      "['die', 'rundfunkanstalt', 'finnlands', 'yleisradio', 'versorgt', 'die', 'schwedischsprachige', 'bevölkerung', 'mit', 'zwei', 'radiostationen']\n"
     ]
    }
   ],
   "source": [
    "german_example = \"Die öffentlich-rechtliche Rundfunkanstalt Finnlands Yleisradio versorgt die schwedischsprachige Bevölkerung mit zwei Radiostationen.\"\n",
    "tokens = nltk.word_tokenize(german_example)\n",
    "print(tokens)\n",
    "print([word.lower() for word in tokens if not all(c in string.punctuation for c in word)])\n",
    "print([word.lower() for word in tokens if word.isalpha()]) # sufficient for english"
   ]
  },
  {
   "cell_type": "code",
   "execution_count": 86,
   "metadata": {},
   "outputs": [],
   "source": [
    "def clean_and_filter(keyword_set: Set[str], english: bool, sentence: str) -> List[str]:\n",
    "    \"\"\"\n",
    "    inserts a new column containing a list of keywords present from \n",
    "    tokenizing the existing 'sentence' column\n",
    "    \"\"\"\n",
    "    tokens = nltk.word_tokenize(sentence)\n",
    "    if english:\n",
    "        words = [word.lower() for word in tokens if word.isalpha()]\n",
    "    else:\n",
    "        # TODO(mmaz) not sure about this...\n",
    "        words = [word.lower() for word in tokens if not all(c in string.punctuation for c in word)]\n",
    "    return list(filter(lambda w: w in keyword_set, words))"
   ]
  },
  {
   "cell_type": "code",
   "execution_count": 7,
   "metadata": {},
   "outputs": [],
   "source": [
    "# https://github.com/tensorflow/docs/blob/master/site/en/r1/tutorials/sequences/audio_recognition.md\n",
    "tf_set = [\"yes\", \"no\", \"up\", \"down\", \"left\", \"right\", \"on\", \"off\", \"stop\", \"go\"]"
   ]
  },
  {
   "cell_type": "code",
   "execution_count": 87,
   "metadata": {},
   "outputs": [
    {
     "name": "stdout",
     "output_type": "stream",
     "text": [
      "mp3s containing desired keywords 52545\n"
     ]
    }
   ],
   "source": [
    "raise ValueError(\"remember to specify english or not in clean_and_filter\")\n",
    "\n",
    "#keywords_set = set([\"up\", \"down\", \"three\", \"yes\", \"no\", \"left\", \"right\", \"on\", \"off\", \"stop\", \"go\"])\n",
    "#keywords_set = set([\"öffne\", \"hinunter\", \"drei\", \"ja\", \"nein\", \"links\", \"richtig\", \"auf\", \"aus\", \"halt\", \"geh\"])\n",
    "#keywords_set = set([\"null\", \"ein\", \"zwei\", \"drei\", \"vier\", \"fünf\", \"sechs\", \"sieben\", \"acht\", \"neun\" ])\n",
    "keywords_set = set([\"zero\", \"one\", \"two\", \"three\", \"four\", \"five\", \"six\", \"seven\", \"eight\", \"nine\"])\n",
    "\n",
    "# TODO(MMAZ) inefficient\n",
    "#val_df['keywords'] = val_df.sentence.apply(functools.partial(clean_and_filter, keyword_set=keywords_set, english=False))\n",
    "val_df['keywords'] = val_df.sentence.apply(lambda sentence: clean_and_filter(keyword_set=keywords_set, english=False, sentence=sentence))\n",
    "\n",
    "val_df.dropna(subset=[\"keywords\"], inplace=True)\n",
    "usable = val_df.loc[val_df.keywords.transform(len) > 0]\n",
    "print(\"mp3s containing desired keywords\", usable.shape[0])"
   ]
  },
  {
   "cell_type": "code",
   "execution_count": 88,
   "metadata": {},
   "outputs": [],
   "source": [
    "# convert usable from slice:\n",
    "usable = usable.copy()\n",
    "\n",
    "for kw in keywords_set:\n",
    "    # is the current keyword in the list of present keywords?\n",
    "    # usable[kw] is a boolean column indicating keyword presence\n",
    "    usable[kw] = usable.keywords.apply(lambda l: kw in l)"
   ]
  },
  {
   "cell_type": "code",
   "execution_count": 89,
   "metadata": {},
   "outputs": [
    {
     "data": {
      "image/png": "[encoded data removed]",
      "text/plain": [
       "<Figure size 720x288 with 1 Axes>"
      ]
     },
     "metadata": {},
     "output_type": "display_data"
    }
   ],
   "source": [
    "labels = [k for k in keywords_set]\n",
    "counts = [usable[k].value_counts().loc[True] for k in keywords_set]\n",
    "fig, ax = plt.subplots()\n",
    "ax.set_xticks(range(len(labels)))\n",
    "ax.set_xticklabels(labels)\n",
    "fig.patch.set_facecolor('white')\n",
    "ax.set_ylim(0,10000)\n",
    "ax.bar(range(len(labels)), counts);\n",
    "fig.set_size_inches(10,4)"
   ]
  },
  {
   "cell_type": "code",
   "execution_count": 43,
   "metadata": {},
   "outputs": [
    {
     "data": {
      "text/plain": [
       "False    59205\n",
       "True        15\n",
       "Name: öffne, dtype: int64"
      ]
     },
     "execution_count": 43,
     "metadata": {},
     "output_type": "execute_result"
    }
   ],
   "source": [
    "usable[\"öffne\"].value_counts()"
   ]
  },
  {
   "cell_type": "code",
   "execution_count": 44,
   "metadata": {},
   "outputs": [],
   "source": [
    "# write to tsv\n",
    "usable.drop(columns=[\"keywords\"], axis=1).to_csv(\n",
    "    \"keywords_listen.tsv\", sep=\"\\t\", quoting=csv.QUOTE_MINIMAL, index=False\n",
    ")"
   ]
  },
  {
   "cell_type": "code",
   "execution_count": null,
   "metadata": {},
   "outputs": [],
   "source": [
    "b = os.path.getsize(\"keywords_listen.tsv\")"
   ]
  },
  {
   "cell_type": "code",
   "execution_count": null,
   "metadata": {},
   "outputs": [],
   "source": [
    "b / 1024 ** 2 #MB"
   ]
  },
  {
   "cell_type": "code",
   "execution_count": 45,
   "metadata": {},
   "outputs": [
    {
     "name": "stdout",
     "output_type": "stream",
     "text": [
      "59220\n"
     ]
    }
   ],
   "source": [
    "#keywords = pd.read_csv(\"keywords_listen.tsv\", sep=\"\\t\")\n",
    "keywords = pd.read_csv(\"keywords_listen_german.tsv\", sep=\"\\t\")\n",
    "print(keywords.shape[0])"
   ]
  },
  {
   "cell_type": "code",
   "execution_count": 46,
   "metadata": {},
   "outputs": [
    {
     "name": "stderr",
     "output_type": "stream",
     "text": [
      "WARNING:root:for keyword links, there are not enough examples to sample\n",
      "WARNING:root:for keyword halt, there are not enough examples to sample\n",
      "WARNING:root:for keyword nein, there are not enough examples to sample\n",
      "WARNING:root:for keyword hinunter, there are not enough examples to sample\n",
      "WARNING:root:for keyword öffne, there are not enough examples to sample\n",
      "WARNING:root:for keyword geh, there are not enough examples to sample\n",
      "WARNING:root:for keyword richtig, there are not enough examples to sample\n"
     ]
    },
    {
     "name": "stdout",
     "output_type": "stream",
     "text": [
      "Keyword links : 285\n",
      "Keyword drei : 2000\n",
      "Keyword halt : 657\n",
      "Keyword nein : 1559\n",
      "Keyword aus : 2000\n",
      "Keyword hinunter : 49\n",
      "Keyword ja : 2000\n",
      "Keyword öffne : 15\n",
      "Keyword geh : 147\n",
      "Keyword richtig : 974\n",
      "Keyword auf : 2000\n"
     ]
    }
   ],
   "source": [
    "# select examples each from keywords where the column [\"keywords\"] == True\n",
    "NUM_SAMPLES = 2000\n",
    "samples = {}\n",
    "for k in keywords_set:\n",
    "    if keywords[k].value_counts().loc[True] > NUM_SAMPLES:\n",
    "        #are there more than NUM_SAMPLES examples?\n",
    "        samples[k] = keywords[keywords[k]].sample(n=NUM_SAMPLES)\n",
    "    else:\n",
    "        # use them all\n",
    "        samples[k] = keywords[keywords[k]]\n",
    "        logging.warning(f\"for keyword {k}, there are not enough examples to sample\")\n",
    "    print(\"Keyword\", k, \":\", samples[k].shape[0])    "
   ]
  },
  {
   "cell_type": "code",
   "execution_count": 48,
   "metadata": {},
   "outputs": [
    {
     "name": "stdout",
     "output_type": "stream",
     "text": [
      "Öffne den Webbrowser und rufe www.archlinux.org auf. common_voice_de_18556969.mp3\n"
     ]
    },
    {
     "data": {
      "text/html": [
       "\n",
       "                    <audio controls>\n",
       "                        <source src=\"data:audio/mpeg;base64,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\" type=\"audio/mpeg\"/>\n",
       "                        Your browser does not support the audio element.\n",
       "                    </audio>\n",
       "                  "
      ],
      "text/plain": [
       "<pydub.audio_segment.AudioSegment at 0x7fe0477f43d0>"
      ]
     },
     "execution_count": 48,
     "metadata": {},
     "output_type": "execute_result"
    }
   ],
   "source": [
    "q = samples[\"öffne\"]\n",
    "sample = np.random.randint(q.shape[0])\n",
    "print(q.iloc[sample].sentence, q.iloc[sample].path)\n",
    "listen_to_sample(df=q, ix=sample, clips_path=clips_path)"
   ]
  },
  {
   "cell_type": "code",
   "execution_count": 52,
   "metadata": {},
   "outputs": [
    {
     "name": "stdout",
     "output_type": "stream",
     "text": [
      "There is no help for it.\n"
     ]
    }
   ],
   "source": [
    "q = samples[\"no\"]\n",
    "sample = np.random.randint(q.shape[0])\n",
    "print(q.iloc[sample].sentence)"
   ]
  },
  {
   "cell_type": "code",
   "execution_count": 49,
   "metadata": {},
   "outputs": [],
   "source": [
    "parent_dir = \"eleven_word_dataset_de\""
   ]
  },
  {
   "cell_type": "code",
   "execution_count": null,
   "metadata": {},
   "outputs": [],
   "source": [
    "# create directory structure\n",
    "raise ValueError(\"caution: script operates on fs\")\n",
    "cur = os.getcwd()\n",
    "print(f\"operating in {cur}\")\n",
    "for dest in [\"clips\"]: # , \"extractions_gcloud\", \"extractions_deepspeech\", \"transcripts_gcloud\"]:\n",
    "    for k in keywords_set:\n",
    "        newdir = f\"{parent_dir}/{dest}/{k}/\"\n",
    "        os.makedirs(newdir)\n",
    "        print(newdir)\n",
    "#os.makedirs(f\"{parent_dir}/logs/\")"
   ]
  },
  {
   "cell_type": "code",
   "execution_count": 55,
   "metadata": {},
   "outputs": [],
   "source": [
    "# save tsvs of NUM_SAMPLES examples selected for each of the keywords\n",
    "for name, df in samples.items():\n",
    "    # remove all the keywords-present columns\n",
    "    df.drop(columns=keywords_set, axis=1).to_csv(\n",
    "        f\"{parent_dir}/{name}.tsv\", sep=\"\\t\", quoting=csv.QUOTE_MINIMAL, index=False\n",
    "    )"
   ]
  },
  {
   "cell_type": "code",
   "execution_count": 57,
   "metadata": {},
   "outputs": [],
   "source": [
    "# copy source mp3s into correct subdirectory\n",
    "for keyword, df in samples.items():\n",
    "    for _,r in df.iterrows():\n",
    "        mp3_path = clips_path + r.path\n",
    "        \n",
    "        # copy mp3 as-is\n",
    "        # shutil.copy2(mp3_path, f\"./{parent_dir}/clips/{keyword}\")\n",
    "        \n",
    "        # copy wav file\n",
    "        filename_noext = os.path.basename(os.path.splitext(mp3_path)[0])\n",
    "\n",
    "        dest = f\"./{parent_dir}/clips/{keyword}/{filename_noext}.wav\"\n",
    "\n",
    "        transformer = sox.Transformer()\n",
    "        transformer.convert(samplerate=16000)  # from 48K mp3s\n",
    "        transformer.build(mp3_path, dest)\n",
    "\n",
    "        # write out transcription\n",
    "        utterance = r.sentence\n",
    "        transcription = f\"./{parent_dir}/clips/{keyword}/{filename_noext}.txt\"\n",
    "        \n",
    "        with open(transcription, 'w') as fh:\n",
    "            fh.write(utterance)"
   ]
  },
  {
   "cell_type": "code",
   "execution_count": 63,
   "metadata": {},
   "outputs": [
    {
     "name": "stdout",
     "output_type": "stream",
     "text": [
      "keyword links : 285 utterances\n",
      "0.36 hours\n",
      "keyword drei : 2000 utterances\n",
      "2.73 hours\n",
      "keyword halt : 657 utterances\n",
      "0.70 hours\n",
      "keyword nein : 1559 utterances\n",
      "1.33 hours\n",
      "keyword aus : 2000 utterances\n",
      "2.92 hours\n",
      "keyword hinunter : 49 utterances\n",
      "0.05 hours\n",
      "keyword ja : 2000 utterances\n",
      "2.02 hours\n",
      "keyword öffne : 15 utterances\n",
      "0.02 hours\n",
      "keyword geh : 147 utterances\n",
      "0.14 hours\n",
      "keyword richtig : 974 utterances\n",
      "1.29 hours\n",
      "keyword auf : 2000 utterances\n",
      "2.88 hours\n",
      "TOTAL 14.46 hours\n"
     ]
    }
   ],
   "source": [
    "# calculate total length of all samples\n",
    "total_time = 0\n",
    "for keyword, _ in samples.items():\n",
    "    #clips = glob.glob(f\"./{parent_dir}/clips/{keyword}/*.mp3\")\n",
    "    clips = glob.glob(f\"./{parent_dir}/clips/{keyword}/*.wav\")\n",
    "    print(\"keyword\", keyword, \":\", len(clips), \"utterances\")\n",
    "    kw_time = 0\n",
    "    for c in clips:\n",
    "        s = sox.file_info.duration(c)\n",
    "        kw_time += s\n",
    "    print(f\"{kw_time / 60 ** 2:.2f} hours\")\n",
    "    total_time += kw_time\n",
    "print(\"TOTAL\", f\"{total_time / 60 ** 2:.2f} hours\")"
   ]
  },
  {
   "cell_type": "markdown",
   "metadata": {},
   "source": [
    "## Extract keywords using Google Cloud STT API Results"
   ]
  },
  {
   "cell_type": "code",
   "execution_count": 51,
   "metadata": {},
   "outputs": [],
   "source": [
    "def find_keyword(timings, keyword):\n",
    "    \"\"\"returns either (start,end) in seconds, or None\"\"\"\n",
    "    for timing in timings:\n",
    "        word = timing['word']\n",
    "        \n",
    "        # TODO(MMAZ) note this only extracts the first word for now\n",
    "        # i.e., \"tap up, then up, then down\" will only return the first \"up\"\n",
    "        if word == keyword:\n",
    "            return timing['start_time'], timing['end_time']\n",
    "    return None"
   ]
  },
  {
   "cell_type": "markdown",
   "metadata": {},
   "source": [
    "count number of found words via GCloud STT"
   ]
  },
  {
   "cell_type": "code",
   "execution_count": null,
   "metadata": {},
   "outputs": [],
   "source": [
    "kws = [\"up\",\"down\",\"left\",\"right\",\"stop\",\"go\",\"off\",\"on\",\"yes\",\"no\",\"three\"]\n",
    "missing = {w:0 for w in kws}\n",
    "found = {w:0 for w in kws}\n",
    "for keyword in kws:\n",
    "    #df = pd.read_csv(f\"./eleven_word_dataset/{keyword}.tsv\", sep=\"\\t\")\n",
    "    transcripts = glob.glob(f\"eleven_word_dataset/transcripts_gcloud/{keyword}/*.json\")\n",
    "    for fname in transcripts:\n",
    "        with open(fname, 'r') as fh:\n",
    "            try:\n",
    "                transcription = json.load(fh)\n",
    "            except json.JSONDecodeError as e:\n",
    "                #logging.warning(f\"no transcription returned by GCP STT API for sentence {ix}\")\n",
    "                missing[keyword] += 1\n",
    "                continue\n",
    "        result = find_keyword(transcription[\"timings\"], keyword)\n",
    "        if result is None:\n",
    "            missing[keyword] += 1\n",
    "        else:\n",
    "            found[keyword] += 1\n",
    "    \n",
    "#     for ix, r in df.iterrows():\n",
    "#         fname = f\"./eleven_word_dataset/transcripts_gcloud/{keyword}/{r.path}.json\"\n",
    "#         if not os.path.exists(fname):\n",
    "#             missing[keyword] += 1\n",
    "#             print(fname)\n",
    "#             break\n",
    "print(\"missing\", missing)\n",
    "print(\"found\", found)"
   ]
  },
  {
   "cell_type": "code",
   "execution_count": 50,
   "metadata": {},
   "outputs": [],
   "source": [
    "def extract_one_second(duration_s: float, start_s: float, end_s: float):\n",
    "    \"\"\"\n",
    "    return one second around the midpoint between start_s and end_s\n",
    "    \"\"\"\n",
    "    if duration_s < 1:\n",
    "        return (0, duration_s)\n",
    "\n",
    "    center_s = start_s + ((end_s - start_s) / 2.0)\n",
    "\n",
    "    new_start_s = center_s - 0.5\n",
    "    new_end_s = center_s + 0.5\n",
    "\n",
    "    if new_end_s > duration_s:\n",
    "        new_end_s = duration_s\n",
    "        new_start_s = duration_s - 1.0\n",
    "\n",
    "    if new_start_s < 0:\n",
    "        new_start_s = 0\n",
    "        new_end_s = np.minimum(duration_s, new_start_s + 1.0)\n",
    "\n",
    "#     print(\n",
    "#         \"start\",\n",
    "#         new_start_s,\n",
    "#         \"end\",\n",
    "#         new_end_s,\n",
    "#         \"\\nduration\",\n",
    "#         new_end_s - new_start_s,\n",
    "#         \"midpoint\",\n",
    "#         new_start_s + ((new_end_s - new_start_s) / 2.0),\n",
    "#     )\n",
    "    return (new_start_s, new_end_s)"
   ]
  },
  {
   "cell_type": "code",
   "execution_count": null,
   "metadata": {},
   "outputs": [],
   "source": [
    "parent_dir = \"eleven_word_dataset\"\n",
    "\n",
    "log_location = f\"{parent_dir}/logs/gcloud.log\"\n",
    "logging.basicConfig(\n",
    "    level=logging.INFO, \n",
    "    format='[%(asctime)s ::: %(levelname)s] %(message)s',\n",
    "    handlers=[\n",
    "        logging.FileHandler(filename=log_location),\n",
    "        logging.StreamHandler(sys.stdout)\n",
    "    ]\n",
    ")"
   ]
  },
  {
   "cell_type": "markdown",
   "metadata": {},
   "source": [
    "Example parameters for `speech_commands`\n",
    "\n",
    "```bash\n",
    "soxi speech_commands/stop/234d6a48_nohash_2.wav\n",
    "\n",
    "Input File     : 'speech_commands/stop/234d6a48_nohash_2.wav'\n",
    "Channels       : 1\n",
    "Sample Rate    : 16000\n",
    "Precision      : 16-bit\n",
    "Duration       : 00:00:01.00 = 16000 samples ~ 75 CDDA sectors\n",
    "File Size      : 32.0k\n",
    "Bit Rate       : 256k\n",
    "Sample Encoding: 16-bit Signed Integer PCM\n",
    "\n",
    "```\n",
    "\n",
    "For `common voice`:\n",
    "\n",
    "```bash\n",
    "soxi mozilla_common_voice/clips/common_voice_en_19293740.mp3\n",
    "\n",
    "Input File     : 'mozilla_common_voice/clips/common_voice_en_19293740.mp3'\n",
    "Channels       : 1\n",
    "Sample Rate    : 48000\n",
    "Precision      : 16-bit\n",
    "Duration       : 00:00:04.82 = 231552 samples ~ 361.8 CDDA sectors\n",
    "File Size      : 38.6k\n",
    "Bit Rate       : 64.1k\n",
    "Sample Encoding: MPEG audio (layer I, II or III)\n",
    "```\n"
   ]
  },
  {
   "cell_type": "code",
   "execution_count": null,
   "metadata": {},
   "outputs": [],
   "source": [
    "dataset = \"eleven_word_dataset\"\n",
    "kws = [\"up\", \"down\", \"left\", \"right\", \"stop\", \"go\", \"off\", \"on\", \"yes\", \"no\", \"three\"]\n",
    "missing = {kw:0 for kw in kws}\n",
    "for keyword in kws:\n",
    "    # df = pd.read_csv(f\"./eleven_word_dataset/{keyword}.tsv\", sep=\"\\t\")\n",
    "    transcripts = glob.glob(f\"{dataset}/transcripts_gcloud/{keyword}/*.json\")\n",
    "    for ix, fname in enumerate(transcripts):\n",
    "\n",
    "        # keep track of current keyword in separate file\n",
    "        if ix % 100 == 0:\n",
    "            with open(\"./tmp/current_gcloud.txt\", \"a\") as fh:\n",
    "                fh.write(f\"{keyword} {ix}\\n\")\n",
    "\n",
    "        with open(fname, \"r\") as fh:\n",
    "            try:\n",
    "                transcription = json.load(fh)\n",
    "            except json.JSONDecodeError as e:\n",
    "                # logging.warning(\n",
    "                #     f\"no transcription returned by GCP STT API for sentence {ix}\")\n",
    "                missing[keyword] += 1\n",
    "                continue\n",
    "        result = find_keyword(transcription[\"timings\"], keyword)\n",
    "        if result is None:\n",
    "            logging.warning(\n",
    "                f\"keyword {keyword} not found in inference for sentence {ix}:\\n\"\n",
    "                f\" - {transcription['transcript']}\"\n",
    "            )\n",
    "            continue\n",
    "        start_s, end_s = result\n",
    "        if end_s - start_s > 1:\n",
    "            logging.warning(\n",
    "                f\"{keyword} clip ix: {ix} timestamps are longer than one second\"\n",
    "            )\n",
    "\n",
    "        mp3_fn = os.path.split(fname)[-1][:-5]  # elide .json from the filename\n",
    "        mp3_path = f\"{dataset}/clips/{keyword}/{mp3_fn}\"\n",
    "\n",
    "        duration = sox.file_info.duration(mp3_path)\n",
    "        if duration < 1:\n",
    "            logging.warning(f\"{keyword} clip ix {ix} shorter than 1s\")\n",
    "\n",
    "        dest = f\"./{dataset}/extractions_gcloud/{keyword}/{mp3_path}.wav\"\n",
    "\n",
    "        start_s, end_s = extract_one_second(duration, start_s, end_s)\n",
    "\n",
    "        # to listen:\n",
    "        # clip = pydub.AudioSegment.from_wav()\n",
    "        # play(clip)\n",
    "        # extraction = clip[start_s * 1000:end_s * 1000]\n",
    "        # play(extraction)\n",
    "\n",
    "        transformer = sox.Transformer()\n",
    "        transformer.convert(samplerate=16000)  # from 48K mp3s\n",
    "        transformer.trim(start_s, end_s)\n",
    "        transformer.fade(fade_in_len=0.1, fade_out_len=0.1)\n",
    "        dest = f\"./{dataset}/extractions_gcloud/{keyword}/{mp3_fn}.wav\"\n",
    "        transformer.build(mp3_path, dest)\n",
    "        # run 'soxi' on the output wav to inspect encoding parameters\n",
    "\n",
    "        # listen to the processed audio:\n",
    "        # play(pydub.AudioSegment.from_wav(dest))"
   ]
  },
  {
   "cell_type": "code",
   "execution_count": null,
   "metadata": {},
   "outputs": [],
   "source": [
    "keyword = \"three\"\n",
    "df = pd.read_csv(f\"./micro_dataset/{keyword}.tsv\", sep=\"\\t\")\n",
    "print(f\"{keyword}.tsv # of examples:\", df.shape[0])\n",
    "\n",
    "for ix, (_, r) in enumerate(df.iterrows()):\n",
    "    if ix != 30:\n",
    "        continue\n",
    "    if ix % 10 == 0:\n",
    "        print(\"progress\", ix)\n",
    "    mp3_path = f\"./micro_dataset/clips/{keyword}/\" + r.path\n",
    "    \n",
    "    fname = f\"./micro_dataset/transcripts_googlecloud/{keyword}/{r.path}.json\"\n",
    "    with open(fname, 'r') as fh:\n",
    "        try:\n",
    "            transcription = json.load(fh)\n",
    "        except json.JSONDecodeError as e:\n",
    "            logging.warning(f\"no transcription returned by GCP STT API for sentence {ix}\")\n",
    "            continue\n",
    "\n",
    "    result = find_keyword(transcription[\"timings\"], keyword)\n",
    "    if result is None:\n",
    "        logging.warning(f\"keyword {keyword} not found in inference for sentence {ix}:\\n - {transcription['transcript']}\")\n",
    "        continue\n",
    "\n",
    "    start_s, end_s = result    \n",
    "    \n",
    "    dest = f\"./micro_dataset/extractions_googlecloud/{keyword}/{r.path}.wav\"\n",
    "    \n",
    "    # convert to wav (will overwrite existing dest)\n",
    "    transformer = sox.Transformer()\n",
    "    transformer.convert(samplerate=16000)\n",
    "    transformer.trim(start_s, end_s)\n",
    "    transformer.build(mp3_path, dest)\n",
    "    \n",
    "    # to listen\n",
    "    clip = pydub.AudioSegment.from_wav(dest)\n",
    "    play(clip)"
   ]
  },
  {
   "cell_type": "markdown",
   "metadata": {},
   "source": [
    "### Listen to word splits"
   ]
  },
  {
   "cell_type": "code",
   "execution_count": null,
   "metadata": {},
   "outputs": [],
   "source": [
    "selected = pd.read_csv(\"selected_clips_yes_no_three.tsv\", sep=\"\\t\")"
   ]
  },
  {
   "cell_type": "code",
   "execution_count": null,
   "metadata": {},
   "outputs": [],
   "source": [
    "# TODO(MMAZ) lower() and remove punctuation, etc\n",
    "# pasted from https://stackoverflow.com/a/32558749\n",
    "def levenshteinDistance(s1, s2):\n",
    "    if len(s1) > len(s2):\n",
    "        s1, s2 = s2, s1\n",
    "\n",
    "    distances = range(len(s1) + 1)\n",
    "    for i2, c2 in enumerate(s2):\n",
    "        distances_ = [i2+1]\n",
    "        for i1, c1 in enumerate(s1):\n",
    "            if c1 == c2:\n",
    "                distances_.append(distances[i1])\n",
    "            else:\n",
    "                distances_.append(1 + min((distances[i1], distances[i1 + 1], distances_[-1])))\n",
    "        distances = distances_\n",
    "    return distances[-1]"
   ]
  },
  {
   "cell_type": "code",
   "execution_count": null,
   "metadata": {},
   "outputs": [],
   "source": [
    "def listen_to_split_on_boundaries(timings, clip, keywords_set=None):\n",
    "    if keywords_set is not None:\n",
    "        words = set([t[\"word\"] for t in timings])\n",
    "        if words.isdisjoint(keywords_set):\n",
    "            print(\"No keywords found in the transcription\")\n",
    "    for ix, timing in enumerate(timings):\n",
    "        word = timing['word']\n",
    "        if keywords_set and word not in keywords_set:\n",
    "            continue\n",
    "        start_ms = timing['start_time'] * 1000\n",
    "        end_ms = timing['end_time'] * 1000\n",
    "        print(f\"word {ix}: {word} \\n - start_time: {timing['start_time']:.3f} - end_time: {timing['end_time']:.3f}\")\n",
    "        play(clip[start_ms:end_ms])\n",
    "        time.sleep(1)"
   ]
  },
  {
   "cell_type": "markdown",
   "metadata": {},
   "source": [
    "### Selected keywords"
   ]
  },
  {
   "cell_type": "code",
   "execution_count": null,
   "metadata": {},
   "outputs": [],
   "source": [
    "keyword_set"
   ]
  },
  {
   "cell_type": "code",
   "execution_count": null,
   "metadata": {},
   "outputs": [],
   "source": [
    "for ix, row in selected.iterrows():\n",
    "    print(f\"Sample: {ix}\")\n",
    "    fname = \"./keywords_transcriptions/\" + row.path + \".json\"\n",
    "    with open(fname, 'r') as fh:\n",
    "        transcription = json.load(fh)\n",
    "    gt = row.sentence\n",
    "    print(f\"Groundtruth: {gt}\")\n",
    "    text = transcription['transcript']\n",
    "    print(f\"Inference: {text}\")\n",
    "    print(\"Edit Distance:\", levenshteinDistance(gt, text))\n",
    "    print(\"\\n--\\n\")\n",
    "    clip = listen_to_sample(df=selected, ix=ix, clips_path=clips_path)\n",
    "    listen_to_split_on_boundaries(transcription['timings'], clip, keywords_set=keyword_set)\n",
    "    time.sleep(4)\n",
    "    clear_output()"
   ]
  },
  {
   "cell_type": "markdown",
   "metadata": {},
   "source": [
    "## CommonVoice Speech Commands\n",
    "\n",
    "https://voice.mozilla.org/en/datasets\n",
    "\n",
    "Single-word target segments"
   ]
  },
  {
   "cell_type": "code",
   "execution_count": 90,
   "metadata": {},
   "outputs": [
    {
     "name": "stdout",
     "output_type": "stream",
     "text": [
      "<class 'pandas.core.frame.DataFrame'>\n",
      "RangeIndex: 12191 entries, 0 to 12190\n",
      "Data columns (total 10 columns):\n",
      " #   Column      Non-Null Count  Dtype \n",
      "---  ------      --------------  ----- \n",
      " 0   client_id   12191 non-null  object\n",
      " 1   path        12191 non-null  object\n",
      " 2   sentence    11319 non-null  object\n",
      " 3   up_votes    12191 non-null  int64 \n",
      " 4   down_votes  12191 non-null  int64 \n",
      " 5   age         4622 non-null   object\n",
      " 6   gender      4594 non-null   object\n",
      " 7   accent      3635 non-null   object\n",
      " 8   locale      12191 non-null  object\n",
      " 9   segment     12191 non-null  object\n",
      "dtypes: int64(2), object(8)\n",
      "memory usage: 952.5+ KB\n"
     ]
    }
   ],
   "source": [
    "#val_path = \"../commonvoice_singleword/cv-corpus-5-singleword/en/validated.tsv\"\n",
    "val_path = \"../commonvoice_singleword/cv-corpus-5-singleword/de/validated.tsv\"\n",
    "val_df = pd.read_csv(val_path, sep='\\t')\n",
    "val_df.info()"
   ]
  },
  {
   "cell_type": "code",
   "execution_count": 92,
   "metadata": {},
   "outputs": [
    {
     "data": {
      "text/plain": [
       "872"
      ]
     },
     "execution_count": 92,
     "metadata": {},
     "output_type": "execute_result"
    }
   ],
   "source": [
    "# NaN values?\n",
    "val_df[val_df.sentence.isna()].shape[0]\n",
    "# caution! in german, 'nan' is being used for zero apparently -- NOT really a NaN!\n",
    "# val_df.dropna(subset=['sentence'],inplace=True)"
   ]
  },
  {
   "cell_type": "code",
   "execution_count": 93,
   "metadata": {},
   "outputs": [
    {
     "data": {
      "text/plain": [
       "{'Firefox',\n",
       " 'Hei',\n",
       " 'acht',\n",
       " 'drei',\n",
       " 'eins',\n",
       " 'fünf',\n",
       " 'ja',\n",
       " nan,\n",
       " 'nein',\n",
       " 'neun',\n",
       " 'sechs',\n",
       " 'sieben',\n",
       " 'vier',\n",
       " 'zwei'}"
      ]
     },
     "execution_count": 93,
     "metadata": {},
     "output_type": "execute_result"
    }
   ],
   "source": [
    "words = set([w for w in val_df.sentence])\n",
    "words"
   ]
  },
  {
   "cell_type": "code",
   "execution_count": 94,
   "metadata": {},
   "outputs": [
    {
     "data": {
      "text/plain": [
       "{'vier': 886,\n",
       " nan: 0,\n",
       " 'zwei': 896,\n",
       " 'drei': 887,\n",
       " 'neun': 891,\n",
       " 'acht': 910,\n",
       " 'nein': 887,\n",
       " 'Hei': 632,\n",
       " 'sieben': 879,\n",
       " 'sechs': 873,\n",
       " 'ja': 922,\n",
       " 'eins': 884,\n",
       " 'fünf': 889,\n",
       " 'Firefox': 883}"
      ]
     },
     "execution_count": 94,
     "metadata": {},
     "output_type": "execute_result"
    }
   ],
   "source": [
    "wordcounts = {}\n",
    "for w in words:\n",
    "    word_df = val_df[val_df.sentence == w]\n",
    "    wordcounts[w] = word_df.shape[0]\n",
    "wordcounts"
   ]
  },
  {
   "cell_type": "code",
   "execution_count": 8,
   "metadata": {},
   "outputs": [
    {
     "data": {
      "text/plain": [
       "client_id     6b9ee6a8405cdb1c7404bb6376d18022eee4823c012616...\n",
       "path                               common_voice_en_22074788.mp3\n",
       "sentence                                                Firefox\n",
       "up_votes                                                      2\n",
       "down_votes                                                    1\n",
       "age                                                         NaN\n",
       "gender                                                      NaN\n",
       "accent                                                      NaN\n",
       "locale                                                       en\n",
       "segment                                    Singleword Benchmark\n",
       "Name: 65, dtype: object"
      ]
     },
     "execution_count": 8,
     "metadata": {},
     "output_type": "execute_result"
    }
   ],
   "source": [
    "val_df.iloc[65]"
   ]
  },
  {
   "cell_type": "code",
   "execution_count": 9,
   "metadata": {},
   "outputs": [],
   "source": [
    "row = val_df.iloc[65]"
   ]
  },
  {
   "cell_type": "code",
   "execution_count": 54,
   "metadata": {},
   "outputs": [
    {
     "name": "stderr",
     "output_type": "stream",
     "text": [
      "output_file: ../singleword_train/firefox/common_voice_en_22074788.mp3.wav already exists and will be overwritten on build\n",
      "WARNING:sox:output_file: ../singleword_train/firefox/common_voice_en_22074788.mp3.wav already exists and will be overwritten on build\n"
     ]
    },
    {
     "name": "stdout",
     "output_type": "stream",
     "text": [
      "../commonvoice_singleword/cv-corpus-5-singleword/en/clips/common_voice_en_22074788.mp3 \n",
      " ../singleword_train/firefox/common_voice_en_22074788.mp3.wav\n"
     ]
    },
    {
     "data": {
      "text/plain": [
       "True"
      ]
     },
     "execution_count": 54,
     "metadata": {},
     "output_type": "execute_result"
    }
   ],
   "source": [
    "transformer = sox.Transformer()\n",
    "transformer.convert(samplerate=16000)  # from 48K mp3s\n",
    "mp3_path = clips + row.path\n",
    "dest = f\"{dsdir}/{row.sentence.lower()}/{row.path}.wav\"\n",
    "print(mp3_path, \"\\n\",dest)\n",
    "transformer.build(mp3_path, dest)\n",
    "# run 'soxi' on the output wav to inspect encoding parameters"
   ]
  },
  {
   "cell_type": "markdown",
   "metadata": {},
   "source": [
    "Row 65:\n",
    "\n",
    "`singleword_train/firefox/common_voice_en_22074788.mp3.wav`\n",
    "\n",
    "Contains `firefox` said twice\n",
    "\n",
    "6 seconds long \n",
    "\n",
    "```\n",
    "soxi ../singleword_train/firefox/common_voice_en_22074788.mp3.wav\n",
    "\n",
    "Input File     : '../singleword_train/firefox/common_voice_en_22074788.mp3.wav'\n",
    "Channels       : 1\n",
    "Sample Rate    : 16000\n",
    "Precision      : 16-bit\n",
    "Duration       : 00:00:06.31 = 100992 samples ~ 473.4 CDDA sectors\n",
    "File Size      : 202k\n",
    "Bit Rate       : 256k\n",
    "Sample Encoding: 16-bit Signed Integer PCM\n",
    "```\n"
   ]
  },
  {
   "cell_type": "code",
   "execution_count": 15,
   "metadata": {},
   "outputs": [],
   "source": [
    "#f = pydub.AudioSegment.from_wav(\"../singleword_train/firefox/common_voice_en_22074788.mp3.wav\")\n",
    "f = pydub.AudioSegment.from_wav(\"../commonvoice_singleword/en_wav_ext/common_voice_en_22074788.mp3.wav\")\n",
    "play(f)"
   ]
  },
  {
   "cell_type": "markdown",
   "metadata": {},
   "source": [
    "Running `extract_loudest_section` results in `<mic noises> firefo-` on the above example"
   ]
  },
  {
   "cell_type": "code",
   "execution_count": 18,
   "metadata": {},
   "outputs": [],
   "source": [
    "dest_dir = \"../singleword_train\""
   ]
  },
  {
   "cell_type": "code",
   "execution_count": 20,
   "metadata": {},
   "outputs": [
    {
     "name": "stdout",
     "output_type": "stream",
     "text": [
      "Missing 725\n"
     ]
    }
   ],
   "source": [
    "# after running extract_loudest_section, organize files into directories\n",
    "raise ValueError(\"copies a large number of files\")\n",
    "\n",
    "clips_dir = \"../commonvoice_singleword/en_wav_ext\"\n",
    "missing = 0\n",
    "for ix,r in val_df.iterrows():\n",
    "    mp3_name = r.path\n",
    "    target_word = r.sentence.lower()\n",
    "    wav_file = f\"{clips_dir}/{mp3_name}.wav\"\n",
    "    if not os.path.exists(wav_file):\n",
    "        missing += 1\n",
    "        continue\n",
    "    target = f\"{dest_dir}/{target_word}/\"\n",
    "    shutil.copy2(wav_file, target)\n",
    "print(\"Missing\", missing)"
   ]
  },
  {
   "cell_type": "markdown",
   "metadata": {},
   "source": [
    "725 missing files between `validated.txt`, `sox` wav conversion (some failed), and after running `extract_loudest_section`"
   ]
  },
  {
   "cell_type": "code",
   "execution_count": 22,
   "metadata": {},
   "outputs": [
    {
     "name": "stdout",
     "output_type": "stream",
     "text": [
      "seven 1867\n",
      "eight 1729\n",
      "zero 1818\n",
      "four 1769\n",
      "one 1855\n",
      "nine 1894\n",
      "three 1620\n",
      "no 1835\n",
      "yes 1923\n",
      "Firefox 1846\n",
      "five 1785\n",
      "Hey 1833\n",
      "six 1832\n",
      "two 1739\n"
     ]
    }
   ],
   "source": [
    "for w in words:\n",
    "    d = os.listdir(f\"{dest_dir}/{w.lower()}/\")\n",
    "    print(w, len(d))"
   ]
  },
  {
   "cell_type": "markdown",
   "metadata": {},
   "source": [
    "hacking together a quasi ROC (TPR vs FPR, not precision/recall or sensitivity/specificity)"
   ]
  },
  {
   "cell_type": "markdown",
   "metadata": {},
   "source": [
    "5 word dataset (out of 11)\n",
    "\n",
    "200 Ground Truth words\n",
    "\n",
    "* 0.0\n",
    "  * 98.5% matched, 29.0% correct, 251.0% wrong, 6.0% false positive, 0.0% false negative\n",
    "* 0.1\n",
    "  * 98.5% matched, 29.0% correct, 251.0% wrong, 6.0% false positive, 0.0% false negative\n",
    "* 0.2\n",
    "  * 98.5% matched, 28.0% correct, 251.0% wrong, 6.0% false positive, 0.0% false negative\n",
    "* 0.3\n",
    "  * 97.5% matched, 32.0% correct, 208.5% wrong, 4.5% false positive, 1.5% false negative\n",
    "* 0.4\n",
    "  * 89.0% matched, 35.0% correct, 124.5% wrong, 0.0% false positive, 8.0% false negative\n",
    "* 0.5\n",
    "  * 89.0% matched, 35.0% correct, 124.5% wrong, 0.0% false positive, 8.0% false negative\n",
    "* 0.6\n",
    "  *  41.5% matched, 26.5% correct, 20.0% wrong, 0.0% false positive, 56.5% false negative\n",
    "* 0.7\n",
    "  * 19.0% matched, 14.0% correct, 5.5% wrong, 0.0% false positive, 80.0% false negative\n",
    "* 0.8\n",
    "  * 7.0% matched, 6.5% correct, 0.5% wrong, 0.0% false positive, 92.5% false negative\n",
    "* 0.9\n",
    "  * 1.5% matched, 1.5% correct, 0.0% wrong, 0.0% false positive, 98.5% false negative\n",
    "* 1.0\n",
    "  * 0.0% matched, 0.0% correct, 0.0% wrong, 0.0% false positive, 100.0% false negative\n"
   ]
  },
  {
   "cell_type": "code",
   "execution_count": 7,
   "metadata": {},
   "outputs": [
    {
     "data": {
      "image/png": "[encoded data removed]",
      "text/plain": [
       "<Figure size 432x288 with 1 Axes>"
      ]
     },
     "metadata": {
      "needs_background": "light"
     },
     "output_type": "display_data"
    }
   ],
   "source": [
    "fp = [.06, .06, .06, .045, 0., 0., 0., 0., 0., 0., 0.]\n",
    "tp = [0., 0., 0., .015, .08, .08, .565, .8, .925, .985, 1.]\n",
    "plt.scatter(fp,tp);"
   ]
  }
 ],
 "metadata": {
  "kernelspec": {
   "display_name": "Python 3",
   "language": "python",
   "name": "python3"
  },
  "language_info": {
   "codemirror_mode": {
    "name": "ipython",
    "version": 3
   },
   "file_extension": ".py",
   "mimetype": "text/x-python",
   "name": "python",
   "nbconvert_exporter": "python",
   "pygments_lexer": "ipython3",
   "version": "3.7.9"
  }
 },
 "nbformat": 4,
 "nbformat_minor": 4
}
