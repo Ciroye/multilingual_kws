{
 "cells": [
  {
   "cell_type": "code",
   "execution_count": 1,
   "metadata": {},
   "outputs": [],
   "source": [
    "import numpy as np\n",
    "import os\n",
    "import pandas as pd\n",
    "import sox\n",
    "import wave\n",
    "import logging\n",
    "import pydub \n",
    "from pydub.playback import play\n",
    "import time\n",
    "import csv\n",
    "import glob\n",
    "import shutil\n",
    "import json\n",
    "import matplotlib.pyplot as plt\n",
    "import seaborn as sns\n",
    "import nltk\n",
    "from typing import Set, List, Dict\n",
    "import functools"
   ]
  },
  {
   "cell_type": "code",
   "execution_count": 2,
   "metadata": {},
   "outputs": [],
   "source": [
    "from IPython.display import clear_output"
   ]
  },
  {
   "cell_type": "code",
   "execution_count": 3,
   "metadata": {},
   "outputs": [
    {
     "name": "stdout",
     "output_type": "stream",
     "text": [
      "number of mp3s in training set:  232975  - validated set:  854444\n"
     ]
    },
    {
     "name": "stderr",
     "output_type": "stream",
     "text": [
      "/home/mark/miniconda3/envs/deepspeech/lib/python3.8/site-packages/IPython/core/interactiveshell.py:3062: DtypeWarning: Columns (7) have mixed types.Specify dtype option on import or set low_memory=False.\n",
      "  has_raised = await self.run_ast_nodes(code_ast.body, cell_name,\n"
     ]
    }
   ],
   "source": [
    "clips_path = \"../mozilla_common_voice/clips/\" # english corpus\n",
    "train_df = pd.read_csv(\"../mozilla_common_voice/train.tsv\", sep=\"\\t\")\n",
    "val_df = pd.read_csv(\"../mozilla_common_voice/validated.tsv\", sep=\"\\t\")\n",
    "print(\"number of mp3s in training set: \", train_df.shape[0], \" - validated set: \", val_df.shape[0])"
   ]
  },
  {
   "cell_type": "code",
   "execution_count": 24,
   "metadata": {},
   "outputs": [
    {
     "data": {
      "text/plain": [
       "6"
      ]
     },
     "execution_count": 24,
     "metadata": {},
     "output_type": "execute_result"
    }
   ],
   "source": [
    "# there are NaNs in val_df.sentence\n",
    "val_df[val_df.sentence.isna()].shape[0]"
   ]
  },
  {
   "cell_type": "code",
   "execution_count": 4,
   "metadata": {},
   "outputs": [
    {
     "name": "stdout",
     "output_type": "stream",
     "text": [
      "854438\n"
     ]
    }
   ],
   "source": [
    "val_df.dropna(subset=['sentence'],inplace=True)\n",
    "print(val_df.shape[0])"
   ]
  },
  {
   "cell_type": "markdown",
   "metadata": {},
   "source": [
    "### Generating a micro dataset of 50 clips"
   ]
  },
  {
   "cell_type": "code",
   "execution_count": 52,
   "metadata": {},
   "outputs": [],
   "source": [
    "selected_clips=[]"
   ]
  },
  {
   "cell_type": "code",
   "execution_count": 5,
   "metadata": {},
   "outputs": [],
   "source": [
    "def listen_to_sample(df, ix, clips_path):\n",
    "    mp3_path = clips_path + df.iloc[ix].path\n",
    "    clip = pydub.AudioSegment.from_mp3(mp3_path)\n",
    "    play(clip)\n",
    "    return clip"
   ]
  },
  {
   "cell_type": "code",
   "execution_count": null,
   "metadata": {},
   "outputs": [],
   "source": [
    "sample = np.random.randint(df.shape[0])\n",
    "listen_to_sample(df=df, ix=sample, clips_path=clips_path)\n",
    "selected_clips.append(sample)\n",
    "print(len(selected_clips))"
   ]
  },
  {
   "cell_type": "code",
   "execution_count": null,
   "metadata": {},
   "outputs": [],
   "source": [
    "raise ValueError(\"warning: overwrites\")\n",
    "df.iloc[selected_clips].to_csv(\n",
    "    \"selected_clips.tsv\", sep=\"\\t\", quoting=csv.QUOTE_MINIMAL, index=False\n",
    ")"
   ]
  },
  {
   "cell_type": "code",
   "execution_count": 51,
   "metadata": {},
   "outputs": [],
   "source": [
    "selected = pd.read_csv(\"selected_clips.tsv\", sep=\"\\t\")"
   ]
  },
  {
   "cell_type": "code",
   "execution_count": 26,
   "metadata": {},
   "outputs": [],
   "source": [
    "for _, r in selected.iterrows():\n",
    "    mp3_path = clips_path + r.path\n",
    "    shutil.copy2(mp3_path, \"./micro_dataset\")"
   ]
  },
  {
   "cell_type": "markdown",
   "metadata": {},
   "source": [
    "Now, run `word_separator/transcribe_word_time_offsets.py` on `./micro_dataset`"
   ]
  },
  {
   "cell_type": "markdown",
   "metadata": {},
   "source": [
    "## Select keywords for word separation"
   ]
  },
  {
   "cell_type": "code",
   "execution_count": 7,
   "metadata": {},
   "outputs": [],
   "source": [
    "def clean_and_filter(keyword_set: Set[str], sentence: str) -> List[str]:\n",
    "    \"\"\"\n",
    "    inserts a new column containing a list of keywords present from \n",
    "    tokenizing the existing 'sentence' column\n",
    "    \"\"\"\n",
    "    tokens = nltk.word_tokenize(sentence)\n",
    "    words = [word.lower() for word in tokens if word.isalpha()]\n",
    "    return list(filter(lambda w: w in keyword_set, words))"
   ]
  },
  {
   "cell_type": "code",
   "execution_count": 1,
   "metadata": {},
   "outputs": [],
   "source": [
    "# https://github.com/tensorflow/docs/blob/master/site/en/r1/tutorials/sequences/audio_recognition.md\n",
    "tf_set = [\"yes\", \"no\", \"up\", \"down\", \"left\", \"right\", \"on\", \"off\", \"stop\", \"go\"]"
   ]
  },
  {
   "cell_type": "code",
   "execution_count": 8,
   "metadata": {},
   "outputs": [
    {
     "name": "stdout",
     "output_type": "stream",
     "text": [
      "mp3s containing desired keywords 112008\n"
     ]
    }
   ],
   "source": [
    "keywords_set = set([\"up\", \"down\", \"three\", \"yes\", \"no\", \"left\", \"right\", \"on\", \"off\", \"stop\", \"go\"])\n",
    "\n",
    "# TODO(MMAZ) inefficient\n",
    "val_df['keywords'] = val_df.sentence.apply(functools.partial(clean_and_filter, keywords_set))\n",
    "\n",
    "val_df.dropna(subset=[\"keywords\"], inplace=True)\n",
    "usable = val_df.loc[val_df.keywords.transform(len) > 0]\n",
    "print(\"mp3s containing desired keywords\", usable.shape[0])"
   ]
  },
  {
   "cell_type": "code",
   "execution_count": 9,
   "metadata": {},
   "outputs": [],
   "source": [
    "# convert usable from slice:\n",
    "usable = usable.copy()\n",
    "\n",
    "for kw in keywords_set:\n",
    "    # is the current keyword in the list of present keywords?\n",
    "    # usable[kw] is a boolean column indicating keyword presence\n",
    "    usable[kw] = usable.keywords.apply(lambda l: kw in l)"
   ]
  },
  {
   "cell_type": "code",
   "execution_count": 26,
   "metadata": {},
   "outputs": [
    {
     "data": {
      "image/png": "[encoded data removed]",
      "text/plain": [
       "<Figure size 432x288 with 1 Axes>"
      ]
     },
     "metadata": {},
     "output_type": "display_data"
    }
   ],
   "source": [
    "labels = [k for k in keywords_set]\n",
    "counts = [usable[k].value_counts().loc[True] for k in keywords_set]\n",
    "fig, ax = plt.subplots()\n",
    "ax.set_xticks(range(len(labels)))\n",
    "ax.set_xticklabels(labels)\n",
    "fig.patch.set_facecolor('white')\n",
    "ax.set_ylim(0,10000)\n",
    "ax.bar(range(len(labels)), counts);"
   ]
  },
  {
   "cell_type": "code",
   "execution_count": 27,
   "metadata": {},
   "outputs": [
    {
     "data": {
      "text/plain": [
       "False    110765\n",
       "True       1243\n",
       "Name: yes, dtype: int64"
      ]
     },
     "execution_count": 27,
     "metadata": {},
     "output_type": "execute_result"
    }
   ],
   "source": [
    "usable[\"yes\"].value_counts()"
   ]
  },
  {
   "cell_type": "code",
   "execution_count": 28,
   "metadata": {},
   "outputs": [],
   "source": [
    "# write to tsv\n",
    "usable.drop(columns=[\"keywords\"], axis=1).to_csv(\n",
    "    \"keywords_listen.tsv\", sep=\"\\t\", quoting=csv.QUOTE_MINIMAL, index=False\n",
    ")"
   ]
  },
  {
   "cell_type": "code",
   "execution_count": 29,
   "metadata": {},
   "outputs": [],
   "source": [
    "b = os.path.getsize(\"keywords_listen.tsv\")"
   ]
  },
  {
   "cell_type": "code",
   "execution_count": 31,
   "metadata": {},
   "outputs": [
    {
     "data": {
      "text/plain": [
       "31.367531776428223"
      ]
     },
     "execution_count": 31,
     "metadata": {},
     "output_type": "execute_result"
    }
   ],
   "source": [
    "b / 1024 ** 2 #MB"
   ]
  },
  {
   "cell_type": "code",
   "execution_count": 32,
   "metadata": {},
   "outputs": [
    {
     "name": "stdout",
     "output_type": "stream",
     "text": [
      "112008\n"
     ]
    }
   ],
   "source": [
    "keywords = pd.read_csv(\"keywords_listen.tsv\", sep=\"\\t\")\n",
    "print(keywords.shape[0])"
   ]
  },
  {
   "cell_type": "code",
   "execution_count": 41,
   "metadata": {},
   "outputs": [
    {
     "name": "stderr",
     "output_type": "stream",
     "text": [
      "WARNING:root:for keyword yes, there are not enough examples to sample\n"
     ]
    },
    {
     "name": "stdout",
     "output_type": "stream",
     "text": [
      "Keyword right : 2000\n",
      "Keyword three : 2000\n",
      "Keyword left : 2000\n",
      "Keyword go : 2000\n",
      "Keyword stop : 2000\n",
      "Keyword on : 2000\n",
      "Keyword off : 2000\n",
      "Keyword yes : 1243\n",
      "Keyword no : 2000\n",
      "Keyword up : 2000\n",
      "Keyword down : 2000\n"
     ]
    }
   ],
   "source": [
    "# select examples each from keywords where the column [\"keywords\"] == True\n",
    "NUM_SAMPLES = 2000\n",
    "samples = {}\n",
    "for k in keywords_set:\n",
    "    if keywords[k].value_counts().loc[True] > NUM_SAMPLES:\n",
    "        #are there more than NUM_SAMPLES examples?\n",
    "        samples[k] = keywords[keywords[k]].sample(n=NUM_SAMPLES)\n",
    "    else:\n",
    "        # use them all\n",
    "        samples[k] = keywords[keywords[k]]\n",
    "        logging.warning(f\"for keyword {k}, there are not enough examples to sample\")\n",
    "    print(\"Keyword\", k, \":\", samples[k].shape[0])    "
   ]
  },
  {
   "cell_type": "code",
   "execution_count": 44,
   "metadata": {},
   "outputs": [
    {
     "name": "stdout",
     "output_type": "stream",
     "text": [
      "And he decided he would go to see the chiefs of the tribes.\n"
     ]
    },
    {
     "data": {
      "text/html": [
       "\n",
       "                    <audio controls>\n",
       "                        <source src=\"data:audio/mpeg;base64,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\" type=\"audio/mpeg\"/>\n",
       "                        Your browser does not support the audio element.\n",
       "                    </audio>\n",
       "                  "
      ],
      "text/plain": [
       "<pydub.audio_segment.AudioSegment at 0x7fd33ceb0340>"
      ]
     },
     "execution_count": 44,
     "metadata": {},
     "output_type": "execute_result"
    }
   ],
   "source": [
    "q = samples[\"go\"]\n",
    "sample = np.random.randint(q.shape[0])\n",
    "print(q.iloc[sample].sentence)\n",
    "listen_to_sample(df=q, ix=sample, clips_path=clips_path)"
   ]
  },
  {
   "cell_type": "code",
   "execution_count": 45,
   "metadata": {},
   "outputs": [],
   "source": [
    "parent_dir = \"eleven_word_dataset\""
   ]
  },
  {
   "cell_type": "code",
   "execution_count": null,
   "metadata": {},
   "outputs": [],
   "source": [
    "# create directory structure\n",
    "raise ValueError(\"caution: script operates on fs\")\n",
    "cur = os.getcwd()\n",
    "print(f\"operating in {cur}\")\n",
    "for dest in [\"clips\", \"extractions_gcloud\", \"extractions_deepspeech\", \"transcripts_gcloud\"]:\n",
    "    for k in keywords_set:\n",
    "        newdir = f\"{parent_dir}/{dest}/{k}/\"\n",
    "        os.makedirs(newdir)\n",
    "        print(newdir)\n",
    "os.makedirs(f\"{parent_dir}/logs/\")"
   ]
  },
  {
   "cell_type": "code",
   "execution_count": 49,
   "metadata": {},
   "outputs": [],
   "source": [
    "# save tsvs of NUM_SAMPLES examples selected for each of the keywords\n",
    "for name, df in samples.items():\n",
    "    # remove all the keywords-present columns\n",
    "    df.drop(columns=keywords_set, axis=1).to_csv(\n",
    "        f\"{parent_dir}/{name}.tsv\", sep=\"\\t\", quoting=csv.QUOTE_MINIMAL, index=False\n",
    "    )"
   ]
  },
  {
   "cell_type": "code",
   "execution_count": 50,
   "metadata": {},
   "outputs": [],
   "source": [
    "# copy source mp3s into correct subdirectory\n",
    "for keyword, df in samples.items():\n",
    "    for _,r in df.iterrows():\n",
    "        mp3_path = clips_path + r.path\n",
    "        shutil.copy2(mp3_path, f\"./{parent_dir}/clips/{keyword}\")"
   ]
  },
  {
   "cell_type": "code",
   "execution_count": 52,
   "metadata": {},
   "outputs": [
    {
     "name": "stdout",
     "output_type": "stream",
     "text": [
      "keyword right 2000\n",
      "7842.480000000009\n",
      "keyword three 2000\n",
      "10471.991999999973\n",
      "keyword left 2000\n",
      "9862.15199999999\n",
      "keyword go 2000\n",
      "8217.144\n",
      "keyword stop 2000\n",
      "8818.319999999994\n",
      "keyword on 2000\n",
      "10347.959999999997\n",
      "keyword off 2000\n",
      "10036.248\n",
      "keyword yes 1243\n",
      "4571.783999999996\n",
      "keyword no 2000\n",
      "9442.535999999995\n",
      "keyword up 2000\n",
      "9209.73599999999\n",
      "keyword down 2000\n",
      "9276.38399999998\n",
      "TOTAL 98096.73599999992\n"
     ]
    }
   ],
   "source": [
    "# calculate total length of all samples\n",
    "total_time = 0\n",
    "for keyword, _ in samples.items():\n",
    "    clips = glob.glob(f\"./{parent_dir}/clips/{keyword}/*.mp3\")\n",
    "    print(\"keyword\", keyword, len(clips))\n",
    "    kw_time = 0\n",
    "    for c in clips:\n",
    "        s = pydub.AudioSegment.from_mp3(c)\n",
    "        d = s.duration_seconds\n",
    "        kw_time += d\n",
    "    print(kw_time)\n",
    "    total_time += kw_time\n",
    "print(\"TOTAL\", total_time)"
   ]
  },
  {
   "cell_type": "code",
   "execution_count": 57,
   "metadata": {},
   "outputs": [
    {
     "data": {
      "text/plain": [
       "27.24909333333331"
      ]
     },
     "execution_count": 57,
     "metadata": {},
     "output_type": "execute_result"
    }
   ],
   "source": [
    "98096.73599999992 / 60**2 # hours"
   ]
  },
  {
   "cell_type": "markdown",
   "metadata": {},
   "source": [
    "## Extract keywords using Google Cloud STT API Results"
   ]
  },
  {
   "cell_type": "code",
   "execution_count": 120,
   "metadata": {},
   "outputs": [],
   "source": [
    "def find_keyword(timings, keyword):\n",
    "    \"\"\"returns either (start,end) in seconds, or None\"\"\"\n",
    "    for timing in timings:\n",
    "        word = timing['word']\n",
    "        \n",
    "        # TODO(MMAZ) note this only extracts the first word for now\n",
    "        # i.e., \"tap up, then up, then down\" will only return the first \"up\"\n",
    "        if word == keyword:\n",
    "            return timing['start_time'], timing['end_time']\n",
    "    return None"
   ]
  },
  {
   "cell_type": "code",
   "execution_count": null,
   "metadata": {},
   "outputs": [],
   "source": [
    "keyword = \"three\"\n",
    "df = pd.read_csv(f\"./micro_dataset/{keyword}.tsv\", sep=\"\\t\")\n",
    "print(f\"{keyword}.tsv # of examples:\", df.shape[0])\n",
    "\n",
    "for ix, (_, r) in enumerate(df.iterrows()):\n",
    "    if ix != 30:\n",
    "        continue\n",
    "    if ix % 10 == 0:\n",
    "        print(\"progress\", ix)\n",
    "    mp3_path = f\"./micro_dataset/clips/{keyword}/\" + r.path\n",
    "    \n",
    "    fname = f\"./micro_dataset/transcripts_googlecloud/{keyword}/{r.path}.json\"\n",
    "    with open(fname, 'r') as fh:\n",
    "        try:\n",
    "            transcription = json.load(fh)\n",
    "        except json.JSONDecodeError as e:\n",
    "            logging.warning(f\"no transcription returned by GCP STT API for sentence {ix}\")\n",
    "            continue\n",
    "\n",
    "    result = find_keyword(transcription[\"timings\"], keyword)\n",
    "    if result is None:\n",
    "        logging.warning(f\"keyword {keyword} not found in inference for sentence {ix}:\\n - {transcription['transcript']}\")\n",
    "        continue\n",
    "\n",
    "    start_s, end_s = result    \n",
    "    \n",
    "    dest = f\"./micro_dataset/extractions_googlecloud/{keyword}/{r.path}.wav\"\n",
    "    \n",
    "    # convert to wav (will overwrite existing dest)\n",
    "    transformer = sox.Transformer()\n",
    "    transformer.convert(samplerate=16000)\n",
    "    transformer.trim(start_s, end_s)\n",
    "    transformer.build(mp3_path, dest)\n",
    "    \n",
    "    # to listen\n",
    "    clip = pydub.AudioSegment.from_wav(dest)\n",
    "    play(clip)"
   ]
  },
  {
   "cell_type": "markdown",
   "metadata": {},
   "source": [
    "### Listen to word splits"
   ]
  },
  {
   "cell_type": "code",
   "execution_count": 112,
   "metadata": {},
   "outputs": [],
   "source": [
    "selected = pd.read_csv(\"selected_clips_yes_no_three.tsv\", sep=\"\\t\")"
   ]
  },
  {
   "cell_type": "code",
   "execution_count": 113,
   "metadata": {},
   "outputs": [],
   "source": [
    "# TODO(MMAZ) lower() and remove punctuation, etc\n",
    "# pasted from https://stackoverflow.com/a/32558749\n",
    "def levenshteinDistance(s1, s2):\n",
    "    if len(s1) > len(s2):\n",
    "        s1, s2 = s2, s1\n",
    "\n",
    "    distances = range(len(s1) + 1)\n",
    "    for i2, c2 in enumerate(s2):\n",
    "        distances_ = [i2+1]\n",
    "        for i1, c1 in enumerate(s1):\n",
    "            if c1 == c2:\n",
    "                distances_.append(distances[i1])\n",
    "            else:\n",
    "                distances_.append(1 + min((distances[i1], distances[i1 + 1], distances_[-1])))\n",
    "        distances = distances_\n",
    "    return distances[-1]"
   ]
  },
  {
   "cell_type": "code",
   "execution_count": 143,
   "metadata": {},
   "outputs": [],
   "source": [
    "def listen_to_split_on_boundaries(timings, clip, keywords_set=None):\n",
    "    if keywords_set is not None:\n",
    "        words = set([t[\"word\"] for t in timings])\n",
    "        if words.isdisjoint(keywords_set):\n",
    "            print(\"No keywords found in the transcription\")\n",
    "    for ix, timing in enumerate(timings):\n",
    "        word = timing['word']\n",
    "        if keywords_set and word not in keywords_set:\n",
    "            continue\n",
    "        start_ms = timing['start_time'] * 1000\n",
    "        end_ms = timing['end_time'] * 1000\n",
    "        print(f\"word {ix}: {word} \\n - start_time: {timing['start_time']:.3f} - end_time: {timing['end_time']:.3f}\")\n",
    "        play(clip[start_ms:end_ms])\n",
    "        time.sleep(1)"
   ]
  },
  {
   "cell_type": "markdown",
   "metadata": {},
   "source": [
    "### Selected keywords"
   ]
  },
  {
   "cell_type": "code",
   "execution_count": 136,
   "metadata": {},
   "outputs": [
    {
     "data": {
      "text/plain": [
       "{'no', 'three', 'up'}"
      ]
     },
     "execution_count": 136,
     "metadata": {},
     "output_type": "execute_result"
    }
   ],
   "source": [
    "keyword_set"
   ]
  },
  {
   "cell_type": "code",
   "execution_count": 150,
   "metadata": {},
   "outputs": [
    {
     "name": "stdout",
     "output_type": "stream",
     "text": [
      "Sample: 10\n",
      "Groundtruth: He has a wife, Sherri, and three daughters.\n",
      "Inference: he has a wife Sherry and three daughters\n",
      "Edit Distance: 5\n",
      "\n",
      "--\n",
      "\n",
      "word 6: three \n",
      " - start_time: 2.200 - end_time: 2.400\n"
     ]
    }
   ],
   "source": [
    "for ix, row in selected.iterrows():\n",
    "    print(f\"Sample: {ix}\")\n",
    "    fname = \"./keywords_transcriptions/\" + row.path + \".json\"\n",
    "    with open(fname, 'r') as fh:\n",
    "        transcription = json.load(fh)\n",
    "    gt = row.sentence\n",
    "    print(f\"Groundtruth: {gt}\")\n",
    "    text = transcription['transcript']\n",
    "    print(f\"Inference: {text}\")\n",
    "    print(\"Edit Distance:\", levenshteinDistance(gt, text))\n",
    "    print(\"\\n--\\n\")\n",
    "    clip = listen_to_sample(df=selected, ix=ix, clips_path=clips_path)\n",
    "    listen_to_split_on_boundaries(transcription['timings'], clip, keywords_set=keyword_set)\n",
    "    time.sleep(4)\n",
    "    clear_output()"
   ]
  }
 ],
 "metadata": {
  "kernelspec": {
   "display_name": "Python 3",
   "language": "python",
   "name": "python3"
  },
  "language_info": {
   "codemirror_mode": {
    "name": "ipython",
    "version": 3
   },
   "file_extension": ".py",
   "mimetype": "text/x-python",
   "name": "python",
   "nbconvert_exporter": "python",
   "pygments_lexer": "ipython3",
   "version": "3.8.2"
  }
 },
 "nbformat": 4,
 "nbformat_minor": 4
}
