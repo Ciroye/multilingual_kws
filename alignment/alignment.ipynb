{
 "cells": [
  {
   "cell_type": "code",
   "execution_count": 221,
   "metadata": {},
   "outputs": [],
   "source": [
    "import pandas as pd\n",
    "import logging\n",
    "import subprocess\n",
    "import os\n",
    "import shutil\n",
    "import numpy as np\n",
    "import shlex\n",
    "import glob\n",
    "import matplotlib.pyplot as plt\n",
    "import textgrid\n",
    "import sox\n",
    "import time\n",
    "import datetime\n",
    "import pydub\n",
    "from pydub.playback import play\n",
    "import random"
   ]
  },
  {
   "cell_type": "code",
   "execution_count": 2,
   "metadata": {},
   "outputs": [],
   "source": [
    "keywords_set = set([\"up\", \"down\", \"three\", \"yes\", \"no\", \"left\", \"right\", \"on\", \"off\", \"stop\", \"go\"])"
   ]
  },
  {
   "cell_type": "code",
   "execution_count": 3,
   "metadata": {},
   "outputs": [
    {
     "name": "stdout",
     "output_type": "stream",
     "text": [
      "112008\n"
     ]
    }
   ],
   "source": [
    "keywords = pd.read_csv(\"../keywords_listen.tsv\", sep=\"\\t\")\n",
    "print(keywords.shape[0])"
   ]
  },
  {
   "cell_type": "code",
   "execution_count": 4,
   "metadata": {},
   "outputs": [
    {
     "name": "stdout",
     "output_type": "stream",
     "text": [
      "Keyword three : 100\n",
      "Keyword stop : 100\n",
      "Keyword no : 100\n",
      "Keyword yes : 100\n",
      "Keyword go : 100\n",
      "Keyword up : 100\n",
      "Keyword right : 100\n",
      "Keyword off : 100\n",
      "Keyword on : 100\n",
      "Keyword left : 100\n",
      "Keyword down : 100\n"
     ]
    }
   ],
   "source": [
    "# select examples each from keywords where the column [\"keywords\"] == True\n",
    "NUM_SAMPLES = 100\n",
    "samples = {}\n",
    "for k in keywords_set:\n",
    "    if keywords[k].value_counts().loc[True] > NUM_SAMPLES:\n",
    "        #are there more than NUM_SAMPLES examples?\n",
    "        samples[k] = keywords[keywords[k]].sample(n=NUM_SAMPLES)\n",
    "    else:\n",
    "        # use them all\n",
    "        samples[k] = keywords[keywords[k]]\n",
    "        logging.warning(f\"for keyword {k}, there are not enough examples to sample\")\n",
    "    print(\"Keyword\", k, \":\", samples[k].shape[0])    \n",
    "    \n",
    "# clean up each df by removing the keyword columns\n",
    "for k in samples.keys():\n",
    "    samples[k].drop(columns=keywords_set, inplace=True)"
   ]
  },
  {
   "cell_type": "code",
   "execution_count": 6,
   "metadata": {},
   "outputs": [
    {
     "data": {
      "text/html": [
       "<div>\n",
       "<style scoped>\n",
       "    .dataframe tbody tr th:only-of-type {\n",
       "        vertical-align: middle;\n",
       "    }\n",
       "\n",
       "    .dataframe tbody tr th {\n",
       "        vertical-align: top;\n",
       "    }\n",
       "\n",
       "    .dataframe thead th {\n",
       "        text-align: right;\n",
       "    }\n",
       "</style>\n",
       "<table border=\"1\" class=\"dataframe\">\n",
       "  <thead>\n",
       "    <tr style=\"text-align: right;\">\n",
       "      <th></th>\n",
       "      <th>client_id</th>\n",
       "      <th>path</th>\n",
       "      <th>sentence</th>\n",
       "      <th>up_votes</th>\n",
       "      <th>down_votes</th>\n",
       "      <th>age</th>\n",
       "      <th>gender</th>\n",
       "      <th>accent</th>\n",
       "    </tr>\n",
       "  </thead>\n",
       "  <tbody>\n",
       "    <tr>\n",
       "      <th>85875</th>\n",
       "      <td>9589554d8179c222ae4f6cc46af845e5da0a007dc68555...</td>\n",
       "      <td>common_voice_en_180949.mp3</td>\n",
       "      <td>Yes, it’s disorganized but it will still happen.</td>\n",
       "      <td>2</td>\n",
       "      <td>0</td>\n",
       "      <td>fifties</td>\n",
       "      <td>male</td>\n",
       "      <td>australia</td>\n",
       "    </tr>\n",
       "    <tr>\n",
       "      <th>18135</th>\n",
       "      <td>acbfc1a1b792abc8aa5b7565e2d3a004faccd42ee029d4...</td>\n",
       "      <td>common_voice_en_17251785.mp3</td>\n",
       "      <td>Yes, it would be.</td>\n",
       "      <td>2</td>\n",
       "      <td>0</td>\n",
       "      <td>twenties</td>\n",
       "      <td>male</td>\n",
       "      <td>england</td>\n",
       "    </tr>\n",
       "  </tbody>\n",
       "</table>\n",
       "</div>"
      ],
      "text/plain": [
       "                                               client_id  \\\n",
       "85875  9589554d8179c222ae4f6cc46af845e5da0a007dc68555...   \n",
       "18135  acbfc1a1b792abc8aa5b7565e2d3a004faccd42ee029d4...   \n",
       "\n",
       "                               path  \\\n",
       "85875    common_voice_en_180949.mp3   \n",
       "18135  common_voice_en_17251785.mp3   \n",
       "\n",
       "                                               sentence  up_votes  down_votes  \\\n",
       "85875  Yes, it’s disorganized but it will still happen.         2           0   \n",
       "18135                                 Yes, it would be.         2           0   \n",
       "\n",
       "            age gender     accent  \n",
       "85875   fifties   male  australia  \n",
       "18135  twenties   male    england  "
      ]
     },
     "execution_count": 6,
     "metadata": {},
     "output_type": "execute_result"
    }
   ],
   "source": [
    "samples[\"yes\"].head(2)"
   ]
  },
  {
   "cell_type": "code",
   "execution_count": 7,
   "metadata": {},
   "outputs": [
    {
     "name": "stdout",
     "output_type": "stream",
     "text": [
      "/home/mark/tinyspeech_harvard/tinyspeech/alignment\n"
     ]
    }
   ],
   "source": [
    "print(os.getcwd())"
   ]
  },
  {
   "cell_type": "markdown",
   "metadata": {},
   "source": [
    "```\n",
    "aligner.exceptions.CorpusError: Files with the same file name are not permitted. Files with the same name are: /work/input/clips/drei/common_voice_de_17324140.wav, /work/input/clips/links/common_voice_de_17324140.wav.\n",
    "```\n",
    "\n",
    "`Geh hinunter und hilf deinem Vater!` contains both `geh` and `hinunter`\n",
    "        "
   ]
  },
  {
   "cell_type": "code",
   "execution_count": 110,
   "metadata": {},
   "outputs": [
    {
     "name": "stdout",
     "output_type": "stream",
     "text": [
      "ja\n",
      "set()\n",
      "geh\n",
      "set()\n",
      "hinunter\n",
      "set()\n",
      "drei\n",
      "set()\n",
      "halt\n",
      "set()\n",
      "aus\n",
      "set()\n",
      "auf\n",
      "set()\n",
      "nein\n",
      "set()\n",
      "richtig\n",
      "set()\n",
      "öffne\n",
      "set()\n",
      "links\n",
      "set()\n"
     ]
    }
   ],
   "source": [
    "# find files which contain more than one keyword\n",
    "keywords_set = set([\"öffne\", \"hinunter\", \"drei\", \"ja\", \"nein\", \"links\", \"richtig\", \"auf\", \"aus\", \"halt\", \"geh\"])\n",
    "wavs = set()\n",
    "for kw in keywords_set:\n",
    "    kw_wavs = glob.glob(f\"../../alignment_processing/input/clips/{kw}/*.wav\")\n",
    "    kw_wavs = list(map(os.path.basename, kw_wavs))\n",
    "    kw_wavs = set(kw_wavs)\n",
    "    print(kw)\n",
    "    print(kw_wavs.intersection(wavs))\n",
    "    wavs.update(kw_wavs)"
   ]
  },
  {
   "cell_type": "code",
   "execution_count": 109,
   "metadata": {},
   "outputs": [],
   "source": [
    "raise ValueError(\"caution: renames a lot of files\")\n",
    "# rename files to include the keyword (temporarily)\n",
    "keywords_set = set([\"öffne\", \"hinunter\", \"drei\", \"ja\", \"nein\", \"links\", \"richtig\", \"auf\", \"aus\", \"halt\", \"geh\"])\n",
    "for kw in keywords_set:\n",
    "    kw_wavs = glob.glob(f\"../../alignment_processing/input/clips/{kw}/*.wav\")\n",
    "    kw_txts = glob.glob(f\"../../alignment_processing/input/clips/{kw}/*.txt\")\n",
    "    for f in kw_wavs:\n",
    "        dirname, filename = os.path.split(f)\n",
    "        newdest = dirname + os.path.sep + f\"{kw}_\" + filename\n",
    "        os.rename(f, newdest)\n",
    "    for f in kw_txts:\n",
    "        dirname, filename = os.path.split(f)\n",
    "        newdest = dirname + os.path.sep + f\"{kw}_\" + filename\n",
    "        os.rename(f, newdest)"
   ]
  },
  {
   "cell_type": "code",
   "execution_count": 115,
   "metadata": {},
   "outputs": [
    {
     "name": "stdout",
     "output_type": "stream",
     "text": [
      "../../alignment_processing/input/clips/offne/offne_common_voice_de_18826257.wav\n",
      "../../alignment_processing/input/clips/offne/offne_common_voice_de_18826257.wav\n"
     ]
    }
   ],
   "source": [
    "# get rid of the umlaut:\n",
    "#keywords_set = set([\"öffne\", \"hinunter\", \"drei\", \"ja\", \"nein\", \"links\", \"richtig\", \"auf\", \"aus\", \"halt\", \"geh\"])\n",
    "\n",
    "kw_wavs = glob.glob(f\"../../alignment_processing/input/clips/offne/*.wav\")\n",
    "for f in kw_wavs:\n",
    "    #newfile = f.replace(\"ö\", \"o\")\n",
    "    #os.rename(f, newfile)\n",
    "    print(f)\n",
    "    break\n",
    "kw_txts = glob.glob(f\"../../alignment_processing/input/clips/offne/*.txt\")\n",
    "for f in kw_wavs:\n",
    "    #newfile = f.replace(\"ö\", \"o\")\n",
    "    #os.rename(f, newfile)\n",
    "    print(f)\n",
    "    break"
   ]
  },
  {
   "cell_type": "markdown",
   "metadata": {},
   "source": [
    "```bash\n",
    "docker run --rm  -v /home/mark/tinyspeech_harvard/alignment_processing:/work/  -t montreal  bin/mfa_align --quiet /work/input /work/lexicon/de.dict /work/lexicon/german_prosodylab.zip /work/output/\n",
    "\n",
    "Setting up corpus information...\n",
    "^NNumber of speakers in corpus: 11, average number of utterances per speaker: 1062.3636363636363\n",
    "/home/mark/montreal-forced-aligner/lib/aligner/models.py:87: YAMLLoadWarning: calling yaml.load() without Loader=... is deprecated, as the default Loader is unsafe. Please read https://msg.pyyaml.org/load for full details.\n",
    "Traceback (most recent call last):\n",
    "  File \"aligner/command_line/align.py\", line 186, in <module>\n",
    "  File \"aligner/command_line/align.py\", line 142, in validate_args\n",
    "  File \"aligner/command_line/align.py\", line 88, in align_corpus\n",
    "  File \"aligner/models.py\", line 129, in validate\n",
    "aligner.exceptions.PronunciationAcousticMismatchError: There were phones in the dictionary that do not have acoustic models: \n",
    "[7] Failed to execute script align\n",
    "```\n",
    "\n",
    "Ok, guess I am using the wrong zip file? Trying `german_prosodylab_g2p.zip` instead:\n",
    "\n",
    "```bash\n",
    "docker run --rm  -v /home/mark/tinyspeech_harvard/alignment_processing:/work/  -t montreal  bin/mfa_align --quiet /work/input /work/lexicon/de.dict /work/lexicon/german_prosodylab_g2p.zip /work/output/\n",
    "\n",
    "Setting up corpus information...\n",
    "Number of speakers in corpus: 11, average number of utterances per speaker: 1062.3636363636363\n",
    "/home/mark/montreal-forced-aligner/lib/aligner/models.py:87: YAMLLoadWarning: calling yaml.load() without Loader=... is deprecated, as the default Loader is unsafe. Please read https://msg.pyyaml.org/load for full details.\n",
    "Creating dictionary information...\n",
    "Traceback (most recent call last):\n",
    "  File \"aligner/command_line/align.py\", line 186, in <module>\n",
    "  File \"aligner/command_line/align.py\", line 142, in validate_args\n",
    "  File \"aligner/command_line/align.py\", line 94, in align_corpus\n",
    "  File \"aligner/aligner/pretrained.py\", line 74, in __init__\n",
    "  File \"aligner/aligner/pretrained.py\", line 122, in setup\n",
    "  File \"aligner/aligner/base.py\", line 89, in setup\n",
    "  File \"aligner/corpus.py\", line 962, in initialize_corpus\n",
    "  File \"aligner/corpus.py\", line 765, in write\n",
    "  File \"aligner/corpus.py\", line 776, in _write_speak_utt\n",
    "  File \"aligner/corpus.py\", line 28, in output_mapping\n",
    "UnicodeEncodeError: 'utf-8' codec can't encode characters in position 0-1: surrogates not allowed\n",
    "[6] Failed to execute script align\n",
    "\n",
    "```\n",
    "\n",
    "Might be caused by `os.walk` running into a directory with an umlaut?\n",
    "\n",
    "Renaming the dir:\n",
    "`alignment_processing/input/clips$ mv öffne offne`\n",
    "\n",
    "Got farther\n",
    "\n",
    "```bash\n",
    "Setting up corpus information...\n",
    "Number of speakers in corpus: 11, average number of utterances per speaker: 1062.3636363636363\n",
    "/home/mark/montreal-forced-aligner/lib/aligner/models.py:87: YAMLLoadWarning: calling yaml.load() without Loader=... is deprecated, as the default Loader is unsafe. Please read https://msg.pyyaml.org/load for full details.\n",
    "Creating dictionary information...\n",
    "Traceback (most recent call last):\n",
    "  File \"aligner/command_line/align.py\", line 186, in <module>\n",
    "  File \"aligner/command_line/align.py\", line 142, in validate_args\n",
    "  File \"aligner/command_line/align.py\", line 94, in align_corpus\n",
    "  File \"aligner/aligner/pretrained.py\", line 74, in __init__\n",
    "  File \"aligner/aligner/pretrained.py\", line 122, in setup\n",
    "  File \"aligner/aligner/base.py\", line 89, in setup\n",
    "  File \"aligner/corpus.py\", line 962, in initialize_corpus\n",
    "  File \"aligner/corpus.py\", line 765, in write\n",
    "  File \"aligner/corpus.py\", line 776, in _write_speak_utt\n",
    "  File \"aligner/corpus.py\", line 28, in output_mapping\n",
    "UnicodeEncodeError: 'utf-8' codec can't encode characters in position 6-7: surrogates not allowed\n",
    "```\n",
    "\n",
    "still goofing though\n"
   ]
  },
  {
   "cell_type": "code",
   "execution_count": 149,
   "metadata": {},
   "outputs": [],
   "source": [
    "COMMON_VOICE = \"../../common_voice/en/clips/\"\n",
    "WORKDIR = \"../../alignment_processing/\""
   ]
  },
  {
   "cell_type": "code",
   "execution_count": 162,
   "metadata": {},
   "outputs": [
    {
     "name": "stdout",
     "output_type": "stream",
     "text": [
      "docker run --rm  -v /home/mark/tinyspeech_harvard/alignment_processing:/work/  -t montreal  bin/mfa_align -j 5 --quiet /work/input/clips/richtig/ /work/lexicon/de.dict /work/lexicon/german_prosodylab.zip /work/output/richtig/\n"
     ]
    },
    {
     "data": {
      "text/plain": [
       "['docker',\n",
       " 'run',\n",
       " '--rm',\n",
       " '-v',\n",
       " '/home/mark/tinyspeech_harvard/alignment_processing:/work/',\n",
       " '-t',\n",
       " 'montreal',\n",
       " 'bin/mfa_align',\n",
       " '-j',\n",
       " '5',\n",
       " '--quiet',\n",
       " '/work/input/clips/richtig/',\n",
       " '/work/lexicon/de.dict',\n",
       " '/work/lexicon/german_prosodylab.zip',\n",
       " '/work/output/richtig/']"
      ]
     },
     "execution_count": 162,
     "metadata": {},
     "output_type": "execute_result"
    }
   ],
   "source": [
    "abs_workdir = os.path.abspath(WORKDIR)\n",
    "\n",
    "# english\n",
    "# mfa = \"bin/mfa_align --quiet /work/input /work/lexicon/librispeech-lexicon.txt pretrained_models/english.zip /work/output/\"\n",
    "# german\n",
    "KEYWORD = \"richtig\"\n",
    "mfa = f\"bin/mfa_align -j 5 --quiet /work/input/clips/{KEYWORD}/ /work/lexicon/de.dict /work/lexicon/german_prosodylab.zip /work/output/{KEYWORD}/\"\n",
    "\n",
    "\n",
    "cmd = f\"\"\"docker run --rm \\\n",
    " -v {abs_workdir}:/work/ \\\n",
    " -t montreal \\\n",
    " {mfa}\"\"\"\n",
    "print(cmd)\n",
    "shlex.split(cmd)"
   ]
  },
  {
   "cell_type": "code",
   "execution_count": 58,
   "metadata": {},
   "outputs": [],
   "source": [
    "p = subprocess.Popen(\n",
    "    shlex.split(cmd),\n",
    "    stderr=subprocess.PIPE,\n",
    "    stdout=subprocess.PIPE,\n",
    ")"
   ]
  },
  {
   "cell_type": "code",
   "execution_count": 59,
   "metadata": {},
   "outputs": [
    {
     "name": "stdout",
     "output_type": "stream",
     "text": [
      "Setting up corpus information...\n",
      "Number of speakers in corpus: 1, average number of utterances per speaker: 15.0\n",
      "/home/mark/montreal-forced-aligner/lib/aligner/models.py:87: YAMLLoadWarning: calling yaml.load() without Loader=... is deprecated, as the default Loader is unsafe. Please read https://msg.pyyaml.org/load for full details.\n",
      "Creating dictionary information...\n",
      "Setting up training data...\n",
      "Calculating MFCCs...\n",
      "Calculating CMVN...\n",
      "Number of speakers in corpus: 1, average number of utterances per speaker: 15.0\n",
      "Done with setup.\n",
      "100% 2/2 [00:03<00:00,  1.84s/it]\n",
      "Done! Everything took 9.433974981307983 seconds\n",
      "  0\n"
     ]
    }
   ],
   "source": [
    "sout, serr = p.communicate()\n",
    "print(sout.decode(\"UTF-8\"), serr.decode(\"UTF-8\"), p.returncode)"
   ]
  },
  {
   "cell_type": "code",
   "execution_count": 117,
   "metadata": {},
   "outputs": [
    {
     "name": "stdout",
     "output_type": "stream",
     "text": [
      "625\n"
     ]
    }
   ],
   "source": [
    "tgs = glob.glob(f\"{WORKDIR}/output/halt/*.TextGrid\")\n",
    "print(len(tgs))"
   ]
  },
  {
   "cell_type": "markdown",
   "metadata": {},
   "source": [
    "Got this one wrong: `common_voice_en_18668331.mp3` - lot of noise in background"
   ]
  },
  {
   "cell_type": "code",
   "execution_count": 118,
   "metadata": {},
   "outputs": [
    {
     "name": "stdout",
     "output_type": "stream",
     "text": [
      "Interval(0.0, 1.16, None)\n",
      "Interval(1.16, 1.38, ach)\n",
      "Interval(1.38, 1.89, egal)\n",
      "Interval(1.89, 2.06, None)\n",
      "Interval(2.06, 2.23, dann)\n",
      "Interval(2.23, 2.51, nehme)\n",
      "Interval(2.51, 2.66, ich)\n",
      "Interval(2.66, 2.93, halt)\n",
      "Interval(2.93, 3.22, einen)\n",
      "Interval(3.22, 3.59, neuen)\n",
      "Interval(3.59, 4.464, None)\n"
     ]
    }
   ],
   "source": [
    "tg = textgrid.TextGrid.fromFile(tgs[0])\n",
    "\n",
    "for i in range(len(tg[0])):\n",
    "    print(tg[0][i])"
   ]
  },
  {
   "cell_type": "code",
   "execution_count": 66,
   "metadata": {},
   "outputs": [
    {
     "data": {
      "text/plain": [
       "(0.84, 1.13, 'öffne')"
      ]
     },
     "execution_count": 66,
     "metadata": {},
     "output_type": "execute_result"
    }
   ],
   "source": [
    "i = tg[0][2]\n",
    "i.minTime, i.maxTime, i.mark"
   ]
  },
  {
   "cell_type": "code",
   "execution_count": 69,
   "metadata": {},
   "outputs": [],
   "source": [
    "def extract_one_second(duration_s: float, start_s: float, end_s: float):\n",
    "    \"\"\"\n",
    "    return one second around the midpoint between start_s and end_s\n",
    "    \"\"\"\n",
    "    if duration_s < 1:\n",
    "        return (0, duration_s)\n",
    "\n",
    "    center_s = start_s + ((end_s - start_s) / 2.0)\n",
    "\n",
    "    new_start_s = center_s - 0.5\n",
    "    new_end_s = center_s + 0.5\n",
    "\n",
    "    if new_end_s > duration_s:\n",
    "        new_end_s = duration_s\n",
    "        new_start_s = duration_s - 1.0\n",
    "\n",
    "    if new_start_s < 0:\n",
    "        new_start_s = 0\n",
    "        new_end_s = np.minimum(duration_s, new_start_s + 1.0)\n",
    "\n",
    "#     print(\n",
    "#         \"start\",\n",
    "#         new_start_s,\n",
    "#         \"end\",\n",
    "#         new_end_s,\n",
    "#         \"\\nduration\",\n",
    "#         new_end_s - new_start_s,\n",
    "#         \"midpoint\",\n",
    "#         new_start_s + ((new_end_s - new_start_s) / 2.0),\n",
    "#     )\n",
    "    return (new_start_s, new_end_s)"
   ]
  },
  {
   "cell_type": "code",
   "execution_count": 75,
   "metadata": {},
   "outputs": [
    {
     "name": "stdout",
     "output_type": "stream",
     "text": [
      "../../alignment_processing//output/input/common_voice_de_18826257.TextGrid\n",
      "../../alignment_processing//output/input/common_voice_de_18666304.TextGrid\n",
      "../../alignment_processing//output/input/common_voice_de_18643584.TextGrid\n",
      "../../alignment_processing//output/input/common_voice_de_19012318.TextGrid\n",
      "../../alignment_processing//output/input/common_voice_de_18916371.TextGrid\n",
      "../../alignment_processing//output/input/common_voice_de_19027821.TextGrid\n",
      "../../alignment_processing//output/input/common_voice_de_18958253.TextGrid\n",
      "../../alignment_processing//output/input/common_voice_de_18601528.TextGrid\n",
      "../../alignment_processing//output/input/common_voice_de_18696772.TextGrid\n",
      "../../alignment_processing//output/input/common_voice_de_18624676.TextGrid\n",
      "../../alignment_processing//output/input/common_voice_de_18556969.TextGrid\n",
      "../../alignment_processing//output/input/common_voice_de_18525434.TextGrid\n",
      "../../alignment_processing//output/input/common_voice_de_18527803.TextGrid\n",
      "../../alignment_processing//output/input/common_voice_de_19153805.TextGrid\n",
      "../../alignment_processing//output/input/common_voice_de_18752770.TextGrid\n"
     ]
    }
   ],
   "source": [
    "for tgf in tgs:\n",
    "    tg = textgrid.TextGrid.fromFile(tgf)\n",
    "    print(tgf)\n",
    "    filename_noext = os.path.basename(os.path.splitext(tgf)[0])\n",
    "    for interval in tg[0]:\n",
    "        print(interval.mark)"
   ]
  },
  {
   "cell_type": "code",
   "execution_count": 184,
   "metadata": {},
   "outputs": [],
   "source": [
    "keywords_set = set([\"öffne\", \"hinunter\", \"drei\", \"ja\", \"nein\", \"links\", \"richtig\", \"auf\", \"aus\", \"halt\", \"geh\"])\n"
   ]
  },
  {
   "cell_type": "code",
   "execution_count": 199,
   "metadata": {},
   "outputs": [
    {
     "name": "stdout",
     "output_type": "stream",
     "text": [
      "867\n",
      "../../alignment_processing//input/clips/richtig/\n",
      "ix 0\n",
      "ix 115\n",
      "ix 230\n",
      "ix 345\n",
      "ix 460\n",
      "ix 575\n",
      "ix 690\n",
      "ix 805\n"
     ]
    }
   ],
   "source": [
    "KEYWORD = \"richtig\"\n",
    "tgs = glob.glob(f\"{WORKDIR}/output/{KEYWORD}/{KEYWORD}/*.TextGrid\")\n",
    "#tgs = glob.glob(f\"../../alignment_processing/output/halt/halt_textgrids/*.TextGrid\")\n",
    "sourcedir = f\"{WORKDIR}/input/clips/{KEYWORD}/\"\n",
    "print(len(tgs))\n",
    "print(sourcedir)\n",
    "\n",
    "PAD = True\n",
    "\n",
    "for ix,tgf in enumerate(tgs):\n",
    "    if ix % 115 == 0:\n",
    "        print(\"ix\",ix)\n",
    "    tg = textgrid.TextGrid.fromFile(tgf)\n",
    "    filename_noext = os.path.basename(os.path.splitext(tgf)[0])\n",
    "    for interval in tg[0]:\n",
    "        if interval.mark == KEYWORD:\n",
    "            start_s = interval.minTime\n",
    "            end_s = interval.maxTime\n",
    "            #print(start_s, end_s)\n",
    "            \n",
    "            wav_path = f\"../../alignment_processing/input/clips/{KEYWORD}/{filename_noext}.wav\"\n",
    "            duration = sox.file_info.duration(wav_path)\n",
    "            #if duration < 1:\n",
    "            #    logging.warning(f\"{keyword} clip ix {ix} shorter than 1s\")\n",
    "\n",
    "            dest = f\"../../alignment_processing/de_extractions_padding/{KEYWORD}/{filename_noext}.wav\"\n",
    "\n",
    "            \n",
    "            if not PAD:\n",
    "                # with surrounding context\n",
    "                start_s, end_s = extract_one_second(duration, start_s, end_s)\n",
    "            else:\n",
    "                if end_s - start_s < 1:\n",
    "                    pad_amt_s = (1. - (end_s - start_s))/2.\n",
    "                else: # utterance is already longer than 1s, trim instead\n",
    "                    start_s, end_s = extract_one_second(duration, start_s, end_s)\n",
    "                    pad_amt_s = 0\n",
    "            \n",
    "            \n",
    "            transformer = sox.Transformer()\n",
    "            # alrady 16K\n",
    "            #transformer.convert(samplerate=16000)  # from 48K mp3s\n",
    "            transformer.trim(start_s, end_s)\n",
    "            if not PAD:\n",
    "                transformer.fade(fade_in_len=0.1, fade_out_len=0.1)\n",
    "            else:\n",
    "                # use smaller fadein/fadeout since we are capturing just the word\n",
    "                # TODO(mmaz) is this appropriately sized?\n",
    "                transformer.fade(fade_in_len=0.025, fade_out_len=0.025)\n",
    "                transformer.pad(start_duration=pad_amt_s, end_duration=pad_amt_s)\n",
    "            transformer.build(wav_path, dest)\n",
    "            #print(dest)\n",
    "            break # TODO(mmaz) only select the first occurence of the desired wordmark from TextGrid"
   ]
  },
  {
   "cell_type": "code",
   "execution_count": 216,
   "metadata": {},
   "outputs": [
    {
     "name": "stdout",
     "output_type": "stream",
     "text": [
      "0  :  Ja, aber das Wachstum ist komplett auf Pump finanziert.\n",
      "1  :  Hätte ich mir ja auch denken können.\n",
      "2  :  Ja nee ist klar.\n",
      "3  :  Der Text lässt sich ja für unsere Zwecke adaptieren.\n",
      "4  :  ja\n",
      "5  :  Das ist ja fürchterlich mit diesen schwarzen Balken überall!\n",
      "6  :  ja\n",
      "7  :  Im Gegensatz zu Tränen und Schweiß ist Speichel nicht salzig, sonst hätte man ja auch ständig Durst.\n",
      "8  :  Kosmetik ist im Grunde genau so unnötig wie Werbung, weil sie ja eine Form der Werbung ist.\n",
      "9  :  ja\n"
     ]
    }
   ],
   "source": [
    "# listen randomly\n",
    "KEYWORD = \"ja\"\n",
    "clips = glob.glob(f\"../../alignment_processing/de_extractions_padding/{KEYWORD}/*.wav\")\n",
    "#clips = glob.glob(f\"../../alignment_processing/de_extractions/{KEYWORD}/*.wav\")\n",
    "random.shuffle(clips)\n",
    "for ix,e in enumerate(clips[:10]):\n",
    "    clip = pydub.AudioSegment.from_wav(e)\n",
    "    fn = f\"../../alignment_processing/input/clips/{KEYWORD}/\" + os.path.splitext(os.path.split(e)[1])[0] + \".txt\"\n",
    "    with open(fn, 'r') as fh:\n",
    "        print(ix, \" : \", fh.read())\n",
    "    play(clip)"
   ]
  },
  {
   "cell_type": "code",
   "execution_count": 223,
   "metadata": {},
   "outputs": [
    {
     "data": {
      "image/png": "[encoded data removed]",
      "text/plain": [
       "<Figure size 720x288 with 1 Axes>"
      ]
     },
     "metadata": {},
     "output_type": "display_data"
    }
   ],
   "source": [
    "# label counts\n",
    "wanted_words = [\"auf\", \"halt\", \"ja\", \"nein\", \"richtig\"]\n",
    "datadir = \"../../alignment_processing/de_extractions/\"\n",
    "counts = []\n",
    "for w in wanted_words:\n",
    "    counts.append(len(glob.glob(datadir + w + os.path.sep + \"*.wav\")))\n",
    "fig, ax = plt.subplots()\n",
    "ax.set_xticks(range(len(wanted_words)))\n",
    "ax.set_xticklabels(zip(wanted_words, counts))\n",
    "fig.patch.set_facecolor('white')\n",
    "#ax.set_ylim(0,2000)\n",
    "ax.bar(range(len(wanted_words)), counts);\n",
    "fig.set_size_inches(10,4)"
   ]
  },
  {
   "cell_type": "code",
   "execution_count": null,
   "metadata": {},
   "outputs": [],
   "source": [
    "row = samples[\"yes\"].sample(n=1)\n",
    "print(row.sentence.item())\n",
    "row"
   ]
  },
  {
   "cell_type": "code",
   "execution_count": 87,
   "metadata": {},
   "outputs": [],
   "source": [
    "wavs = glob.glob(\"/home/mark/tinyspeech_harvard/alignment_processing/input/*.wav\")\n",
    "txts = glob.glob(\"/home/mark/tinyspeech_harvard/alignment_processing/input/*.txt\")\n",
    "tgs = glob.glob(\"/home/mark/tinyspeech_harvard/alignment_processing/output/input/*.TextGrid\")\n",
    "for f in wavs + txts + tgs:\n",
    "    os.remove(f)\n",
    "try:\n",
    "    os.rmdir(\"/home/mark/tinyspeech_harvard/alignment_processing/output/input/\")\n",
    "except FileNotFoundError:\n",
    "    pass\n",
    "try:\n",
    "    os.remove(\"/home/mark/tinyspeech_harvard/alignment_processing/output/oovs_found.txt\")\n",
    "except FileNotFoundError:\n",
    "    pass\n",
    "try:\n",
    "    os.remove(\"/home/mark/tinyspeech_harvard/alignment_processing/output/utterance_oovs.txt\")\n",
    "except FileNotFoundError:\n",
    "    pass"
   ]
  },
  {
   "cell_type": "code",
   "execution_count": 28,
   "metadata": {},
   "outputs": [
    {
     "name": "stdout",
     "output_type": "stream",
     "text": [
      "../../common_voice/en/clips/common_voice_en_18483693.mp3\n",
      "../../alignment_processing//input/common_voice_en_18483693.txt\n"
     ]
    }
   ],
   "source": [
    "mp3_path = COMMON_VOICE + row.path.item()\n",
    "print(mp3_path)\n",
    "filename_noext = os.path.basename(os.path.splitext(mp3_path)[0])\n",
    "\n",
    "dest = f\"{WORKDIR}/input/{filename_noext}.wav\"\n",
    "\n",
    "transformer = sox.Transformer()\n",
    "transformer.convert(samplerate=16000)  # from 48K mp3s\n",
    "#transformer.trim(start_s, end_s)\n",
    "#transformer.fade(fade_in_len=0.1, fade_out_len=0.1)\n",
    "transformer.build(mp3_path, dest)\n",
    "\n",
    "utterance = row.sentence.item()\n",
    "transcription = f\"{WORKDIR}/input/{filename_noext}.txt\"\n",
    "print(transcription)\n",
    "with open(transcription, 'w') as fh:\n",
    "    fh.write(utterance)"
   ]
  },
  {
   "cell_type": "code",
   "execution_count": 134,
   "metadata": {},
   "outputs": [
    {
     "name": "stdout",
     "output_type": "stream",
     "text": [
      "11686\n"
     ]
    }
   ],
   "source": [
    "keywords_set = set([\"öffne\", \"hinunter\", \"drei\", \"ja\", \"nein\", \"links\", \"richtig\", \"auf\", \"aus\", \"halt\", \"geh\"])\n",
    "DATASET = \"../../eleven_word_dataset_de/clips/\"\n",
    "WORKDIR = \"../../alignment_de/\"\n",
    "\n",
    "to_process = []\n",
    "\n",
    "for kw in keywords_set:\n",
    "    clips = glob.glob(DATASET + kw + os.sep + \"*.wav\")\n",
    "    for clip in clips:\n",
    "        #print(clip)\n",
    "        dirname, filename = os.path.split(clip)\n",
    "        txt = dirname + os.path.sep + os.path.splitext(filename)[0] + \".txt\"\n",
    "        to_process.append((clip, txt))\n",
    "        #print(to_process)\n",
    "print(len(to_process))"
   ]
  },
  {
   "cell_type": "code",
   "execution_count": 139,
   "metadata": {},
   "outputs": [
    {
     "name": "stdout",
     "output_type": "stream",
     "text": [
      "docker run --rm  -v /home/mark/tinyspeech_harvard/alignment_de/:/work/  -t montreal  bin/mfa_align --quiet /work/input /work/lexicon/de.dict /work/lexicon/german_prosodylab.zip /work/output/\n"
     ]
    },
    {
     "data": {
      "text/plain": [
       "['docker',\n",
       " 'run',\n",
       " '--rm',\n",
       " '-v',\n",
       " '/home/mark/tinyspeech_harvard/alignment_de/:/work/',\n",
       " '-t',\n",
       " 'montreal',\n",
       " 'bin/mfa_align',\n",
       " '--quiet',\n",
       " '/work/input',\n",
       " '/work/lexicon/de.dict',\n",
       " '/work/lexicon/german_prosodylab.zip',\n",
       " '/work/output/']"
      ]
     },
     "execution_count": 139,
     "metadata": {},
     "output_type": "execute_result"
    }
   ],
   "source": [
    "mfa = \"bin/mfa_align --quiet /work/input /work/lexicon/de.dict /work/lexicon/german_prosodylab.zip /work/output/\"\n",
    "abs_workdir = \"/home/mark/tinyspeech_harvard/alignment_de/\"\n",
    "\n",
    "cmd = f\"\"\"docker run --rm \\\n",
    " -v {abs_workdir}:/work/ \\\n",
    " -t montreal \\\n",
    " {mfa}\"\"\"\n",
    "print(cmd)\n",
    "shlex.split(cmd)"
   ]
  },
  {
   "cell_type": "code",
   "execution_count": 137,
   "metadata": {},
   "outputs": [
    {
     "data": {
      "text/plain": [
       "'../../alignment_de/'"
      ]
     },
     "execution_count": 137,
     "metadata": {},
     "output_type": "execute_result"
    }
   ],
   "source": [
    "WORKDIR"
   ]
  },
  {
   "cell_type": "code",
   "execution_count": 147,
   "metadata": {},
   "outputs": [
    {
     "data": {
      "text/plain": [
       "12.984444444444444"
      ]
     },
     "execution_count": 147,
     "metadata": {},
     "output_type": "execute_result"
    }
   ],
   "source": [
    "(4 * len(to_process)) / 60 **2"
   ]
  },
  {
   "cell_type": "code",
   "execution_count": 145,
   "metadata": {},
   "outputs": [
    {
     "name": "stdout",
     "output_type": "stream",
     "text": [
      "common_voice_de_18353790.wav\n",
      "../../alignment_de/input/common_voice_de_18353790.wav ../../alignment_de/input/common_voice_de_18353790.txt\n",
      "Setting up corpus information...\n",
      "Number of speakers in corpus: 1, average number of utterances per speaker: 1.0\n",
      "/home/mark/montreal-forced-aligner/lib/aligner/models.py:87: YAMLLoadWarning: calling yaml.load() without Loader=... is deprecated, as the default Loader is unsafe. Please read https://msg.pyyaml.org/load for full details.\n",
      "Creating dictionary information...\n",
      "Setting up training data...\n",
      "Calculating MFCCs...\n",
      "Calculating CMVN...\n",
      "Number of speakers in corpus: 1, average number of utterances per speaker: 1.0\n",
      "Done with setup.\n",
      "100% 2/2 [00:01<00:00,  1.41it/s]\n",
      "Done! Everything took 4.184454679489136 seconds\n",
      "  0\n",
      "0:00:04.986833\n"
     ]
    }
   ],
   "source": [
    "raise ValueError(\"caution: modifies fs\")\n",
    "errors = []\n",
    "for ix, (wav,txt) in enumerate(to_process):\n",
    "    start = datetime.datetime.now()\n",
    "    shutil.copy2(wav, WORKDIR + \"/input\")\n",
    "    shutil.copy2(txt, WORKDIR + \"/input\")\n",
    "    \n",
    "    dirname, wav_filename = os.path.split(wav)\n",
    "    file_noext = os.path.splitext(wav_filename)[0]\n",
    "    print(wav_filename)\n",
    "    \n",
    "    tmp_wav = WORKDIR + \"input/\" + file_noext + \".wav\"\n",
    "    tmp_txt = WORKDIR + \"input/\" + file_noext + \".txt\"\n",
    "    print(tmp_wav, tmp_txt)\n",
    "    \n",
    "    p = subprocess.Popen(\n",
    "        shlex.split(cmd),\n",
    "        stderr=subprocess.PIPE,\n",
    "        stdout=subprocess.PIPE,\n",
    "    )\n",
    "    sout, serr = p.communicate()\n",
    "    print(sout.decode(\"UTF-8\"), serr.decode(\"UTF-8\"), p.returncode)\n",
    "    \n",
    "    if p.returncode != 0:\n",
    "        errors.append([ix, sout.decode(\"UTF-8\"), serr.decode(\"UTF-8\") ])\n",
    "        \n",
    "    #os.remove()\n",
    "    \n",
    "    wavs = glob.glob(\"/home/mark/tinyspeech_harvard/alignment_de/input/*.wav\")\n",
    "    txts = glob.glob(\"/home/mark/tinyspeech_harvard/alignment_de/input/*.txt\")\n",
    "    #tgs = glob.glob(\"/home/mark/tinyspeech_harvard/alignment_de/output/input/*.TextGrid\")\n",
    "    tgs = []\n",
    "    for f in wavs + txts + tgs:\n",
    "        os.remove(f)\n",
    "    try:\n",
    "        os.rmdir(\"/home/mark/tinyspeech_harvard/alignment_de/output/input/\")\n",
    "    except FileNotFoundError:\n",
    "        pass\n",
    "    try:\n",
    "        os.remove(\"/home/mark/tinyspeech_harvard/alignment_de/output/oovs_found.txt\")\n",
    "    except FileNotFoundError:\n",
    "        pass\n",
    "    try:\n",
    "        os.remove(\"/home/mark/tinyspeech_harvard/alignment_de/output/utterance_oovs.txt\")\n",
    "    except FileNotFoundError:\n",
    "        pass\n",
    "    \n",
    "    end = datetime.datetime.now()\n",
    "    print(end - start)\n",
    "    break"
   ]
  }
 ],
 "metadata": {
  "kernelspec": {
   "display_name": "Python 3",
   "language": "python",
   "name": "python3"
  },
  "language_info": {
   "codemirror_mode": {
    "name": "ipython",
    "version": 3
   },
   "file_extension": ".py",
   "mimetype": "text/x-python",
   "name": "python",
   "nbconvert_exporter": "python",
   "pygments_lexer": "ipython3",
   "version": "3.7.9"
  }
 },
 "nbformat": 4,
 "nbformat_minor": 4
}
