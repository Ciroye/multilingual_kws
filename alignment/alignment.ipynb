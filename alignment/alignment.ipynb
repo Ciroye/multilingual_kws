{
 "cells": [
  {
   "cell_type": "code",
   "execution_count": 1,
   "metadata": {},
   "outputs": [],
   "source": [
    "import pandas as pd\n",
    "import logging\n",
    "import subprocess\n",
    "import os\n",
    "import shutil\n",
    "import shlex\n",
    "import glob\n",
    "import textgrid\n",
    "import sox"
   ]
  },
  {
   "cell_type": "code",
   "execution_count": 2,
   "metadata": {},
   "outputs": [],
   "source": [
    "keywords_set = set([\"up\", \"down\", \"three\", \"yes\", \"no\", \"left\", \"right\", \"on\", \"off\", \"stop\", \"go\"])"
   ]
  },
  {
   "cell_type": "code",
   "execution_count": 3,
   "metadata": {},
   "outputs": [
    {
     "name": "stdout",
     "output_type": "stream",
     "text": [
      "112008\n"
     ]
    }
   ],
   "source": [
    "keywords = pd.read_csv(\"../keywords_listen.tsv\", sep=\"\\t\")\n",
    "print(keywords.shape[0])"
   ]
  },
  {
   "cell_type": "code",
   "execution_count": 4,
   "metadata": {},
   "outputs": [
    {
     "name": "stdout",
     "output_type": "stream",
     "text": [
      "Keyword up : 100\n",
      "Keyword three : 100\n",
      "Keyword off : 100\n",
      "Keyword right : 100\n",
      "Keyword left : 100\n",
      "Keyword yes : 100\n",
      "Keyword on : 100\n",
      "Keyword go : 100\n",
      "Keyword down : 100\n",
      "Keyword no : 100\n",
      "Keyword stop : 100\n"
     ]
    }
   ],
   "source": [
    "# select examples each from keywords where the column [\"keywords\"] == True\n",
    "NUM_SAMPLES = 100\n",
    "samples = {}\n",
    "for k in keywords_set:\n",
    "    if keywords[k].value_counts().loc[True] > NUM_SAMPLES:\n",
    "        #are there more than NUM_SAMPLES examples?\n",
    "        samples[k] = keywords[keywords[k]].sample(n=NUM_SAMPLES)\n",
    "    else:\n",
    "        # use them all\n",
    "        samples[k] = keywords[keywords[k]]\n",
    "        logging.warning(f\"for keyword {k}, there are not enough examples to sample\")\n",
    "    print(\"Keyword\", k, \":\", samples[k].shape[0])    \n",
    "    \n",
    "# clean up each df by removing the keyword columns\n",
    "for k in samples.keys():\n",
    "    samples[k].drop(columns=keywords_set, inplace=True)"
   ]
  },
  {
   "cell_type": "code",
   "execution_count": 5,
   "metadata": {},
   "outputs": [
    {
     "data": {
      "text/html": [
       "<div>\n",
       "<style scoped>\n",
       "    .dataframe tbody tr th:only-of-type {\n",
       "        vertical-align: middle;\n",
       "    }\n",
       "\n",
       "    .dataframe tbody tr th {\n",
       "        vertical-align: top;\n",
       "    }\n",
       "\n",
       "    .dataframe thead th {\n",
       "        text-align: right;\n",
       "    }\n",
       "</style>\n",
       "<table border=\"1\" class=\"dataframe\">\n",
       "  <thead>\n",
       "    <tr style=\"text-align: right;\">\n",
       "      <th></th>\n",
       "      <th>client_id</th>\n",
       "      <th>path</th>\n",
       "      <th>sentence</th>\n",
       "      <th>up_votes</th>\n",
       "      <th>down_votes</th>\n",
       "      <th>age</th>\n",
       "      <th>gender</th>\n",
       "      <th>accent</th>\n",
       "    </tr>\n",
       "  </thead>\n",
       "  <tbody>\n",
       "    <tr>\n",
       "      <th>36427</th>\n",
       "      <td>d3360af4c533a298411d4666ea84b8fafa928add9a8fd5...</td>\n",
       "      <td>common_voice_en_498172.mp3</td>\n",
       "      <td>Yes, that's what love is.</td>\n",
       "      <td>2</td>\n",
       "      <td>0</td>\n",
       "      <td>thirties</td>\n",
       "      <td>male</td>\n",
       "      <td>us</td>\n",
       "    </tr>\n",
       "    <tr>\n",
       "      <th>22852</th>\n",
       "      <td>7f0f33a88f90b8b1dba2746b63dcc6057a63503c553bc3...</td>\n",
       "      <td>common_voice_en_18457232.mp3</td>\n",
       "      <td>Yes, Saturday should be fine.</td>\n",
       "      <td>2</td>\n",
       "      <td>0</td>\n",
       "      <td>NaN</td>\n",
       "      <td>NaN</td>\n",
       "      <td>NaN</td>\n",
       "    </tr>\n",
       "    <tr>\n",
       "      <th>94174</th>\n",
       "      <td>90a2539a7010c22f8d1379231f2b3e5829a0e645060d82...</td>\n",
       "      <td>common_voice_en_17892065.mp3</td>\n",
       "      <td>Yes, this is the right place.</td>\n",
       "      <td>2</td>\n",
       "      <td>0</td>\n",
       "      <td>fourties</td>\n",
       "      <td>male</td>\n",
       "      <td>NaN</td>\n",
       "    </tr>\n",
       "    <tr>\n",
       "      <th>84366</th>\n",
       "      <td>344908c02bd9ae437d19d5b7ba3fe238a770da115d0a54...</td>\n",
       "      <td>common_voice_en_18598786.mp3</td>\n",
       "      <td>\"Yes,\" he exclaimed, \"what have you done?\"</td>\n",
       "      <td>2</td>\n",
       "      <td>0</td>\n",
       "      <td>thirties</td>\n",
       "      <td>male</td>\n",
       "      <td>us</td>\n",
       "    </tr>\n",
       "    <tr>\n",
       "      <th>50878</th>\n",
       "      <td>cb5b2099e6c052672cbe9cb4f4118266e16ddd09060216...</td>\n",
       "      <td>common_voice_en_17255675.mp3</td>\n",
       "      <td>Yes, that is what I was thinking too.</td>\n",
       "      <td>2</td>\n",
       "      <td>0</td>\n",
       "      <td>fifties</td>\n",
       "      <td>male</td>\n",
       "      <td>england</td>\n",
       "    </tr>\n",
       "    <tr>\n",
       "      <th>...</th>\n",
       "      <td>...</td>\n",
       "      <td>...</td>\n",
       "      <td>...</td>\n",
       "      <td>...</td>\n",
       "      <td>...</td>\n",
       "      <td>...</td>\n",
       "      <td>...</td>\n",
       "      <td>...</td>\n",
       "    </tr>\n",
       "    <tr>\n",
       "      <th>20473</th>\n",
       "      <td>97ea49f9346daf626d1526914b4f5d40e094a450421406...</td>\n",
       "      <td>common_voice_en_17265425.mp3</td>\n",
       "      <td>Yes, this is the right place.</td>\n",
       "      <td>2</td>\n",
       "      <td>0</td>\n",
       "      <td>NaN</td>\n",
       "      <td>NaN</td>\n",
       "      <td>NaN</td>\n",
       "    </tr>\n",
       "    <tr>\n",
       "      <th>33562</th>\n",
       "      <td>a9fc8a211566e63b0b60e124c5ed5b0ae01d3640699a80...</td>\n",
       "      <td>common_voice_en_17270605.mp3</td>\n",
       "      <td>Yes, it would be.</td>\n",
       "      <td>2</td>\n",
       "      <td>1</td>\n",
       "      <td>fourties</td>\n",
       "      <td>male</td>\n",
       "      <td>us</td>\n",
       "    </tr>\n",
       "    <tr>\n",
       "      <th>102997</th>\n",
       "      <td>379dd19cb981e4e0c55e088d74083093ee704d0d2332e6...</td>\n",
       "      <td>common_voice_en_18536587.mp3</td>\n",
       "      <td>Yes, we know — what do we know, monsieur?</td>\n",
       "      <td>2</td>\n",
       "      <td>0</td>\n",
       "      <td>fourties</td>\n",
       "      <td>male</td>\n",
       "      <td>australia</td>\n",
       "    </tr>\n",
       "    <tr>\n",
       "      <th>80518</th>\n",
       "      <td>a7b1db5f82512a77c669d789c4d8d94060eca2838e3ffa...</td>\n",
       "      <td>common_voice_en_18649833.mp3</td>\n",
       "      <td>Yes, I saw Angela's point of view.</td>\n",
       "      <td>2</td>\n",
       "      <td>0</td>\n",
       "      <td>thirties</td>\n",
       "      <td>male</td>\n",
       "      <td>us</td>\n",
       "    </tr>\n",
       "    <tr>\n",
       "      <th>110350</th>\n",
       "      <td>b419faab633f2099c6405ff157b4d9fb5675219570f268...</td>\n",
       "      <td>common_voice_en_18409800.mp3</td>\n",
       "      <td>Yes, I think it will work.</td>\n",
       "      <td>2</td>\n",
       "      <td>0</td>\n",
       "      <td>thirties</td>\n",
       "      <td>male</td>\n",
       "      <td>us</td>\n",
       "    </tr>\n",
       "  </tbody>\n",
       "</table>\n",
       "<p>100 rows × 8 columns</p>\n",
       "</div>"
      ],
      "text/plain": [
       "                                                client_id  \\\n",
       "36427   d3360af4c533a298411d4666ea84b8fafa928add9a8fd5...   \n",
       "22852   7f0f33a88f90b8b1dba2746b63dcc6057a63503c553bc3...   \n",
       "94174   90a2539a7010c22f8d1379231f2b3e5829a0e645060d82...   \n",
       "84366   344908c02bd9ae437d19d5b7ba3fe238a770da115d0a54...   \n",
       "50878   cb5b2099e6c052672cbe9cb4f4118266e16ddd09060216...   \n",
       "...                                                   ...   \n",
       "20473   97ea49f9346daf626d1526914b4f5d40e094a450421406...   \n",
       "33562   a9fc8a211566e63b0b60e124c5ed5b0ae01d3640699a80...   \n",
       "102997  379dd19cb981e4e0c55e088d74083093ee704d0d2332e6...   \n",
       "80518   a7b1db5f82512a77c669d789c4d8d94060eca2838e3ffa...   \n",
       "110350  b419faab633f2099c6405ff157b4d9fb5675219570f268...   \n",
       "\n",
       "                                path  \\\n",
       "36427     common_voice_en_498172.mp3   \n",
       "22852   common_voice_en_18457232.mp3   \n",
       "94174   common_voice_en_17892065.mp3   \n",
       "84366   common_voice_en_18598786.mp3   \n",
       "50878   common_voice_en_17255675.mp3   \n",
       "...                              ...   \n",
       "20473   common_voice_en_17265425.mp3   \n",
       "33562   common_voice_en_17270605.mp3   \n",
       "102997  common_voice_en_18536587.mp3   \n",
       "80518   common_voice_en_18649833.mp3   \n",
       "110350  common_voice_en_18409800.mp3   \n",
       "\n",
       "                                          sentence  up_votes  down_votes  \\\n",
       "36427                    Yes, that's what love is.         2           0   \n",
       "22852                Yes, Saturday should be fine.         2           0   \n",
       "94174                Yes, this is the right place.         2           0   \n",
       "84366   \"Yes,\" he exclaimed, \"what have you done?\"         2           0   \n",
       "50878        Yes, that is what I was thinking too.         2           0   \n",
       "...                                            ...       ...         ...   \n",
       "20473                Yes, this is the right place.         2           0   \n",
       "33562                            Yes, it would be.         2           1   \n",
       "102997   Yes, we know — what do we know, monsieur?         2           0   \n",
       "80518           Yes, I saw Angela's point of view.         2           0   \n",
       "110350                  Yes, I think it will work.         2           0   \n",
       "\n",
       "             age gender     accent  \n",
       "36427   thirties   male         us  \n",
       "22852        NaN    NaN        NaN  \n",
       "94174   fourties   male        NaN  \n",
       "84366   thirties   male         us  \n",
       "50878    fifties   male    england  \n",
       "...          ...    ...        ...  \n",
       "20473        NaN    NaN        NaN  \n",
       "33562   fourties   male         us  \n",
       "102997  fourties   male  australia  \n",
       "80518   thirties   male         us  \n",
       "110350  thirties   male         us  \n",
       "\n",
       "[100 rows x 8 columns]"
      ]
     },
     "execution_count": 5,
     "metadata": {},
     "output_type": "execute_result"
    }
   ],
   "source": [
    "samples[\"yes\"]"
   ]
  },
  {
   "cell_type": "code",
   "execution_count": 7,
   "metadata": {},
   "outputs": [
    {
     "name": "stdout",
     "output_type": "stream",
     "text": [
      "/home/mark/tinyspeech_harvard/tinyspeech/alignment\n"
     ]
    }
   ],
   "source": [
    "print(os.getcwd())"
   ]
  },
  {
   "cell_type": "code",
   "execution_count": 6,
   "metadata": {},
   "outputs": [],
   "source": [
    "COMMON_VOICE = \"../../common_voice/en/clips/\"\n",
    "WORKDIR = \"../../alignment_processing/\""
   ]
  },
  {
   "cell_type": "code",
   "execution_count": 8,
   "metadata": {},
   "outputs": [
    {
     "name": "stdout",
     "output_type": "stream",
     "text": [
      "docker run --rm -v /home/mark/tinyspeech_harvard/alignment_processing:/work/           -v /home/mark/tinyspeech_harvard/tinyspeech/alignment:/lexicon/ -t montreal           bin/mfa_align /work/input /lexicon/librispeech-lexicon.txt pretrained_models/english.zip /work/output/\n"
     ]
    },
    {
     "data": {
      "text/plain": [
       "['docker',\n",
       " 'run',\n",
       " '--rm',\n",
       " '-v',\n",
       " '/home/mark/tinyspeech_harvard/alignment_processing:/work/',\n",
       " '-v',\n",
       " '/home/mark/tinyspeech_harvard/tinyspeech/alignment:/lexicon/',\n",
       " '-t',\n",
       " 'montreal',\n",
       " 'bin/mfa_align',\n",
       " '/work/input',\n",
       " '/lexicon/librispeech-lexicon.txt',\n",
       " 'pretrained_models/english.zip',\n",
       " '/work/output/']"
      ]
     },
     "execution_count": 8,
     "metadata": {},
     "output_type": "execute_result"
    }
   ],
   "source": [
    "alignment_dir = os.path.abspath(\".\")\n",
    "abs_workdir = os.path.abspath(WORKDIR)\n",
    "cmd = f\"\"\"docker run --rm -v {abs_workdir}:/work/  \\\n",
    "         -v {alignment_dir}:/lexicon/ -t montreal  \\\n",
    "         bin/mfa_align /work/input /lexicon/librispeech-lexicon.txt pretrained_models/english.zip /work/output/\"\"\"\n",
    "print(cmd)\n",
    "shlex.split(cmd)"
   ]
  },
  {
   "cell_type": "code",
   "execution_count": 37,
   "metadata": {},
   "outputs": [],
   "source": [
    "p = subprocess.Popen(\n",
    "    shlex.split(cmd),\n",
    "    stderr=subprocess.PIPE,\n",
    "    stdout=subprocess.PIPE,\n",
    ")"
   ]
  },
  {
   "cell_type": "code",
   "execution_count": 38,
   "metadata": {},
   "outputs": [
    {
     "name": "stdout",
     "output_type": "stream",
     "text": [
      "Setting up corpus information...\n",
      "Number of speakers in corpus: 1, average number of utterances per speaker: 1.0\n",
      "/home/mark/montreal-forced-aligner/lib/aligner/models.py:87: YAMLLoadWarning: calling yaml.load() without Loader=... is deprecated, as the default Loader is unsafe. Please read https://msg.pyyaml.org/load for full details.\n",
      "Creating dictionary information...\n",
      "Setting up training data...\n",
      "Calculating MFCCs...\n",
      "Calculating CMVN...\n",
      "Number of speakers in corpus: 1, average number of utterances per speaker: 1.0\n",
      "Done with setup.\n",
      "100% 2/2 [00:01<00:00,  1.64it/s]\n",
      "Done! Everything took 3.6235108375549316 seconds\n",
      "  0\n"
     ]
    }
   ],
   "source": [
    "sout, serr = p.communicate()\n",
    "print(sout.decode(\"UTF-8\"), serr.decode(\"UTF-8\"), p.returncode)"
   ]
  },
  {
   "cell_type": "code",
   "execution_count": 40,
   "metadata": {},
   "outputs": [
    {
     "data": {
      "text/plain": [
       "['../../alignment_processing//output/input/common_voice_en_19620878.TextGrid']"
      ]
     },
     "execution_count": 40,
     "metadata": {},
     "output_type": "execute_result"
    }
   ],
   "source": [
    "tgs = glob.glob(f\"{WORKDIR}/output/input/*.TextGrid\")\n",
    "tgs"
   ]
  },
  {
   "cell_type": "markdown",
   "metadata": {},
   "source": [
    "Got this one wrong: `common_voice_en_18668331.mp3` - lot of noise in background"
   ]
  },
  {
   "cell_type": "code",
   "execution_count": 41,
   "metadata": {},
   "outputs": [
    {
     "name": "stdout",
     "output_type": "stream",
     "text": [
      "Interval(0.0, 1.11, None)\n",
      "Interval(1.11, 1.22, the)\n",
      "Interval(1.22, 1.79, monster)\n",
      "Interval(1.79, 2.15, tells)\n",
      "Interval(2.15, 2.75, henry)\n",
      "Interval(2.75, 2.97, and)\n",
      "Interval(2.97, 3.62, elizabeth)\n",
      "Interval(3.62, 4.34, yes)\n",
      "Interval(4.34, 5.64, None)\n"
     ]
    }
   ],
   "source": [
    "tg = textgrid.TextGrid.fromFile(tgs[0])\n",
    "\n",
    "for i in range(len(tg[0])):\n",
    "    print(tg[0][i])"
   ]
  },
  {
   "cell_type": "code",
   "execution_count": 35,
   "metadata": {},
   "outputs": [
    {
     "data": {
      "text/html": [
       "<div>\n",
       "<style scoped>\n",
       "    .dataframe tbody tr th:only-of-type {\n",
       "        vertical-align: middle;\n",
       "    }\n",
       "\n",
       "    .dataframe tbody tr th {\n",
       "        vertical-align: top;\n",
       "    }\n",
       "\n",
       "    .dataframe thead th {\n",
       "        text-align: right;\n",
       "    }\n",
       "</style>\n",
       "<table border=\"1\" class=\"dataframe\">\n",
       "  <thead>\n",
       "    <tr style=\"text-align: right;\">\n",
       "      <th></th>\n",
       "      <th>client_id</th>\n",
       "      <th>path</th>\n",
       "      <th>sentence</th>\n",
       "      <th>up_votes</th>\n",
       "      <th>down_votes</th>\n",
       "      <th>age</th>\n",
       "      <th>gender</th>\n",
       "      <th>accent</th>\n",
       "    </tr>\n",
       "  </thead>\n",
       "  <tbody>\n",
       "    <tr>\n",
       "      <th>27556</th>\n",
       "      <td>4446019f2b7fe613de60a3b080993693ea6f453be9ffb6...</td>\n",
       "      <td>common_voice_en_19620878.mp3</td>\n",
       "      <td>The Monster tells Henry and Elizabeth Yes!</td>\n",
       "      <td>2</td>\n",
       "      <td>0</td>\n",
       "      <td>sixties</td>\n",
       "      <td>female</td>\n",
       "      <td>us</td>\n",
       "    </tr>\n",
       "  </tbody>\n",
       "</table>\n",
       "</div>"
      ],
      "text/plain": [
       "                                               client_id  \\\n",
       "27556  4446019f2b7fe613de60a3b080993693ea6f453be9ffb6...   \n",
       "\n",
       "                               path  \\\n",
       "27556  common_voice_en_19620878.mp3   \n",
       "\n",
       "                                         sentence  up_votes  down_votes  \\\n",
       "27556  The Monster tells Henry and Elizabeth Yes!         2           0   \n",
       "\n",
       "           age  gender accent  \n",
       "27556  sixties  female     us  "
      ]
     },
     "execution_count": 35,
     "metadata": {},
     "output_type": "execute_result"
    }
   ],
   "source": [
    "row = samples[\"yes\"].sample(n=1)\n",
    "row"
   ]
  },
  {
   "cell_type": "code",
   "execution_count": 31,
   "metadata": {},
   "outputs": [],
   "source": [
    "wavs = glob.glob(\"/home/mark/tinyspeech_harvard/alignment_processing/input/*.wav\")\n",
    "txts = glob.glob(\"/home/mark/tinyspeech_harvard/alignment_processing/input/*.txt\")\n",
    "tgs = glob.glob(\"/home/mark/tinyspeech_harvard/alignment_processing/output/input/*.TextGrid\")\n",
    "for f in wavs + txts + tgs:\n",
    "    os.remove(f)\n",
    "try:\n",
    "    os.rmdir(\"/home/mark/tinyspeech_harvard/alignment_processing/output/input/\")\n",
    "except FileNotFoundError:\n",
    "    pass\n",
    "try:\n",
    "    os.remove(\"/home/mark/tinyspeech_harvard/alignment_processing/output/oovs_found.txt\")\n",
    "except FileNotFoundError:\n",
    "    pass"
   ]
  },
  {
   "cell_type": "code",
   "execution_count": 36,
   "metadata": {},
   "outputs": [
    {
     "name": "stdout",
     "output_type": "stream",
     "text": [
      "../../common_voice/en/clips/common_voice_en_19620878.mp3\n",
      "../../alignment_processing//input/common_voice_en_19620878.txt\n"
     ]
    }
   ],
   "source": [
    "mp3_path = COMMON_VOICE + row.path.item()\n",
    "print(mp3_path)\n",
    "filename_noext = os.path.basename(os.path.splitext(mp3_path)[0])\n",
    "\n",
    "dest = f\"{WORKDIR}/input/{filename_noext}.wav\"\n",
    "\n",
    "transformer = sox.Transformer()\n",
    "transformer.convert(samplerate=16000)  # from 48K mp3s\n",
    "#transformer.trim(start_s, end_s)\n",
    "#transformer.fade(fade_in_len=0.1, fade_out_len=0.1)\n",
    "transformer.build(mp3_path, dest)\n",
    "\n",
    "utterance = row.sentence.item()\n",
    "transcription = f\"{WORKDIR}/input/{filename_noext}.txt\"\n",
    "print(transcription)\n",
    "with open(transcription, 'w') as fh:\n",
    "    fh.write(utterance)"
   ]
  }
 ],
 "metadata": {
  "kernelspec": {
   "display_name": "Python 3",
   "language": "python",
   "name": "python3"
  },
  "language_info": {
   "codemirror_mode": {
    "name": "ipython",
    "version": 3
   },
   "file_extension": ".py",
   "mimetype": "text/x-python",
   "name": "python",
   "nbconvert_exporter": "python",
   "pygments_lexer": "ipython3",
   "version": "3.7.9"
  }
 },
 "nbformat": 4,
 "nbformat_minor": 4
}
